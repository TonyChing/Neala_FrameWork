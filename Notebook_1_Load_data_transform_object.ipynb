{
 "cells": [
  {
   "cell_type": "code",
   "execution_count": 1,
   "metadata": {},
   "outputs": [],
   "source": [
    "import numpy as np\n",
    "import matplotlib.pyplot as plt\n",
    "from scipy.io import loadmat\n",
    "from scipy.signal import butter, lfilter , filtfilt\n",
    "import pandas as pd\n",
    "import scipy as sp\n",
    "import os\n",
    "import sys\n",
    "import seaborn as sb \n",
    "from matplotlib import cm\n",
    "\n",
    "import pickle"
   ]
  },
  {
   "cell_type": "markdown",
   "metadata": {},
   "source": [
    "# Section A"
   ]
  },
  {
   "cell_type": "markdown",
   "metadata": {},
   "source": [
    "## Load the data"
   ]
  },
  {
   "cell_type": "code",
   "execution_count": 2,
   "metadata": {},
   "outputs": [],
   "source": [
    "# Root folder for the data\n",
    "data_folder = \"/Users/nealarohner/Desktop/Projectome_Finder/code/Neala_Master_Thesis/data/raw_objects\"\n",
    "#Load the data\n",
    "subject = 'MR012'\n",
    "data_file = 'MR012_FM_aligned.mat'\n",
    "data_file_path = os.path.join(data_folder,data_file)\n",
    "verbose=0\n",
    "data_key='data'\n",
    "amplitudes_key='amplitudes'\n"
   ]
  },
  {
   "cell_type": "code",
   "execution_count": 3,
   "metadata": {},
   "outputs": [],
   "source": [
    "root_data_matlab_struct = loadmat(data_file_path,struct_as_record=False,squeeze_me=True)\n",
    "root_data_re_struct = loadmat(data_file_path)\n",
    "# Because of the saving from Matlab there are arrays of size 1 containing the data\n",
    "data_raw = root_data_re_struct[data_key][0][0]\n",
    "# Not very pretty but it extracts the electrodes configuration names \n",
    "elec_names = root_data_re_struct[data_key].dtype.names\n",
    "# As well as the recorded muscles names\n",
    "muscle_and_other_names = data_raw[0][0][0].dtype.names"
   ]
  },
  {
   "cell_type": "code",
   "execution_count": 4,
   "metadata": {},
   "outputs": [],
   "source": [
    "n_elec_configs = len(elec_names) #this is not the same as list_elecs! (since it has more configurations?)\n",
    "n_muscles_and_other = len(muscle_and_other_names) #this is not the same as len(list_muscle_or_other_elec_i)"
   ]
  },
  {
   "cell_type": "code",
   "execution_count": 5,
   "metadata": {
    "scrolled": true
   },
   "outputs": [],
   "source": [
    "list_elec_config_dfs = []\n",
    "\n",
    "for i_elec_config in range(n_elec_configs):       \n",
    "    elec_config_i = elec_names[i_elec_config]\n",
    "    if verbose: print(elec_config_i)\n",
    "    elect_config_i_data = data_raw[elec_config_i][0,0] \n",
    "    list_muscle_and_other_elec_config_dfs = []\n",
    "    list_amplitudes_elec_config=[]\n",
    "    for i_muscle_and_other in range(n_muscles_and_other):\n",
    "        muscle_and_other_i = muscle_and_other_names[i_muscle_and_other]\n",
    "        if verbose: print(muscle_and_other_i)\n",
    "        muscle_and_other_i_data = elect_config_i_data[muscle_and_other_i]\n",
    "        n_trials_elec_muscle_and_other_i = np.shape(muscle_and_other_i_data)[-1]\n",
    "        if verbose: print(\"N_trials\",n_trials_elec_muscle_and_other_i)\n",
    "        if muscle_and_other_i==amplitudes_key:\n",
    "            # If it is the special case of amplitudes\n",
    "            list_amplitudes_elec_config = muscle_and_other_i_data[0,:]      \n",
    "        else:\n",
    "            # Not amplitudes\n",
    "            list_trial_muscle_and_other_elec_config_dfs = []\n",
    "            for i_trial_elec_muscle_and_other in range(n_trials_elec_muscle_and_other_i):\n",
    "                if verbose>1: print(\"trial\",i_trial_elec_muscle_and_other)\n",
    "                trial_muscle_and_other_i_data = muscle_and_other_i_data[0,i_trial_elec_muscle_and_other][0,:]\n",
    "                n_time_points_trial = len(trial_muscle_and_other_i_data)\n",
    "                df_trial_muscle_and_other_i_data = pd.DataFrame(data=[[trial_muscle_and_other_i_data]],columns=['Raw'])\n",
    "                df_trial_muscle_and_other_i_data['Time_points'] = n_time_points_trial\n",
    "                df_trial_muscle_and_other_i_data['Muscle_or_other'] = muscle_and_other_i\n",
    "                df_trial_muscle_and_other_i_data['Elec_config'] = elec_config_i\n",
    "                df_trial_muscle_and_other_i_data['Subject'] = subject\n",
    "                list_trial_muscle_and_other_elec_config_dfs.append(df_trial_muscle_and_other_i_data)\n",
    "            if len(list_trial_muscle_and_other_elec_config_dfs)>0:\n",
    "                df_muscle_or_others = pd.concat(list_trial_muscle_and_other_elec_config_dfs, ignore_index=True)\n",
    "                df_muscle_or_others.reset_index(inplace=True)\n",
    "                df_muscle_or_others = df_muscle_or_others.rename(columns = {'index':'Trial_number'})\n",
    "                list_muscle_and_other_elec_config_dfs.append(df_muscle_or_others)\n",
    "    # Adds the amplitude to each trial\n",
    "    n_muscles_and_other_elec_config_dfs = len(list_muscle_and_other_elec_config_dfs)\n",
    "    for i_muscles_and_other_elec_config_df in range(n_muscles_and_other_elec_config_dfs):\n",
    "        muscles_and_other_elec_config_df_i = list_muscle_and_other_elec_config_dfs[i_muscles_and_other_elec_config_df]\n",
    "        muscles_and_other_elec_config_df_i['Amplitudes']=list_amplitudes_elec_config\n",
    "        list_muscle_and_other_elec_config_dfs[i_muscles_and_other_elec_config_df] = muscles_and_other_elec_config_df_i\n",
    "    if len(list_muscle_and_other_elec_config_dfs)>0:\n",
    "        df_elec_config = pd.concat(list_muscle_and_other_elec_config_dfs, ignore_index=True)\n",
    "        list_elec_config_dfs.append(df_elec_config)\n",
    "if len(list_elec_config_dfs)>0:\n",
    "    df_subject = pd.concat(list_elec_config_dfs, ignore_index=True)"
   ]
  },
  {
   "cell_type": "code",
   "execution_count": 6,
   "metadata": {},
   "outputs": [],
   "source": [
    "# Only keeping the ones that got data\n",
    "df_subject_no_empty = df_subject.where(df_subject['Time_points']>1)\n",
    "df_subject_no_empty.dropna(inplace=True)"
   ]
  },
  {
   "cell_type": "markdown",
   "metadata": {},
   "source": [
    "# Section B"
   ]
  },
  {
   "cell_type": "markdown",
   "metadata": {},
   "source": [
    "## Set up object oriented data frame"
   ]
  },
  {
   "cell_type": "code",
   "execution_count": 7,
   "metadata": {},
   "outputs": [],
   "source": [
    "#class to quicker acess the plots\n",
    "\n",
    "#1. list of elec_muscle eg _1_6 each one will be one object (eg. same as when we graph the all the trials) \n",
    "\n",
    "list_elecs = df_subject_no_empty['Elec_config'].unique() #Elec01_, Elec02_, Elec03_, \n",
    "n_list_elecs = len(list_elecs) \n",
    "list_muscle_or_other_elec_i = df_subject_no_empty['Muscle_or_other'].unique() #LVlat, LST, ..\n",
    "n_muscle_or_other_elec_i = len(list_muscle_or_other_elec_i)\n",
    "list_elec_i_a_muslce_i=[]\n",
    "\n",
    "\n",
    "\n",
    "\n",
    "class DfSubject:\n",
    "    def __init__(self, elec_i, muscle_i):\n",
    "        self.Elec_config=list_elecs[elec_i]\n",
    "        self.List_elecs=list_elecs\n",
    "        self.Muscle_or_other=list_muscle_or_other_elec_i[muscle_i]\n",
    "        self.List_muscle_or_other=list_muscle_or_other_elec_i\n",
    "        self.Trial_number= df_subject_no_empty[(df_subject_no_empty[\"Elec_config\"]==self.Elec_config)& (df_subject_no_empty[\"Muscle_or_other\"]== self.Muscle_or_other)][\"Trial_number\"]\n",
    "        self.Trial_number=[int(i) for i in self.Trial_number] #save as int\n",
    "        self.Raw= df_subject_no_empty[(df_subject_no_empty[\"Elec_config\"]==self.Elec_config)& (df_subject_no_empty[\"Muscle_or_other\"]== self.Muscle_or_other)][\"Raw\"]\n",
    "        self.Raw.index=self.Trial_number\n",
    "        \n",
    "        self.Time_points= df_subject_no_empty[(df_subject_no_empty[\"Elec_config\"]==self.Elec_config)& (df_subject_no_empty[\"Muscle_or_other\"]== self.Muscle_or_other)][\"Time_points\"]\n",
    "        self.Time_points.index=self.Trial_number\n",
    "        self.Amplitudes= df_subject_no_empty[(df_subject_no_empty[\"Elec_config\"]==self.Elec_config)& (df_subject_no_empty[\"Muscle_or_other\"]== self.Muscle_or_other)][\"Amplitudes\"]\n",
    "        self.Amplitudes.index=self.Trial_number\n",
    "        self.TS_arts_1=\"$\"\n",
    "        \n",
    "        # self.TS_arts_1.index=self.Trial_number\n",
    "        self.Time_points_arts_1=-1\n",
    "        self.TS_arts_2=\"$\"\n",
    "        self.Time_points_arts_2=-1\n",
    "        self.TS_arts_3=\"$\"\n",
    "        self.Time_points_arts_3=-1\n",
    "\n",
    "\n",
    "#4. Goal is to chose an electrode and a muscle and see all the trials and the corrected data        \n",
    "#       eg. pData[\"_3_5\"].Raw[19] #prints the raw data from trial 19"
   ]
  },
  {
   "cell_type": "code",
   "execution_count": 8,
   "metadata": {},
   "outputs": [],
   "source": [
    "#Run the class for all electrodes and muscles and save it in pData as elec_muscle eg _0_0\n",
    "\n",
    "pData = {}\n",
    "for elec_i in range(n_list_elecs):\n",
    "    for muscle_i in range(n_muscle_or_other_elec_i):\n",
    "        pData[f\"_{elec_i}_{muscle_i}\"] = DfSubject(elec_i, muscle_i)"
   ]
  },
  {
   "cell_type": "markdown",
   "metadata": {},
   "source": [
    "## Save the data as a pickle file"
   ]
  },
  {
   "cell_type": "code",
   "execution_count": 9,
   "metadata": {},
   "outputs": [],
   "source": [
    "### save files as pickle file  to projectome_finder#\n",
    "#to run set run=1\n",
    "run=1\n",
    "if run == 1:\n",
    "    import pickle\n",
    "    fh = open('/Users/nealarohner/Desktop/Projectome_Finder/code/Neala_Master_Thesis/Class2_dump.pkl', \"wb\")\n",
    "    pickle.dump(pData, fh)\n",
    "    fh.close()"
   ]
  },
  {
   "cell_type": "markdown",
   "metadata": {},
   "source": [
    "## Retrieve the data from pickle "
   ]
  },
  {
   "cell_type": "code",
   "execution_count": 10,
   "metadata": {},
   "outputs": [],
   "source": [
    "### retrieve  dfSubject structured as pData  #\n",
    "#run the structure of the data before opening the pickle (wihtout creating an object)\n",
    "# command pData[\"_0_\"].Trial_number=0\n",
    "import pickle\n",
    "run=0\n",
    "if run == 1:  \n",
    "\n",
    "    with open('Class2_Dump.pkl', 'rb') as handle:\n",
    "        pData = pickle.load(handle)\n"
   ]
  },
  {
   "cell_type": "markdown",
   "metadata": {},
   "source": [
    "# Working on how to extract individual object and dont' have to load all the objects"
   ]
  },
  {
   "cell_type": "code",
   "execution_count": 11,
   "metadata": {},
   "outputs": [
    {
     "name": "stdout",
     "output_type": "stream",
     "text": [
      "['test_3', {'ability', 'mobility'}]\n"
     ]
    }
   ],
   "source": [
    "#Idea from stackoverflow\n",
    "\n",
    "\n",
    "import pickle\n",
    "\n",
    "file = open('test.pkl','wb')\n",
    "obj_1 = ['test_1', {'ability', 'mobility'}]\n",
    "obj_2 = ['test_2', {'ability', 'mobility'}]\n",
    "obj_3 = ['test_3', {'ability', 'mobility'}]\n",
    "\n",
    "pickle.dump(obj_1, file)\n",
    "pickle.dump(obj_2, file)\n",
    "pickle.dump(obj_3, file)\n",
    "\n",
    "file.close()\n",
    "\n",
    "file = open('test.pkl', 'rb')\n",
    "obj_1 = pickle.load(file)\n",
    "obj_2 = pickle.load(file)\n",
    "obj_3 = pickle.load(file)\n",
    "# print(obj_1)\n",
    "# print(obj_2)\n",
    "print(obj_3)\n",
    "file.close()"
   ]
  },
  {
   "cell_type": "markdown",
   "metadata": {},
   "source": [
    "tried to implement code above, but not working with for loop yet"
   ]
  },
  {
   "cell_type": "code",
   "execution_count": 12,
   "metadata": {},
   "outputs": [],
   "source": [
    "# #### Load data ####\n",
    "# import pickle\n",
    "# fh = open('/Users/nealarohner/Desktop/Projectome_Finder/code/Neala_Master_Thesis/data/pickle_files/Class2_dump.pkl', \"wb\")\n",
    "# for objects in pData:\n",
    "#     pickle.dump(objects, fh)\n",
    "#     print(objects)\n",
    "    \n",
    "# fh.close()\n",
    "\n",
    "# #### Retrieve data ###\n",
    "# import pickle\n",
    "\n",
    "# fh=open('Class2_Dump.pkl', 'rb')\n",
    "# _0_0=pickle.load(fh)\n",
    "# _0_1=pickle.load(fh)"
   ]
  },
  {
   "cell_type": "markdown",
   "metadata": {},
   "source": [
    "Plot to compare with the tensor plot"
   ]
  },
  {
   "cell_type": "code",
   "execution_count": 38,
   "metadata": {},
   "outputs": [
    {
     "data": {
      "image/png": "[encoded data removed]",
      "text/plain": [
       "<Figure size 1000x500 with 1 Axes>"
      ]
     },
     "metadata": {},
     "output_type": "display_data"
    }
   ],
   "source": [
    "### extract on ly data with spec ele\n",
    "\n",
    "elec_i = list_elecs[4]\n",
    "df_subject_no_empty_elec_i = df_subject_no_empty.where(df_subject_no_empty['Elec_config']==elec_i)\n",
    "df_subject_no_empty_elec_i.dropna(inplace=True)\n",
    "\n",
    "### extract only data with elec 4 and muscle 5\n",
    "list_muscle_or_other_elec_i = df_subject_no_empty_elec_i['Muscle_or_other'].unique()\n",
    "muscle_i_elec_i = list_muscle_or_other_elec_i[5]\n",
    "df_subject_no_empty_elec_i_muscle_i = df_subject_no_empty_elec_i.where(df_subject_no_empty_elec_i['Muscle_or_other']==muscle_i_elec_i)\n",
    "df_subject_no_empty_elec_i_muscle_i.dropna(inplace=True)\n",
    "\n",
    "### extract only data with elec 4 muscle 5 and amp=2\n",
    "df_subject_no_empty_elec_i_muscle_i_amp_i=df_subject_no_empty_elec_i_muscle_i.where(df_subject_no_empty_elec_i_muscle_i['Amplitudes']==2.0)\n",
    "df_subject_no_empty_elec_i_muscle_i_amp_i.dropna(inplace=True)\n",
    "\n",
    "offset=0 #in order to not have all the trials overlapping\n",
    "plt.figure(figsize = (10,5))\n",
    "i=5625 \n",
    "for j in range (5):\n",
    "    offset+=1\n",
    "    plt.plot(df_subject_no_empty_elec_i_muscle_i_amp_i[\"Raw\"][i]+offset, label=f\" reps {j}\")\n",
    "    i+=1\n",
    "    plt.ylabel(\"Trial\")\n",
    "    plt.title(f\"Elec 4, Muscle 5 Amplitude:2.0 , all reps\")\n",
    "plt.show()"
   ]
  }
 ],
 "metadata": {
  "kernelspec": {
   "display_name": "Python 3.10.4 ('projectome_finder')",
   "language": "python",
   "name": "python3"
  },
  "language_info": {
   "codemirror_mode": {
    "name": "ipython",
    "version": 3
   },
   "file_extension": ".py",
   "mimetype": "text/x-python",
   "name": "python",
   "nbconvert_exporter": "python",
   "pygments_lexer": "ipython3",
   "version": "3.10.4"
  },
  "vscode": {
   "interpreter": {
    "hash": "f932c8e077b341d20504a7add15d58d55a3a6203500067dcddea991ea8b4378e"
   }
  }
 },
 "nbformat": 4,
 "nbformat_minor": 4
}
