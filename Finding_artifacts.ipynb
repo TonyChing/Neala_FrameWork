{
 "cells": [
  {
   "cell_type": "code",
   "execution_count": 12,
   "metadata": {},
   "outputs": [
    {
     "name": "stdout",
     "output_type": "stream",
     "text": [
      "6\n"
     ]
    }
   ],
   "source": [
    "\n",
    "\n",
    "\n",
    "def streem (a):\n",
    "    zruggee= a+3\n",
    "    doppeltruggee= a+6\n",
    "    return zrugge, doppeltruggee\n",
    "\n",
    "a=3\n",
    "zrugge, doppeltruggee=streem(a)\n",
    "print(zrugge)"
   ]
  },
  {
   "cell_type": "code",
   "execution_count": null,
   "metadata": {},
   "outputs": [],
   "source": [
    "#how to use np.where\n",
    "arr=df_subject_no_empty_elec_i['Time_points'].where(df_subject_no_empty_elec_i['Trial_number']==10)\n",
    "df_subject_no_empty_elec_i.index.where(df_subject_no_empty_elec_i['Trial_number']==10).dropna()"
   ]
  }
 ],
 "metadata": {
  "kernelspec": {
   "display_name": "Python 3.10.4 ('projectome_finder')",
   "language": "python",
   "name": "python3"
  },
  "language_info": {
   "codemirror_mode": {
    "name": "ipython",
    "version": 3
   },
   "file_extension": ".py",
   "mimetype": "text/x-python",
   "name": "python",
   "nbconvert_exporter": "python",
   "pygments_lexer": "ipython3",
   "version": "3.10.4"
  },
  "orig_nbformat": 4,
  "vscode": {
   "interpreter": {
    "hash": "f932c8e077b341d20504a7add15d58d55a3a6203500067dcddea991ea8b4378e"
   }
  }
 },
 "nbformat": 4,
 "nbformat_minor": 2
}
