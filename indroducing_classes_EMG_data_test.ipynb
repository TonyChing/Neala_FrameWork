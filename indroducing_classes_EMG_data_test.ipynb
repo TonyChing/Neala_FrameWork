{
 "cells": [
  {
   "cell_type": "code",
   "execution_count": 1,
   "metadata": {},
   "outputs": [],
   "source": [
    "import numpy as np\n",
    "import matplotlib.pyplot as plt\n",
    "from scipy.io import loadmat\n",
    "from scipy.signal import butter, lfilter , filtfilt\n",
    "import pandas as pd\n",
    "import scipy as sp\n",
    "import os\n",
    "import sys\n",
    "import seaborn as sb \n",
    "from matplotlib import cm\n",
    "import ruptures as rpt\n",
    "import pickle"
   ]
  },
  {
   "cell_type": "markdown",
   "metadata": {},
   "source": [
    "# Load the data"
   ]
  },
  {
   "cell_type": "code",
   "execution_count": 2,
   "metadata": {},
   "outputs": [],
   "source": [
    "# Root folder for the data\n",
    "data_folder = \"/Users/nealarohner/Desktop/Data\"\n",
    "#Load the data\n",
    "subject = 'MR012'\n",
    "data_file = 'MR012_FM_aligned.mat'\n",
    "data_file_path = os.path.join(data_folder,data_file)\n",
    "verbose=1\n",
    "data_key='data'\n",
    "amplitudes_key='amplitudes'\n",
    "fs = 1259.3\n",
    "dt = 1/fs"
   ]
  },
  {
   "cell_type": "code",
   "execution_count": 3,
   "metadata": {},
   "outputs": [],
   "source": [
    "root_data_matlab_struct = loadmat(data_file_path,struct_as_record=False,squeeze_me=True)\n",
    "root_data_re_struct = loadmat(data_file_path)\n",
    "# Because of the saving from Matlab there are arrays of size 1 containing the data\n",
    "data_raw = root_data_re_struct[data_key][0][0]\n",
    "# Not veru pretty but it extracts the electrodes configuration names \n",
    "elec_names = root_data_re_struct[data_key].dtype.names\n",
    "# As well as the recorded muscles names\n",
    "muscle_and_other_names = data_raw[0][0][0].dtype.names"
   ]
  },
  {
   "cell_type": "code",
   "execution_count": 4,
   "metadata": {},
   "outputs": [],
   "source": [
    "if verbose>1: print(elec_names)\n",
    "if verbose>1: print(muscle_and_other_names)"
   ]
  },
  {
   "cell_type": "code",
   "execution_count": 5,
   "metadata": {},
   "outputs": [],
   "source": [
    "n_elec_configs = len(elec_names)\n",
    "n_muscles_and_other = len(muscle_and_other_names)"
   ]
  },
  {
   "cell_type": "code",
   "execution_count": null,
   "metadata": {
    "scrolled": true
   },
   "outputs": [],
   "source": [
    "list_elec_config_dfs = []\n",
    "\n",
    "for i_elec_config in range(n_elec_configs):       \n",
    "    elec_config_i = elec_names[i_elec_config]\n",
    "    if verbose: print(elec_config_i)\n",
    "    elect_config_i_data = data_raw[elec_config_i][0,0] \n",
    "    list_muscle_and_other_elec_config_dfs = []\n",
    "    list_amplitudes_elec_config=[]\n",
    "    for i_muscle_and_other in range(n_muscles_and_other):\n",
    "        muscle_and_other_i = muscle_and_other_names[i_muscle_and_other]\n",
    "        if verbose: print(muscle_and_other_i)\n",
    "        muscle_and_other_i_data = elect_config_i_data[muscle_and_other_i]\n",
    "        n_trials_elec_muscle_and_other_i = np.shape(muscle_and_other_i_data)[-1]\n",
    "        if verbose: print(\"N_trials\",n_trials_elec_muscle_and_other_i)\n",
    "        if muscle_and_other_i==amplitudes_key:\n",
    "            # If it is the special case of amplitudes\n",
    "            list_amplitudes_elec_config = muscle_and_other_i_data[0,:]      \n",
    "        else:\n",
    "            # Not amplitudes\n",
    "            list_trial_muscle_and_other_elec_config_dfs = []\n",
    "            for i_trial_elec_muscle_and_other in range(n_trials_elec_muscle_and_other_i):\n",
    "                if verbose>1: print(\"trial\",i_trial_elec_muscle_and_other)\n",
    "                trial_muscle_and_other_i_data = muscle_and_other_i_data[0,i_trial_elec_muscle_and_other][0,:]\n",
    "                n_time_points_trial = len(trial_muscle_and_other_i_data)\n",
    "                df_trial_muscle_and_other_i_data = pd.DataFrame(data=[[trial_muscle_and_other_i_data]],columns=['Raw'])\n",
    "                df_trial_muscle_and_other_i_data['Time_points'] = n_time_points_trial\n",
    "                df_trial_muscle_and_other_i_data['Muscle_or_other'] = muscle_and_other_i\n",
    "                df_trial_muscle_and_other_i_data['Elec_config'] = elec_config_i\n",
    "                df_trial_muscle_and_other_i_data['Subject'] = subject\n",
    "                list_trial_muscle_and_other_elec_config_dfs.append(df_trial_muscle_and_other_i_data)\n",
    "            if len(list_trial_muscle_and_other_elec_config_dfs)>0:\n",
    "                df_muscle_or_others = pd.concat(list_trial_muscle_and_other_elec_config_dfs, ignore_index=True)\n",
    "                df_muscle_or_others.reset_index(inplace=True)\n",
    "                df_muscle_or_others = df_muscle_or_others.rename(columns = {'index':'Trial_number'})\n",
    "                list_muscle_and_other_elec_config_dfs.append(df_muscle_or_others)\n",
    "    # Adds the amplitude to each trial\n",
    "    n_muscles_and_other_elec_config_dfs = len(list_muscle_and_other_elec_config_dfs)\n",
    "    for i_muscles_and_other_elec_config_df in range(n_muscles_and_other_elec_config_dfs):\n",
    "        muscles_and_other_elec_config_df_i = list_muscle_and_other_elec_config_dfs[i_muscles_and_other_elec_config_df]\n",
    "        muscles_and_other_elec_config_df_i['Amplitudes']=list_amplitudes_elec_config\n",
    "        list_muscle_and_other_elec_config_dfs[i_muscles_and_other_elec_config_df] = muscles_and_other_elec_config_df_i\n",
    "    if len(list_muscle_and_other_elec_config_dfs)>0:\n",
    "        df_elec_config = pd.concat(list_muscle_and_other_elec_config_dfs, ignore_index=True)\n",
    "        list_elec_config_dfs.append(df_elec_config)\n",
    "if len(list_elec_config_dfs)>0:\n",
    "    df_subject = pd.concat(list_elec_config_dfs, ignore_index=True)"
   ]
  },
  {
   "cell_type": "code",
   "execution_count": 7,
   "metadata": {},
   "outputs": [],
   "source": [
    "n_rows_to_display = 5\n",
    "pd.set_option('display.max_rows', n_rows_to_display)"
   ]
  },
  {
   "cell_type": "code",
   "execution_count": 8,
   "metadata": {},
   "outputs": [
    {
     "data": {
      "text/html": [
       "<div>\n",
       "<style scoped>\n",
       "    .dataframe tbody tr th:only-of-type {\n",
       "        vertical-align: middle;\n",
       "    }\n",
       "\n",
       "    .dataframe tbody tr th {\n",
       "        vertical-align: top;\n",
       "    }\n",
       "\n",
       "    .dataframe thead th {\n",
       "        text-align: right;\n",
       "    }\n",
       "</style>\n",
       "<table border=\"1\" class=\"dataframe\">\n",
       "  <thead>\n",
       "    <tr style=\"text-align: right;\">\n",
       "      <th></th>\n",
       "      <th>Trial_number</th>\n",
       "      <th>Raw</th>\n",
       "      <th>Time_points</th>\n",
       "      <th>Muscle_or_other</th>\n",
       "      <th>Elec_config</th>\n",
       "      <th>Subject</th>\n",
       "      <th>Amplitudes</th>\n",
       "    </tr>\n",
       "  </thead>\n",
       "  <tbody>\n",
       "    <tr>\n",
       "      <th>0</th>\n",
       "      <td>0</td>\n",
       "      <td>[-1]</td>\n",
       "      <td>1</td>\n",
       "      <td>LST</td>\n",
       "      <td>Elec01_</td>\n",
       "      <td>MR012</td>\n",
       "      <td>0.5</td>\n",
       "    </tr>\n",
       "    <tr>\n",
       "      <th>1</th>\n",
       "      <td>1</td>\n",
       "      <td>[-1]</td>\n",
       "      <td>1</td>\n",
       "      <td>LST</td>\n",
       "      <td>Elec01_</td>\n",
       "      <td>MR012</td>\n",
       "      <td>0.5</td>\n",
       "    </tr>\n",
       "    <tr>\n",
       "      <th>2</th>\n",
       "      <td>2</td>\n",
       "      <td>[-1]</td>\n",
       "      <td>1</td>\n",
       "      <td>LST</td>\n",
       "      <td>Elec01_</td>\n",
       "      <td>MR012</td>\n",
       "      <td>0.5</td>\n",
       "    </tr>\n",
       "    <tr>\n",
       "      <th>3</th>\n",
       "      <td>3</td>\n",
       "      <td>[-1]</td>\n",
       "      <td>1</td>\n",
       "      <td>LST</td>\n",
       "      <td>Elec01_</td>\n",
       "      <td>MR012</td>\n",
       "      <td>0.5</td>\n",
       "    </tr>\n",
       "    <tr>\n",
       "      <th>4</th>\n",
       "      <td>4</td>\n",
       "      <td>[-1]</td>\n",
       "      <td>1</td>\n",
       "      <td>LST</td>\n",
       "      <td>Elec01_</td>\n",
       "      <td>MR012</td>\n",
       "      <td>0.5</td>\n",
       "    </tr>\n",
       "  </tbody>\n",
       "</table>\n",
       "</div>"
      ],
      "text/plain": [
       "   Trial_number   Raw  Time_points Muscle_or_other Elec_config Subject  \\\n",
       "0             0  [-1]            1             LST     Elec01_   MR012   \n",
       "1             1  [-1]            1             LST     Elec01_   MR012   \n",
       "2             2  [-1]            1             LST     Elec01_   MR012   \n",
       "3             3  [-1]            1             LST     Elec01_   MR012   \n",
       "4             4  [-1]            1             LST     Elec01_   MR012   \n",
       "\n",
       "   Amplitudes  \n",
       "0         0.5  \n",
       "1         0.5  \n",
       "2         0.5  \n",
       "3         0.5  \n",
       "4         0.5  "
      ]
     },
     "execution_count": 8,
     "metadata": {},
     "output_type": "execute_result"
    }
   ],
   "source": [
    "df_subject.head(n_rows_to_display)"
   ]
  },
  {
   "cell_type": "markdown",
   "metadata": {},
   "source": [
    "Now with the dataframe shaped, we can proceed into expanding it (creating the entries with the filtered data, etc... \n",
    "In this way will be able to generate any desired plots just querying the dataframe."
   ]
  },
  {
   "cell_type": "code",
   "execution_count": 9,
   "metadata": {},
   "outputs": [],
   "source": [
    "#### Creating a Value column instead of cells of arrays\n",
    "##### Beware - very time consuming if applied to all the data-frame.\n",
    "def form_data_frame_with_values(df_with_arrays,verbose=0):\n",
    "    \"\"\" \n",
    "    Goes through all the trials of the dataframe and extracts all its values\n",
    "    \"\"\"\n",
    "   \n",
    "    list_dfs_with_values=[]\n",
    "    length_df_arrays = len(df_with_arrays)\n",
    "    for i_row in range(length_df_arrays):\n",
    "        row_i = df_with_arrays.iloc[i_row]\n",
    "        length_trial_row_i = int(row_i['Time_points'])\n",
    "        values_raw_trial_row_i = row_i['Raw']\n",
    "        row_i_no_raw_trial = row_i.drop(['Raw'])\n",
    "        list_values_trial_row_i_dfs = []\n",
    "        for i_trial_row_i in range(length_trial_row_i):\n",
    "            value_i_raw_trial_row_i = values_raw_trial_row_i[i_trial_row_i]\n",
    "            row_i_no_raw_trial_copy = row_i_no_raw_trial.copy()\n",
    "            row_i_no_raw_trial_copy['Value'] = value_i_raw_trial_row_i\n",
    "            row_i_no_raw_trial_copy['time_ind'] = i_trial_row_i\n",
    "            df_row_i_no_raw_trial_copy = pd.DataFrame(row_i_no_raw_trial_copy).transpose()\n",
    "            list_values_trial_row_i_dfs.append(df_row_i_no_raw_trial_copy)\n",
    "        df_trial_row_i = pd.concat(list_values_trial_row_i_dfs, ignore_index=True)\n",
    "        list_dfs_with_values.append(df_trial_row_i)\n",
    "    df_with_values = pd.concat(list_dfs_with_values, ignore_index=True)\n",
    "    return df_with_values"
   ]
  },
  {
   "cell_type": "code",
   "execution_count": 10,
   "metadata": {},
   "outputs": [],
   "source": [
    "# Saving the data_frame\n",
    "def save_data_frame(data_folder,file_name,df_to_save,verbose=0):\n",
    "    \"\"\" Vaces the input dataframe as a csv in the given folder.\"\"\"\n",
    "    file_name_for_saving_the_raw_df = file_name\n",
    "    raw_data_file_path = os.path.join(data_folder,file_name_for_saving_the_raw_df)\n",
    "    df_to_save.to_csv(raw_data_file_path)\n",
    "    #path_or_buf=None, sep=',', na_rep='', float_format=None, columns=None, header=True, index=True, index_label=None, mode='w', encoding=None, compression='infer', quoting=None, quotechar='\"', line_terminator=None, chunksize=None, date_format=None, doublequote=True, escapechar=None, decimal='.', errors='strict', storage_options=None)"
   ]
  },
  {
   "cell_type": "markdown",
   "metadata": {},
   "source": [
    "### Plotting the raw data"
   ]
  },
  {
   "cell_type": "code",
   "execution_count": 11,
   "metadata": {},
   "outputs": [],
   "source": [
    "\n",
    "\n",
    "def plot_trial_elec_i_muscle_i(df_subject_no_empty_elec_i_muscle_i,elec_i, muscle_i_elec_i, time_series_key='Raw',time_points_key='Time_points',init_t_plot = 0,end_t_plot = -1, save_flag=0,save_folder='tmp'):\n",
    "    \"\"\"Simplest plotting function for a time serie stored in the dataframe\"\"\"\n",
    "    print(f\"We are printing {time_series_key}\")\n",
    "    n_trials_elec_i_muscle_i = len(df_subject_no_empty_elec_i_muscle_i)\n",
    "    plt.figure(figsize = (10,5))\n",
    "    offset = 0\n",
    "    ax = plt.axes()\n",
    "    for i_trials_elec_i_muscle_i in range(n_trials_elec_i_muscle_i):\n",
    "        offset += 1.0\n",
    "        trial_i_elec_i_muscle_i = df_subject_no_empty_elec_i_muscle_i.iloc[i_trials_elec_i_muscle_i]\n",
    "        time_points_trial_i=int(trial_i_elec_i_muscle_i[time_points_key])\n",
    "        time_array = dt*np.arange(1,time_points_trial_i+1)\n",
    "        values=[]\n",
    "        if time_series_key=='Raw':\n",
    "            values = trial_i_elec_i_muscle_i[time_series_key]\n",
    "        else:\n",
    "            values = trial_i_elec_i_muscle_i[time_series_key]#[0]\n",
    "        plt.plot(time_array[init_t_plot:end_t_plot],values[init_t_plot:end_t_plot]+ offset, linewidth = 1.5, color = (i_trials_elec_i_muscle_i/n_trials_elec_i_muscle_i, 0.2, 0.3)) \n",
    "    plt.xlabel('Time [s]', fontsize=10),\n",
    "    plt.ylabel('Trial number', fontsize=10),\n",
    "    plt.title(elec_i+\"-\"+muscle_i_elec_i, fontsize=20)\n",
    "    if save_flag:\n",
    "        data_file = time_series_key+\"_\"+elec_i+muscle_i_elec_i+'.png'\n",
    "        data_file_path = os.path.join(save_folder,data_file)\n",
    "        plt.savefig(data_file_path, transparent = \"True\", bbox_inches='tight')"
   ]
  },
  {
   "cell_type": "code",
   "execution_count": 12,
   "metadata": {},
   "outputs": [],
   "source": [
    "time_series_key='Raw'\n",
    "time_points_key='Time_points'\n",
    "init_t_plot = 100\n",
    "end_t_plot = 300"
   ]
  },
  {
   "cell_type": "code",
   "execution_count": 13,
   "metadata": {},
   "outputs": [],
   "source": [
    "\n",
    "\n",
    "def plot_trial_elec_i_muscle_i_arifact_free(df_subject_no_empty_elec_i_muscle_i,elec_i, muscle_i_elec_i, time_series_key='TS_arts_1',time_points_key='Time_points_arts_1',init_t_plot = 0,end_t_plot = -1, save_flag=0,save_folder='tmp'):\n",
    "    \"\"\"Simplest plotting function for a time serie stored in the dataframe\"\"\"\n",
    "    time_series_key='TS_arts_1'\n",
    "    time_points_key='Time_points_arts_1'\n",
    "    print(f\"We are printing {time_series_key}\")\n",
    "    n_trials_elec_i_muscle_i = len(df_subject_no_empty_elec_i_muscle_i)\n",
    "    print(f\" n_trials_elec_i_muscle_i: {n_trials_elec_i_muscle_i}\")\n",
    "    plt.figure(figsize = (10,5))\n",
    "    offset = 0\n",
    "    ax = plt.axes()\n",
    "    for i_trials_elec_i_muscle_i in range(n_trials_elec_i_muscle_i):\n",
    "        offset += 1.0\n",
    "        trial_i_elec_i_muscle_i = df_subject_no_empty_elec_i_muscle_i.iloc[i_trials_elec_i_muscle_i]\n",
    "        time_points_trial_i=int(trial_i_elec_i_muscle_i[time_points_key])\n",
    "        time_array = dt*np.arange(1,time_points_trial_i+1)\n",
    "        values=[]\n",
    "        if time_series_key=='TS_arts_1':\n",
    "            values = trial_i_elec_i_muscle_i[time_series_key]\n",
    "        else:\n",
    "            values = trial_i_elec_i_muscle_i[time_series_key]#[0]\n",
    "        plt.plot(time_array[init_t_plot:end_t_plot],values[init_t_plot:end_t_plot]+ offset, linewidth = 1.5, color = (i_trials_elec_i_muscle_i/n_trials_elec_i_muscle_i, 0.2, 0.3)) \n",
    "    plt.xlabel('Time [s]', fontsize=10),\n",
    "    plt.ylabel('Trial number', fontsize=10),\n",
    "    plt.title(str(elec_i)+\"-\"+str(muscle_i_elec_i)+\"artifact_freer_data\", fontsize=20)\n",
    "    if save_flag:\n",
    "        data_file = time_series_key+\"_\"+elec_i+muscle_i_elec_i+'.png'\n",
    "        data_file_path = os.path.join(save_folder,data_file)\n",
    "        plt.savefig(data_file_path, transparent = \"True\", bbox_inches='tight')"
   ]
  },
  {
   "cell_type": "code",
   "execution_count": 14,
   "metadata": {},
   "outputs": [],
   "source": [
    "# Only keeping the ones that got data\n",
    "df_subject_no_empty = df_subject.where(df_subject['Time_points']>1)\n",
    "df_subject_no_empty.dropna(inplace=True)"
   ]
  },
  {
   "cell_type": "code",
   "execution_count": 15,
   "metadata": {},
   "outputs": [],
   "source": [
    "save_flag=1\n",
    "subject_plots_folder_name=subject+'_plots'\n",
    "save_folder = os.path.join(data_folder,subject_plots_folder_name,\"Raw_tinit_100_tend_300\")\n",
    "os.makedirs(save_folder,exist_ok=True)"
   ]
  },
  {
   "cell_type": "code",
   "execution_count": 17,
   "metadata": {},
   "outputs": [
    {
     "name": "stdout",
     "output_type": "stream",
     "text": [
      "['0_0', '0_1', '0_2', '0_3', '0_4', '0_5', '0_6', '0_7', '0_8', '0_9', '0_10', '0_11', '0_12', '0_13', '0_14', '1_0', '1_1', '1_2', '1_3', '1_4', '1_5', '1_6', '1_7', '1_8', '1_9', '1_10', '1_11', '1_12', '1_13', '1_14', '2_0', '2_1', '2_2', '2_3', '2_4', '2_5', '2_6', '2_7', '2_8', '2_9', '2_10', '2_11', '2_12', '2_13', '2_14', '3_0', '3_1', '3_2', '3_3', '3_4', '3_5', '3_6', '3_7', '3_8', '3_9', '3_10', '3_11', '3_12', '3_13', '3_14', '4_0', '4_1', '4_2', '4_3', '4_4', '4_5', '4_6', '4_7', '4_8', '4_9', '4_10', '4_11', '4_12', '4_13', '4_14', '5_0', '5_1', '5_2', '5_3', '5_4', '5_5', '5_6', '5_7', '5_8', '5_9', '5_10', '5_11', '5_12', '5_13', '5_14', '6_0', '6_1', '6_2', '6_3', '6_4', '6_5', '6_6', '6_7', '6_8', '6_9', '6_10', '6_11', '6_12', '6_13', '6_14', '7_0', '7_1', '7_2', '7_3', '7_4', '7_5', '7_6', '7_7', '7_8', '7_9', '7_10', '7_11', '7_12', '7_13', '7_14', '8_0', '8_1', '8_2', '8_3', '8_4', '8_5', '8_6', '8_7', '8_8', '8_9', '8_10', '8_11', '8_12', '8_13', '8_14', '9_0', '9_1', '9_2', '9_3', '9_4', '9_5', '9_6', '9_7', '9_8', '9_9', '9_10', '9_11', '9_12', '9_13', '9_14', '10_0', '10_1', '10_2', '10_3', '10_4', '10_5', '10_6', '10_7', '10_8', '10_9', '10_10', '10_11', '10_12', '10_13', '10_14', '11_0', '11_1', '11_2', '11_3', '11_4', '11_5', '11_6', '11_7', '11_8', '11_9', '11_10', '11_11', '11_12', '11_13', '11_14', '12_0', '12_1', '12_2', '12_3', '12_4', '12_5', '12_6', '12_7', '12_8', '12_9', '12_10', '12_11', '12_12', '12_13', '12_14', '13_0', '13_1', '13_2', '13_3', '13_4', '13_5', '13_6', '13_7', '13_8', '13_9', '13_10', '13_11', '13_12', '13_13', '13_14', '14_0', '14_1', '14_2', '14_3', '14_4', '14_5', '14_6', '14_7', '14_8', '14_9', '14_10', '14_11', '14_12', '14_13', '14_14', '15_0', '15_1', '15_2', '15_3', '15_4', '15_5', '15_6', '15_7', '15_8', '15_9', '15_10', '15_11', '15_12', '15_13', '15_14', '16_0', '16_1', '16_2', '16_3', '16_4', '16_5', '16_6', '16_7', '16_8', '16_9', '16_10', '16_11', '16_12', '16_13', '16_14', '17_0', '17_1', '17_2', '17_3', '17_4', '17_5', '17_6', '17_7', '17_8', '17_9', '17_10', '17_11', '17_12', '17_13', '17_14', '18_0', '18_1', '18_2', '18_3', '18_4', '18_5', '18_6', '18_7', '18_8', '18_9', '18_10', '18_11', '18_12', '18_13', '18_14', '19_0', '19_1', '19_2', '19_3', '19_4', '19_5', '19_6', '19_7', '19_8', '19_9', '19_10', '19_11', '19_12', '19_13', '19_14']\n"
     ]
    }
   ],
   "source": [
    "#make list of elec_muscle eg 01_06 each one will be one object (eg. same as when we graph the all the trials)\n",
    "list_elecs = df_subject_no_empty['Elec_config'].unique()\n",
    "n_list_elecs = len(list_elecs)\n",
    "list_muscle_or_other_elec_i = df_subject_no_empty['Muscle_or_other'].unique()\n",
    "n_muscle_or_other_elec_i = len(list_muscle_or_other_elec_i)\n",
    "list_elec_i_a_muslce_i=[]\n",
    "for i_elec in range(n_list_elecs):\n",
    "    for i_muscle_or_other_elec_i in range(n_muscle_or_other_elec_i):\n",
    "        number=str(i_elec)+\"_\"+str(i_muscle_or_other_elec_i)\n",
    "        list_elec_i_a_muslce_i.append(number)\n",
    "print(list_elec_i_a_muslce_i)\n",
    "\n",
    "\n"
   ]
  },
  {
   "cell_type": "code",
   "execution_count": null,
   "metadata": {},
   "outputs": [],
   "source": [
    "#class to quicker acess the plots\n",
    "\n",
    "#1. make list of elec_muscle eg 01_06 each one will be one object (eg. same as when we graph the all the trials) \n",
    "\n",
    "\n",
    "\n",
    "list_elecs = df_subject_no_empty['Elec_config'].unique() #Elec01_, Elec02_, Elec03_, \n",
    "n_list_elecs = len(list_elecs) #\n",
    "list_muscle_or_other_elec_i = df_subject_no_empty['Muscle_or_other'].unique() #Vlat, LST, ..\n",
    "n_muscle_or_other_elec_i = len(list_muscle_or_other_elec_i)\n",
    "list_elec_i_a_muslce_i=[]\n",
    "\n",
    "\n",
    "    \n",
    "#3. Set the attributes\n",
    "#4. Goal is to chose an electrode and a muscle and see all the trials and the corrected data\n",
    "\n",
    "class DfSubject:\n",
    "    def __init__(self, elec_i, muscle_i):\n",
    "        self.Elec_config=list_elecs[elec_i]\n",
    "        print (self.Elec_config)\n",
    "        self.Muscle_or_other=list_muscle_or_other_elec_i[muscle_i]\n",
    "        print(self.Muscle_or_other)\n",
    "        self.Trial_number= df_subject_no_empty[(df_subject_no_empty[\"Elec_config\"]==self.Elec_config)& (df_subject_no_empty[\"Muscle_or_other\"]== self.Muscle_or_other)][\"Trial_number\"]\n",
    "        self.Raw= df_subject_no_empty[(df_subject_no_empty[\"Elec_config\"]==self.Elec_config)& (df_subject_no_empty[\"Muscle_or_other\"]== self.Muscle_or_other)][\"Raw\"]\n",
    "        self.Raw.index=self.Trial_number\n",
    "        self.Time_points= df_subject_no_empty[(df_subject_no_empty[\"Elec_config\"]==self.Elec_config)& (df_subject_no_empty[\"Muscle_or_other\"]== self.Muscle_or_other)][\"Time_points\"]\n",
    "        self.Amplitudes= df_subject_no_empty[(df_subject_no_empty[\"Elec_config\"]==self.Elec_config)& (df_subject_no_empty[\"Muscle_or_other\"]== self.Muscle_or_other)][\"Amplitudes\"]\n",
    "        self.TS_arts_1=\"$\"\n",
    "        # self.TS_arts_1.index=self.Trial_number\n",
    "        self.Time_points_arts_1=-1\n",
    "\n",
    "#         df_subject_no_empty['TS_arts_filt_rect_meaned']=\"$\"\n",
    "# df_subject_no_empty['Time_points_arts_filt_rect_meaned']=-1\n",
    "# df_subject_no_empty['TS_arts_1'] =\"$\"\n",
    "# df_subject_no_empty['Time_points_arts_1'] =-1\n",
    "# df_subject_no_empty['TS_arts_2'] =\"$\"\n",
    "# df_subject_no_empty['Time_points_arts_2']=-1\n",
    "# df_subject_no_empty['TS_arts_filt'] =\"$\"\n",
    "# df_subject_no_empty['Time_points_arts_filt'] =-1\n",
    "# df_subject_no_empty['TS_arts_filt_rect'] =\"$\"\n",
    "# df_subject_no_empty['Time_points_arts_filt_rect']=-1\n",
    "\n",
    "pData = {}\n",
    "for elec_i in range(n_list_elecs):\n",
    "    for muscle_i in range(n_muscle_or_other_elec_i):\n",
    "        pData[f\"{elec_i}_{muscle_i}\"] = DfSubject(elec_i, muscle_i)\n",
    "        \n",
    "\n"
   ]
  },
  {
   "cell_type": "code",
   "execution_count": null,
   "metadata": {},
   "outputs": [],
   "source": [
    "#Access a specific trial in the df\n",
    "# print(pData[\"3_5\"].Raw)\n",
    "# len(pData[\"3_5\"].Raw)\n",
    "\n",
    "# plt.plot(pData[\"3_5\"].Raw)\n",
    "# pData[\"3_5\"].TS_arts_1[19] = pData[\"3_5\"].Raw[19]\n",
    "# pData[\"3_5\"].Time_points\n",
    "# time_points_trial_i=[int(i)for i in pData[\"3_5\"].Time_points]\n",
    "pData[\"3_5\"].TS_arts_1"
   ]
  },
  {
   "cell_type": "code",
   "execution_count": 28,
   "metadata": {
    "scrolled": true
   },
   "outputs": [],
   "source": [
    "###Plot all the graphs\n",
    "#to run set run=1\n",
    "run=1\n",
    "if run==1:\n",
    "    list_elecs = df_subject_no_empty['Elec_config'].unique()\n",
    "    n_list_elecs = len(list_elecs)\n",
    "    for i_elec in range(n_list_elecs):\n",
    "        elec_i = list_elecs[i_elec]\n",
    "        df_subject_no_empty_elec_i = df_subject_no_empty.where(df_subject_no_empty['Elec_config']==elec_i)\n",
    "        df_subject_no_empty_elec_i.dropna(inplace=True)\n",
    "        list_muscle_or_other_elec_i = df_subject_no_empty_elec_i['Muscle_or_other'].unique()\n",
    "        n_muscle_or_other_elec_i = len(list_muscle_or_other_elec_i)\n",
    "        for i_muscle_or_other_elec_i in range(n_muscle_or_other_elec_i):\n",
    "            muscle_i_elec_i = list_muscle_or_other_elec_i[i_muscle_or_other_elec_i]\n",
    "            df_subject_no_empty_elec_i_muscle_i = df_subject_no_empty_elec_i.where(df_subject_no_empty_elec_i['Muscle_or_other']==muscle_i_elec_i)\n",
    "            df_subject_no_empty_elec_i_muscle_i.dropna(inplace=True)\n",
    "            # plot_trial_elec_i_muscle_i(df_subject_no_empty_elec_i_muscle_i,elec_i=elec_i, muscle_i_elec_i=muscle_i_elec_i, time_series_key=time_series_key,time_points_key=time_points_key,init_t_plot =init_t_plot ,end_t_plot =end_t_plot ,save_flag=save_flag,save_folder=save_folder)\n",
    "            "
   ]
  },
  {
   "cell_type": "markdown",
   "metadata": {},
   "source": [
    "## Filtering the signal"
   ]
  },
  {
   "cell_type": "markdown",
   "metadata": {},
   "source": [
    "Following [Rowald, Komi, Demesmeaker et al. 2022](https://www.nature.com/articles/s41591-021-01663-5#Sec14):\n",
    "```\n",
    "Analysis of lower limb muscle activity\n",
    "\n",
    "The electromyographic activity from lower limb muscles was processed according to SENIAM (Surface Electromyography for the Non-Invasive Assessment of Muscles) standards for electromyographic recordings. All displayed electromyographic activities during walking were band-pass filtered between 10 and 450 Hz (fourth-order Butterworth filter). A moving average of the rectified electromyographic signal within a centered 250-ms time window was used to generate normalized electromyographic envelopes for quantification.\n",
    "```\n",
    "Even it is walking we can consider applying the same:\n",
    "1. Band-pass 10-450 Hz (fourth-order Butterworth filter).\n",
    "2. Rectify (absolute value).\n",
    "3. Average 250 ms time window average filter."
   ]
  },
  {
   "cell_type": "code",
   "execution_count": 64,
   "metadata": {},
   "outputs": [],
   "source": [
    "high_band = 450\n",
    "low_band = 10\n",
    "order_filter = 4\n",
    "average_window_filter_seconds=0.005"
   ]
  },
  {
   "cell_type": "code",
   "execution_count": 65,
   "metadata": {},
   "outputs": [],
   "source": [
    "# Filtering preparation\n",
    "butter_sos_filter = sp.signal.butter(N=order_filter,Wn=[low_band,high_band],btype='bandpass',output='sos',fs=fs)\n",
    "average_window_filter_size=int(np.ceil(average_window_filter_seconds/dt))"
   ]
  },
  {
   "cell_type": "code",
   "execution_count": 66,
   "metadata": {},
   "outputs": [],
   "source": [
    "# We get the last point in time\n",
    "last_t_point = int(df_subject_no_empty['Time_points'].max())\n",
    "# We take some before to define our end of array\n",
    "n_points_before_last_t_pont = 4"
   ]
  },
  {
   "cell_type": "code",
   "execution_count": 67,
   "metadata": {},
   "outputs": [],
   "source": [
    "init_t_plot = 0\n",
    "end_t_plot = last_t_point-n_points_before_last_t_pont"
   ]
  },
  {
   "cell_type": "markdown",
   "metadata": {},
   "source": [
    "Our experiments showed that there are a number of artefacts. And that the average 250 ms time window average filter was smoothing the signal to the point of suppressing it. \n",
    "We changed our pipeline to:\n",
    "\n",
    "1. Find the artefacts that keep repeating all over the signal.\n",
    "2. Do pattern matching on the signals using a simple cross-validation threshold to find the location of these artefacts on signals.\n",
    "3. Replace by 0s wherever these artefacts are found.\n",
    "4. Find high transients and replace these chunks between these high transients with 0s using the `ruptures` library, implemented in [Selective review of offline change point detection methods](https://doi.org/10.1016/j.sigpro.2019.107299).\n",
    "\n",
    "Then we proceed with:\n",
    "\n",
    "5. Band-pass 10-450 Hz (fourth-order Butterworth filter).\n",
    "6. Rectify (absolute value).\n",
    "7. Average 5 ms time window average filter."
   ]
  },
  {
   "cell_type": "markdown",
   "metadata": {},
   "source": [
    "After a couple of tests, 250ms is way too much. 5 ms seems to be reasonable"
   ]
  },
  {
   "cell_type": "markdown",
   "metadata": {},
   "source": [
    "# Find Artifacts"
   ]
  },
  {
   "cell_type": "markdown",
   "metadata": {},
   "source": [
    "### First Artifact"
   ]
  },
  {
   "cell_type": "code",
   "execution_count": 132,
   "metadata": {},
   "outputs": [
    {
     "name": "stdout",
     "output_type": "stream",
     "text": [
      "LVLat\n",
      "\n",
      "4554     9.0\n",
      "4555    10.0\n",
      "        ... \n",
      "4612    67.0\n",
      "4613    68.0\n",
      "Name: Trial_number, Length: 59, dtype: float64\n"
     ]
    },
    {
     "data": {
      "image/png": "[encoded data removed]",
      "text/plain": [
       "<Figure size 1000x500 with 1 Axes>"
      ]
     },
     "metadata": {},
     "output_type": "display_data"
    }
   ],
   "source": [
    "#Plot artifact one\n",
    "i_elec_artifact=3\n",
    "i_muscle_i_elec_artifact=5\n",
    "i_trial_i_muscle_i_elec_artifact=19\n",
    "init_t_artifact=580\n",
    "end_t_artifact=820\n",
    "artifact_number=1\n",
    "elec_i = list_elecs[i_elec_artifact]\n",
    "df_subject_no_empty_elec_i = df_subject_no_empty.where(df_subject_no_empty['Elec_config']==elec_i) #df with only sepc electrode\n",
    "df_subject_no_empty_elec_i.dropna(inplace=True) \n",
    "list_muscle_or_other_elec_i = df_subject_no_empty_elec_i['Muscle_or_other'].unique() #Returns the sorted unique elements of an array\n",
    "n_muscle_or_other_elec_i = len(list_muscle_or_other_elec_i)\n",
    "muscle_i_elec_i = list_muscle_or_other_elec_i[i_muscle_i_elec_artifact]\n",
    "print(muscle_i_elec_i)\n",
    "df_subject_no_empty_elec_i_muscle_i = df_subject_no_empty_elec_i.where(df_subject_no_empty_elec_i['Muscle_or_other']==muscle_i_elec_i)\n",
    "df_subject_no_empty_elec_i_muscle_i.dropna(inplace=True)\n",
    "print()\n",
    "n_trials_elec_i_muscle_i = len(df_subject_no_empty_elec_i_muscle_i)\n",
    "trial_i_elec_i_muscle_i = df_subject_no_empty_elec_i_muscle_i.iloc[i_trial_i_muscle_i_elec_artifact]\n",
    "print(df_subject_no_empty_elec_i_muscle_i[\"Trial_number\"])\n",
    "time_points_trial_i=int(trial_i_elec_i_muscle_i['Time_points']) #number of time points\n",
    "#evt change dt to 1/time_points_trial_i\n",
    "time_array = dt*np.arange(1,time_points_trial_i+1) #dt = 1/fs sampling interval( abhängig vom EMG)\n",
    "trial_i_muscle_i_elec_i_raw = trial_i_elec_i_muscle_i[time_series_key]\n",
    "plt.figure(figsize = (10,5))\n",
    "offset = 1.0\n",
    "plt.plot(time_array[init_t_plot:end_t_plot],trial_i_muscle_i_elec_i_raw[init_t_plot:end_t_plot]+ offset, linewidth = 1.5, color = (i_trial_i_muscle_i_elec_artifact/n_trials_elec_i_muscle_i, 0.2, 0.3)) #the whole trial\n",
    "plt.plot(time_array[init_t_artifact:end_t_artifact],trial_i_muscle_i_elec_i_raw[init_t_artifact:end_t_artifact], linewidth = 1.5, color = (i_trial_i_muscle_i_elec_artifact/n_trials_elec_i_muscle_i, 0.2, 0.3)) #just the time series of the artifact\n",
    "artifact_time_serie = trial_i_muscle_i_elec_i_raw[init_t_artifact:end_t_artifact]\n",
    "\n",
    "    "
   ]
  },
  {
   "cell_type": "code",
   "execution_count": null,
   "metadata": {},
   "outputs": [
    {
     "name": "stdout",
     "output_type": "stream",
     "text": [
      "artifact_number:1\n"
     ]
    }
   ],
   "source": [
    "print(f\"artifact_number:{artifact_number}\" )\n",
    "subject_plots_folder_name=subject+'_plots'\n",
    "save_folder = os.path.join(data_folder,subject_plots_folder_name)\n",
    "save_file = subject+\"artf\"+str(artifact_number)+\"_\"+str(i_elec_artifact)+\"_\"+str(i_muscle_i_elec_artifact)+\"_\"+str(i_trial_i_muscle_i_elec_artifact)+\"_\"+str(init_t_artifact)+\"-\"+str(end_t_artifact)+\".csv\"\n",
    "save_file_path = os.path.join(save_folder,save_file)\n",
    "np.savetxt(save_file_path, artifact_time_serie, delimiter=',')"
   ]
  },
  {
   "cell_type": "code",
   "execution_count": 97,
   "metadata": {},
   "outputs": [],
   "source": [
    "# Find the max cross_corr overall for normalization\n",
    "max_corr_val = -99 #why so high? isnt correlation normally from 0 to 1?\n",
    "for i_elec in range(n_list_elecs):\n",
    "    elec_i = list_elecs[i_elec]\n",
    "    df_subject_no_empty_elec_i = df_subject_no_empty.where(df_subject_no_empty['Elec_config']==elec_i)\n",
    "    df_subject_no_empty_elec_i.dropna(inplace=True)\n",
    "    list_muscle_or_other_elec_i = df_subject_no_empty_elec_i['Muscle_or_other'].unique()\n",
    "    n_muscle_or_other_elec_i = len(list_muscle_or_other_elec_i)\n",
    "    for i_muscle_or_other_elec_i in range(n_muscle_or_other_elec_i):\n",
    "        muscle_i_elec_i = list_muscle_or_other_elec_i[i_muscle_or_other_elec_i]\n",
    "        df_subject_no_empty_elec_i_muscle_i = df_subject_no_empty_elec_i.where(df_subject_no_empty_elec_i['Muscle_or_other']==muscle_i_elec_i)\n",
    "        df_subject_no_empty_elec_i_muscle_i.dropna(inplace=True)\n",
    "        n_trials_elec_i_muscle_i = len(df_subject_no_empty_elec_i_muscle_i)\n",
    "        for i_trials_elec_i_muscle_i in range(n_trials_elec_i_muscle_i):\n",
    "            trial_i_elec_i_muscle_i = df_subject_no_empty_elec_i_muscle_i.iloc[i_trials_elec_i_muscle_i]\n",
    "            trial_i_muscle_i_elec_i_raw = trial_i_elec_i_muscle_i[time_series_key]\n",
    "            corr = sp.signal.correlate(trial_i_muscle_i_elec_i_raw, artifact_time_serie) # saves the correlation betweeen the artifact and the EMG \n",
    "            corr_abs = np.abs(corr)  # take abs value of correlation, since we search for pos and neg correlation\n",
    "            if np.max(corr_abs) > max_corr_val:  #why such a big number?\n",
    "                max_corr_val = np.max(corr_abs) \n"
   ]
  },
  {
   "cell_type": "markdown",
   "metadata": {},
   "source": [
    "#now plot the new code?"
   ]
  },
  {
   "cell_type": "code",
   "execution_count": 112,
   "metadata": {},
   "outputs": [],
   "source": [
    "th_corr = 0.6\n",
    "n_t_points_before = 0\n",
    "n_t_points_after = len(artifact_time_serie)"
   ]
  },
  {
   "cell_type": "code",
   "execution_count": 113,
   "metadata": {},
   "outputs": [],
   "source": [
    "min_size_transients = 100\n",
    "beta_value_transients = 1\n",
    "indices_to_go_back_and_zero = 50\n",
    "transient_index=-2\n",
    "end_index_zero_transients=-1"
   ]
  },
  {
   "cell_type": "code",
   "execution_count": null,
   "metadata": {},
   "outputs": [],
   "source": [
    "#try correlation finding only on one artifact\n",
    "\n",
    "time_points_trial_i=[int(i)for i in pData[\"3_5\"].Time_points]\n",
    "\n",
    "trial_i_muscle_i_elec_i_raw = pData[\"3_5\"].Raw[19]\n",
    "trial_i_muscle_i_elec_i_raw_to_zero = trial_i_muscle_i_elec_i_raw.copy()\n",
    "corr = sp.signal.correlate(trial_i_muscle_i_elec_i_raw, artifact_time_serie)  #here check which artifact\n",
    "lags = sp.signal.correlation_lags(len(trial_i_muscle_i_elec_i_raw), len(artifact_time_serie))\n",
    "corr_abs = np.abs(corr)\n",
    "corr_abs /= max_corr_val\n",
    "indices_to_delete = np.where(corr_abs>th_corr)[0] - (len(artifact_time_serie)) #W\n",
    "for i_index_to_delete in range(len(indices_to_delete)):\n",
    "    index_to_delete_i = indices_to_delete[i_index_to_delete] #For every index\n",
    "    trial_i_muscle_i_elec_i_raw_to_zero[index_to_delete_i-n_t_points_before:index_to_delete_i+n_t_points_after] = 0 #index + len of artifact will be set to zero, but i guess there is a problem; bc all the timepoints in the artifact are already save as indeces, thus too much deletion?\n",
    "    \n",
    "\n",
    "pData[\"3_5\"].TS_arts_1[19] = trial_i_muscle_i_elec_i_raw_to_zero\n",
    "pData[\"3_5\"].Time_points_arts_1= len(trial_i_muscle_i_elec_i_raw_to_zero)\n",
    "\n",
    "# trial_i_elec_i_muscle_i_trial_index = trial_i_elec_i_muscle_i.name\n",
    "# time_points_trial_i=int(trial_i_elec_i_muscle_i['Time_points'])\n",
    "# trial_i_muscle_i_elec_i_raw = trial_i_elec_i_muscle_i[\"Raw\"]\n",
    "# trial_i_muscle_i_elec_i_raw_to_zero = trial_i_muscle_i_elec_i_raw.copy()\n",
    "# corr = sp.signal.correlate(trial_i_muscle_i_elec_i_raw, artifact_time_serie)  #here check which artifact\n",
    "# lags = sp.signal.correlation_lags(len(trial_i_muscle_i_elec_i_raw), len(artifact_time_serie))\n",
    "# corr_abs = np.abs(corr)\n",
    "# corr_abs /= max_corr_val\n",
    "# indices_to_delete = np.where(corr_abs>th_corr)[0] - (len(artifact_time_serie)) #W\n",
    "# for i_index_to_delete in range(len(indices_to_delete)):\n",
    "#     index_to_delete_i = indices_to_delete[i_index_to_delete] #For every index\n",
    "#     trial_i_muscle_i_elec_i_raw_to_zero[index_to_delete_i-n_t_points_before:index_to_delete_i+n_t_points_after] = 0 #index + len of artifact will be set to zero, but i guess there is a problem; bc all the timepoints in the artifact are already save as indeces, thus too much deletion?\n",
    "    \n",
    "# trial_i_elec_i_muscle_i['TS_arts_1']\n",
    "# df_subject_no_empty.at[trial_i_elec_i_muscle_i_trial_index,'TS_arts_1'] = trial_i_muscle_i_elec_i_raw_to_zero\n",
    "# df_subject_no_empty.at[trial_i_elec_i_muscle_i_trial_index,'Time_points_arts_1'] = len(trial_i_muscle_i_elec_i_raw_to_zero)"
   ]
  },
  {
   "cell_type": "code",
   "execution_count": null,
   "metadata": {},
   "outputs": [],
   "source": [
    "\n",
    "#plot the raw and the corrected veriosn\n",
    "plt.figure(figsize = (10,5))\n",
    "plt.xlabel(\"Time_points\")\n",
    "plt.ylabel(\"EMG_signal\")\n",
    "plt.plot(pData[\"3_5\"].Raw[19], linewidth = 1.5, label=\"Raw_data\") #the whole trial\n",
    "plt.plot(pData[\"3_5\"].TS_arts_1[19], linewidth = 1.5, label=\"artifact_reduced\") #the whole trial\n",
    "plt.legend()\n",
    "\n",
    "\n",
    "# plt.figure(figsize = (10,5))\n",
    "# plt.xlabel(\"Time_points\")\n",
    "# plt.ylabel(\"EMG_signal\")\n",
    "# plt.plot(trial_i_elec_i_muscle_i['Raw'], linewidth = 1.5, label=\"Raw_data\") #the whole trial\n",
    "# plt.plot(trial_i_elec_i_muscle_i['TS_arts_1'], linewidth = 1.5, label=\"artifact_reduced\") #the whole trial\n",
    "# plt.legend()\n",
    "\n"
   ]
  },
  {
   "cell_type": "markdown",
   "metadata": {},
   "source": [
    "We go now through the data and create the new time-series"
   ]
  },
  {
   "cell_type": "code",
   "execution_count": null,
   "metadata": {
    "scrolled": true
   },
   "outputs": [],
   "source": [
    "# Add the missing columns\n",
    "df_subject_no_empty['TS_arts_filt_rect_meaned']=\"$\"\n",
    "df_subject_no_empty['Time_points_arts_filt_rect_meaned']=-1\n",
    "df_subject_no_empty['TS_arts_1'] =\"$\"\n",
    "df_subject_no_empty['Time_points_arts_1'] =-1\n",
    "df_subject_no_empty['TS_arts_2'] =\"$\"\n",
    "df_subject_no_empty['Time_points_arts_2']=-1\n",
    "df_subject_no_empty['TS_arts_filt'] =\"$\"\n",
    "df_subject_no_empty['Time_points_arts_filt'] =-1\n",
    "df_subject_no_empty['TS_arts_filt_rect'] =\"$\"\n",
    "df_subject_no_empty['Time_points_arts_filt_rect']=-1\n",
    "# Loop through the elecs\n",
    "for i_elec in range(0,n_list_elecs):\n",
    "    elec_i = list_elecs[i_elec]\n",
    "    df_subject_no_empty_elec_i = df_subject_no_empty.where(df_subject_no_empty['Elec_config']==elec_i)\n",
    "    df_subject_no_empty_elec_i.dropna(inplace=True)\n",
    "    list_muscle_or_other_elec_i = df_subject_no_empty_elec_i['Muscle_or_other'].unique()\n",
    "    n_muscle_or_other_elec_i = len(list_muscle_or_other_elec_i)\n",
    "    # Loop through the muscles of the elec_i\n",
    "    for i_muscle_or_other_elec_i in range(0,n_muscle_or_other_elec_i):\n",
    "        muscle_i_elec_i = list_muscle_or_other_elec_i[i_muscle_or_other_elec_i]\n",
    "        df_subject_no_empty_elec_i_muscle_i = df_subject_no_empty_elec_i.where(df_subject_no_empty_elec_i['Muscle_or_other']==muscle_i_elec_i)\n",
    "        df_subject_no_empty_elec_i_muscle_i.dropna(inplace=True)\n",
    "        # Loop through the trials of the muscle_i of the elec_i\n",
    "        n_trials_elec_i_muscle_i = len(df_subject_no_empty_elec_i_muscle_i)\n",
    "        for i_trials_elec_i_muscle_i in range(n_trials_elec_i_muscle_i):\n",
    "            trial_i_elec_i_muscle_i = df_subject_no_empty_elec_i_muscle_i.iloc[i_trials_elec_i_muscle_i]\n",
    "            trial_i_elec_i_muscle_i_trial_index = trial_i_elec_i_muscle_i.name\n",
    "            time_points_trial_i=int(trial_i_elec_i_muscle_i['Time_points'])\n",
    "            trial_i_muscle_i_elec_i_raw = trial_i_elec_i_muscle_i[\"Raw\"]\n",
    "            trial_i_muscle_i_elec_i_raw_to_zero = trial_i_muscle_i_elec_i_raw.copy()\n",
    "            corr = sp.signal.correlate(trial_i_muscle_i_elec_i_raw, artifact_time_serie)\n",
    "            lags = sp.signal.correlation_lags(len(trial_i_muscle_i_elec_i_raw), len(artifact_time_serie))\n",
    "            corr_abs = np.abs(corr)\n",
    "            corr_abs /= max_corr_val\n",
    "            indices_to_delete = np.where(corr_abs>th_corr)[0] - (len(artifact_time_serie)) #What is the goal of that??\n",
    "            for i_index_to_delete in range(len(indices_to_delete)):\n",
    "                index_to_delete_i = indices_to_delete[i_index_to_delete]\n",
    "                trial_i_muscle_i_elec_i_raw_to_zero[index_to_delete_i-n_t_points_before:index_to_delete_i+n_t_points_after] = 0\n",
    "            # algo_c = rpt.KernelCPD(kernel=\"rbf\", min_size=min_size_transients).fit(trial_i_muscle_i_elec_i_raw) \n",
    "            # penalty_value = beta_value_transients  # beta\n",
    "            # bkps_c = algo_c.predict(pen=penalty_value)\n",
    "            # putting_to_zero_index = bkps_c[transient_index]-indices_to_go_back_and_zero\n",
    "            # trial_i_muscle_i_elec_i_raw_to_zero_bis = trial_i_muscle_i_elec_i_raw_to_zero.copy()\n",
    "            # index_for_zero = int(putting_to_zero_index)\n",
    "            # trial_i_muscle_i_elec_i_raw_to_zero_bis[index_for_zero:end_index_zero_transients] = 0\n",
    "            # Saving in the dataframe\n",
    "            df_subject_no_empty.at[trial_i_elec_i_muscle_i_trial_index,'TS_arts_1'] = trial_i_muscle_i_elec_i_raw_to_zero\n",
    "            df_subject_no_empty.at[trial_i_elec_i_muscle_i_trial_index,'Time_points_arts_1'] = len(trial_i_muscle_i_elec_i_raw_to_zero)\n",
    "            # df_subject_no_empty.at[trial_i_elec_i_muscle_i_trial_index,'TS_arts_2'] = trial_i_muscle_i_elec_i_raw_to_zero_bis\n",
    "            # df_subject_no_empty.at[trial_i_elec_i_muscle_i_trial_index,'Time_points_arts_2'] = len(trial_i_muscle_i_elec_i_raw_to_zero_bis)\n",
    "            # trial_i_muscle_i_elec_i_filtered = sp.signal.sosfilt(butter_sos_filter, trial_i_muscle_i_elec_i_raw_to_zero_bis)\n",
    "            # df_subject_no_empty.at[trial_i_elec_i_muscle_i_trial_index,'TS_arts_filt'] = trial_i_muscle_i_elec_i_filtered\n",
    "            # df_subject_no_empty.at[trial_i_elec_i_muscle_i_trial_index,'Time_points_arts_filt'] = len(trial_i_muscle_i_elec_i_filtered)\n",
    "            # trial_i_muscle_i_elec_i_filtered_rectified = np.abs(trial_i_muscle_i_elec_i_filtered)\n",
    "            # df_subject_no_empty.at[trial_i_elec_i_muscle_i_trial_index,'TS_arts_filt_rect'] = trial_i_muscle_i_elec_i_filtered_rectified\n",
    "            # df_subject_no_empty.at[trial_i_elec_i_muscle_i_trial_index,'Time_points_arts_filt_rect'] = len(trial_i_muscle_i_elec_i_filtered_rectified)\n",
    "            # trial_i_muscle_i_elec_i_filtered_rectified_meaned = sp.ndimage.filters.uniform_filter1d(trial_i_muscle_i_elec_i_filtered_rectified,size=average_window_filter_size)\n",
    "            # df_subject_no_empty.at[trial_i_elec_i_muscle_i_trial_index,'TS_arts_filt_rect_meaned'] = trial_i_muscle_i_elec_i_filtered_rectified_meaned\n",
    "            # df_subject_no_empty.at[trial_i_elec_i_muscle_i_trial_index,'Time_points_arts_filt_rect_meaned'] = len(trial_i_muscle_i_elec_i_filtered_rectified_meaned)            "
   ]
  },
  {
   "cell_type": "code",
   "execution_count": null,
   "metadata": {},
   "outputs": [],
   "source": [
    "plt.figure(figsize = (10,5))\n",
    "plt.xlabel(\"Time_points\")\n",
    "plt.ylabel(\"EMG_signal\")\n",
    "plt.plot(trial_i_elec_i_muscle_i['Raw'], linewidth = 1.5, label=\"Raw_data\") #the whole trial\n",
    "plt.plot(trial_i_elec_i_muscle_i['TS_arts_1'], linewidth = 1.5, label=\"artifact_reduced\") #the whole trial\n",
    "plt.legend()"
   ]
  },
  {
   "cell_type": "markdown",
   "metadata": {},
   "source": [
    "### Second artifact"
   ]
  },
  {
   "cell_type": "code",
   "execution_count": 127,
   "metadata": {},
   "outputs": [
    {
     "name": "stdout",
     "output_type": "stream",
     "text": [
      "LMG\n",
      "\n",
      "1689     9.0\n",
      "1690    10.0\n",
      "        ... \n",
      "1762    82.0\n",
      "1763    83.0\n",
      "Name: Trial_number, Length: 74, dtype: float64\n"
     ]
    },
    {
     "data": {
      "image/png": "[encoded data removed]",
      "text/plain": [
       "<Figure size 1000x500 with 1 Axes>"
      ]
     },
     "metadata": {},
     "output_type": "display_data"
    }
   ],
   "source": [
    "# #Plot artifact two\n",
    "# plot_artifact(i_elec_artifact=1,i_muscle_i_elec_artifact=3,i_trial_i_muscle_i_elec_artifact=63,init_t_artifact=0,end_t_artifact=390, artifact_number=2)\n",
    "\n",
    "i_elec_artifact=1\n",
    "i_muscle_i_elec_artifact=3\n",
    "i_trial_i_muscle_i_elec_artifact=63\n",
    "init_t_artifact=0\n",
    "end_t_artifact=390\n",
    "artifact_number=2\n",
    "elec_i = list_elecs[i_elec_artifact]\n",
    "df_subject_no_empty_elec_i = df_subject_no_empty.where(df_subject_no_empty['Elec_config']==elec_i) #df with only sepc electrode\n",
    "df_subject_no_empty_elec_i.dropna(inplace=True) \n",
    "list_muscle_or_other_elec_i = df_subject_no_empty_elec_i['Muscle_or_other'].unique() #Returns the sorted unique elements of an array\n",
    "n_muscle_or_other_elec_i = len(list_muscle_or_other_elec_i)\n",
    "muscle_i_elec_i = list_muscle_or_other_elec_i[i_muscle_i_elec_artifact]\n",
    "print(muscle_i_elec_i)\n",
    "df_subject_no_empty_elec_i_muscle_i = df_subject_no_empty_elec_i.where(df_subject_no_empty_elec_i['Muscle_or_other']==muscle_i_elec_i)\n",
    "df_subject_no_empty_elec_i_muscle_i.dropna(inplace=True)\n",
    "print()\n",
    "n_trials_elec_i_muscle_i = len(df_subject_no_empty_elec_i_muscle_i)\n",
    "trial_i_elec_i_muscle_i = df_subject_no_empty_elec_i_muscle_i.iloc[i_trial_i_muscle_i_elec_artifact]\n",
    "print(df_subject_no_empty_elec_i_muscle_i[\"Trial_number\"])\n",
    "time_points_trial_i=int(trial_i_elec_i_muscle_i['Time_points']) #number of time points\n",
    "#evt change dt to 1/time_points_trial_i\n",
    "time_array = dt*np.arange(1,time_points_trial_i+1) #dt = 1/fs sampling interval( abhängig vom EMG)\n",
    "trial_i_muscle_i_elec_i_raw = trial_i_elec_i_muscle_i[time_series_key]\n",
    "plt.figure(figsize = (10,5))\n",
    "offset = 1.0\n",
    "\n",
    "plt.plot(time_array[init_t_plot:end_t_plot],trial_i_muscle_i_elec_i_raw[init_t_plot:end_t_plot]+ offset, linewidth = 1.5, color = (i_trial_i_muscle_i_elec_artifact/n_trials_elec_i_muscle_i, 0.2, 0.3)) \n",
    "plt.plot(time_array[init_t_artifact:end_t_artifact],trial_i_muscle_i_elec_i_raw[init_t_artifact:end_t_artifact], linewidth = 1.5, color = (i_trial_i_muscle_i_elec_artifact/n_trials_elec_i_muscle_i, 0.2, 0.3)) \n",
    "artifact_time_serie = trial_i_muscle_i_elec_i_raw[init_t_artifact:end_t_artifact]"
   ]
  },
  {
   "cell_type": "code",
   "execution_count": 121,
   "metadata": {},
   "outputs": [
    {
     "name": "stdout",
     "output_type": "stream",
     "text": [
      "artifact_number:2\n"
     ]
    }
   ],
   "source": [
    "#save artifact\n",
    "print(f\"artifact_number:{artifact_number}\" )\n",
    "subject_plots_folder_name=subject+'_plots'\n",
    "save_folder = os.path.join(data_folder,subject_plots_folder_name)\n",
    "save_file = subject+\"artf\"+str(artifact_number)+\"_\"+str(i_elec_artifact)+\"_\"+str(i_muscle_i_elec_artifact)+\"_\"+str(i_trial_i_muscle_i_elec_artifact)+\"_\"+str(init_t_artifact)+\"-\"+str(end_t_artifact)+\".csv\"\n",
    "save_file_path = os.path.join(save_folder,save_file)\n",
    "np.savetxt(save_file_path, artifact_time_serie, delimiter=',')"
   ]
  },
  {
   "cell_type": "code",
   "execution_count": 122,
   "metadata": {},
   "outputs": [],
   "source": [
    "# Find the max cross_corr overall for normalization\n",
    "max_corr_val = -99 #why so high? isnt correlation normally from 0 to 1?\n",
    "for i_elec in range(n_list_elecs):\n",
    "    elec_i = list_elecs[i_elec]\n",
    "    df_subject_no_empty_elec_i = df_subject_no_empty.where(df_subject_no_empty['Elec_config']==elec_i)\n",
    "    df_subject_no_empty_elec_i.dropna(inplace=True)\n",
    "    list_muscle_or_other_elec_i = df_subject_no_empty_elec_i['Muscle_or_other'].unique()\n",
    "    n_muscle_or_other_elec_i = len(list_muscle_or_other_elec_i)\n",
    "    for i_muscle_or_other_elec_i in range(n_muscle_or_other_elec_i):\n",
    "        muscle_i_elec_i = list_muscle_or_other_elec_i[i_muscle_or_other_elec_i]\n",
    "        df_subject_no_empty_elec_i_muscle_i = df_subject_no_empty_elec_i.where(df_subject_no_empty_elec_i['Muscle_or_other']==muscle_i_elec_i)\n",
    "        df_subject_no_empty_elec_i_muscle_i.dropna(inplace=True)\n",
    "        n_trials_elec_i_muscle_i = len(df_subject_no_empty_elec_i_muscle_i)\n",
    "        for i_trials_elec_i_muscle_i in range(n_trials_elec_i_muscle_i):\n",
    "            trial_i_elec_i_muscle_i = df_subject_no_empty_elec_i_muscle_i.iloc[i_trials_elec_i_muscle_i]\n",
    "            trial_i_muscle_i_elec_i_raw = trial_i_elec_i_muscle_i[time_series_key]\n",
    "            corr = sp.signal.correlate(trial_i_muscle_i_elec_i_raw, artifact_time_serie) # saves the correlation betweeen the artifact and the EMG \n",
    "            corr_abs = np.abs(corr)  # take abs value of correlation, since we search for pos and neg correlation\n",
    "            if np.max(corr_abs) > max_corr_val:  #why such a big number?\n",
    "                max_corr_val = np.max(corr_abs) "
   ]
  },
  {
   "cell_type": "code",
   "execution_count": 123,
   "metadata": {},
   "outputs": [],
   "source": [
    "#try correlation finding only on one artifact\n",
    "\n",
    "time_points_trial_i=[int(i)for i in pData[\"1_3\"].Time_points]\n",
    "\n",
    "trial_i_muscle_i_elec_i_raw = pData[\"1_3\"].Raw[63]\n",
    "trial_i_muscle_i_elec_i_raw_to_zero = trial_i_muscle_i_elec_i_raw.copy()\n",
    "corr = sp.signal.correlate(trial_i_muscle_i_elec_i_raw, artifact_time_serie)  #here check which artifact\n",
    "lags = sp.signal.correlation_lags(len(trial_i_muscle_i_elec_i_raw), len(artifact_time_serie))\n",
    "corr_abs = np.abs(corr)\n",
    "corr_abs /= max_corr_val\n",
    "indices_to_delete = np.where(corr_abs>th_corr)[0] - (len(artifact_time_serie)) #W\n",
    "for i_index_to_delete in range(len(indices_to_delete)):\n",
    "    index_to_delete_i = indices_to_delete[i_index_to_delete] #For every index\n",
    "    trial_i_muscle_i_elec_i_raw_to_zero[index_to_delete_i-n_t_points_before:index_to_delete_i+n_t_points_after] = 0 #index + len of artifact will be set to zero, but i guess there is a problem; bc all the timepoints in the artifact are already save as indeces, thus too much deletion?\n",
    "    \n",
    "\n",
    "pData[\"1_3\"].TS_arts_1[63] = trial_i_muscle_i_elec_i_raw_to_zero\n",
    "\n",
    "# pData[\"3_5\"].Time_points_arts_1[19]= len(trial_i_muscle_i_elec_i_raw_to_zero)\n",
    "\n",
    "# trial_i_elec_i_muscle_i_trial_index = trial_i_elec_i_muscle_i.name\n",
    "# time_points_trial_i=int(trial_i_elec_i_muscle_i['Time_points'])\n",
    "# trial_i_muscle_i_elec_i_raw = trial_i_elec_i_muscle_i[\"Raw\"]\n",
    "# trial_i_muscle_i_elec_i_raw_to_zero = trial_i_muscle_i_elec_i_raw.copy()\n",
    "# corr = sp.signal.correlate(trial_i_muscle_i_elec_i_raw, artifact_time_serie)  #here check which artifact\n",
    "# lags = sp.signal.correlation_lags(len(trial_i_muscle_i_elec_i_raw), len(artifact_time_serie))\n",
    "# corr_abs = np.abs(corr)\n",
    "# corr_abs /= max_corr_val\n",
    "# indices_to_delete = np.where(corr_abs>th_corr)[0] - (len(artifact_time_serie)) #W\n",
    "# for i_index_to_delete in range(len(indices_to_delete)):\n",
    "#     index_to_delete_i = indices_to_delete[i_index_to_delete] #For every index\n",
    "#     trial_i_muscle_i_elec_i_raw_to_zero[index_to_delete_i-n_t_points_before:index_to_delete_i+n_t_points_after] = 0 #index + len of artifact will be set to zero, but i guess there is a problem; bc all the timepoints in the artifact are already save as indeces, thus too much deletion?\n",
    "    \n",
    "# trial_i_elec_i_muscle_i['TS_arts_1']\n",
    "# df_subject_no_empty.at[trial_i_elec_i_muscle_i_trial_index,'TS_arts_1'] = trial_i_muscle_i_elec_i_raw_to_zero\n",
    "# df_subject_no_empty.at[trial_i_elec_i_muscle_i_trial_index,'Time_points_arts_1'] = len(trial_i_muscle_i_elec_i_raw_to_zero)"
   ]
  },
  {
   "cell_type": "code",
   "execution_count": null,
   "metadata": {},
   "outputs": [],
   "source": [
    "#plot the raw and the corrected veriosn\n",
    "plt.figure(figsize = (10,5))\n",
    "plt.xlabel(\"Time_points\")\n",
    "plt.ylabel(\"EMG_signal\")\n",
    "plt.ylim(-3, 4)\n",
    "plt.plot(pData[\"1_3\"].Raw[63], linewidth = 1.5, label=\"Raw_data\") #the whole trial\n",
    "plt.plot(pData[\"1_3\"].TS_arts_1[63], linewidth = 1.5, label=\"artifact_reduced\") #the whole trial\n",
    "plt.legend()"
   ]
  },
  {
   "cell_type": "markdown",
   "metadata": {},
   "source": [
    "### Third artifact"
   ]
  },
  {
   "cell_type": "code",
   "execution_count": null,
   "metadata": {},
   "outputs": [],
   "source": [
    "# #plot third artifact\n",
    "# plot_artifact(i_elec_artifact=3, i_muscle_i_elec_artifact=7, i_trial_i_muscle_i_elec_artifact=27, init_t_artifact=100, end_t_artifact=590, artifact_number=3)\n",
    "\n",
    "\n",
    "i_elec_artifact=3\n",
    "i_muscle_i_elec_artifact=7\n",
    "i_trial_i_muscle_i_elec_artifact=27\n",
    "init_t_artifact=100\n",
    "end_t_artifact=590\n",
    "artifact_number=3\n",
    "elec_i = list_elecs[i_elec_artifact]\n",
    "df_subject_no_empty_elec_i = df_subject_no_empty.where(df_subject_no_empty['Elec_config']==elec_i) #df with only sepc electrode\n",
    "df_subject_no_empty_elec_i.dropna(inplace=True) \n",
    "list_muscle_or_other_elec_i = df_subject_no_empty_elec_i['Muscle_or_other'].unique() #Returns the sorted unique elements of an array\n",
    "n_muscle_or_other_elec_i = len(list_muscle_or_other_elec_i)\n",
    "muscle_i_elec_i = list_muscle_or_other_elec_i[i_muscle_i_elec_artifact]\n",
    "print(muscle_i_elec_i)\n",
    "df_subject_no_empty_elec_i_muscle_i = df_subject_no_empty_elec_i.where(df_subject_no_empty_elec_i['Muscle_or_other']==muscle_i_elec_i)\n",
    "df_subject_no_empty_elec_i_muscle_i.dropna(inplace=True)\n",
    "print()\n",
    "n_trials_elec_i_muscle_i = len(df_subject_no_empty_elec_i_muscle_i)\n",
    "trial_i_elec_i_muscle_i = df_subject_no_empty_elec_i_muscle_i.iloc[i_trial_i_muscle_i_elec_artifact]\n",
    "print(df_subject_no_empty_elec_i_muscle_i[\"Trial_number\"])\n",
    "time_points_trial_i=int(trial_i_elec_i_muscle_i['Time_points']) #number of time points\n",
    "#evt change dt to 1/time_points_trial_i\n",
    "time_array = dt*np.arange(1,time_points_trial_i+1) #dt = 1/fs sampling interval( abhängig vom EMG)\n",
    "trial_i_muscle_i_elec_i_raw = trial_i_elec_i_muscle_i[time_series_key]\n",
    "plt.figure(figsize = (10,5))\n",
    "offset = 1.0\n",
    "\n",
    "plt.plot(time_array[init_t_plot:end_t_plot],trial_i_muscle_i_elec_i_raw[init_t_plot:end_t_plot]+ offset, linewidth = 1.5, color = (i_trial_i_muscle_i_elec_artifact/n_trials_elec_i_muscle_i, 0.2, 0.3)) \n",
    "plt.plot(time_array[init_t_artifact:end_t_artifact],trial_i_muscle_i_elec_i_raw[init_t_artifact:end_t_artifact], linewidth = 1.5, color = (i_trial_i_muscle_i_elec_artifact/n_trials_elec_i_muscle_i, 0.2, 0.3)) \n",
    "artifact_time_serie = trial_i_muscle_i_elec_i_raw[init_t_artifact:end_t_artifact]"
   ]
  },
  {
   "cell_type": "code",
   "execution_count": null,
   "metadata": {},
   "outputs": [
    {
     "name": "stdout",
     "output_type": "stream",
     "text": [
      "artifact_number:2\n"
     ]
    }
   ],
   "source": [
    "#save artifact\n",
    "print(f\"artifact_number:{artifact_number}\" )\n",
    "subject_plots_folder_name=subject+'_plots'\n",
    "save_folder = os.path.join(data_folder,subject_plots_folder_name)\n",
    "save_file = subject+\"artf\"+str(artifact_number)+\"_\"+str(i_elec_artifact)+\"_\"+str(i_muscle_i_elec_artifact)+\"_\"+str(i_trial_i_muscle_i_elec_artifact)+\"_\"+str(init_t_artifact)+\"-\"+str(end_t_artifact)+\".csv\"\n",
    "save_file_path = os.path.join(save_folder,save_file)\n",
    "np.savetxt(save_file_path, artifact_time_serie, delimiter=',')"
   ]
  },
  {
   "cell_type": "code",
   "execution_count": null,
   "metadata": {},
   "outputs": [],
   "source": [
    "# Find the max cross_corr overall for normalization\n",
    "max_corr_val = -99 #why so high? isnt correlation normally from 0 to 1?\n",
    "for i_elec in range(n_list_elecs):\n",
    "    elec_i = list_elecs[i_elec]\n",
    "    df_subject_no_empty_elec_i = df_subject_no_empty.where(df_subject_no_empty['Elec_config']==elec_i)\n",
    "    df_subject_no_empty_elec_i.dropna(inplace=True)\n",
    "    list_muscle_or_other_elec_i = df_subject_no_empty_elec_i['Muscle_or_other'].unique()\n",
    "    n_muscle_or_other_elec_i = len(list_muscle_or_other_elec_i)\n",
    "    for i_muscle_or_other_elec_i in range(n_muscle_or_other_elec_i):\n",
    "        muscle_i_elec_i = list_muscle_or_other_elec_i[i_muscle_or_other_elec_i]\n",
    "        df_subject_no_empty_elec_i_muscle_i = df_subject_no_empty_elec_i.where(df_subject_no_empty_elec_i['Muscle_or_other']==muscle_i_elec_i)\n",
    "        df_subject_no_empty_elec_i_muscle_i.dropna(inplace=True)\n",
    "        n_trials_elec_i_muscle_i = len(df_subject_no_empty_elec_i_muscle_i)\n",
    "        for i_trials_elec_i_muscle_i in range(n_trials_elec_i_muscle_i):\n",
    "            trial_i_elec_i_muscle_i = df_subject_no_empty_elec_i_muscle_i.iloc[i_trials_elec_i_muscle_i]\n",
    "            trial_i_muscle_i_elec_i_raw = trial_i_elec_i_muscle_i[time_series_key]\n",
    "            corr = sp.signal.correlate(trial_i_muscle_i_elec_i_raw, artifact_time_serie) # saves the correlation betweeen the artifact and the EMG \n",
    "            corr_abs = np.abs(corr)  # take abs value of correlation, since we search for pos and neg correlation\n",
    "            if np.max(corr_abs) > max_corr_val:  #why such a big number?\n",
    "                max_corr_val = np.max(corr_abs) "
   ]
  },
  {
   "cell_type": "code",
   "execution_count": 135,
   "metadata": {},
   "outputs": [],
   "source": [
    "#try correlation finding only on one artifact\n",
    "time_points_trial_i=[int(i)for i in pData[\"3_7\"].Time_points]\n",
    "\n",
    "trial_i_muscle_i_elec_i_raw = pData[\"3_7\"].Raw[27]\n",
    "trial_i_muscle_i_elec_i_raw_to_zero = trial_i_muscle_i_elec_i_raw.copy()\n",
    "corr = sp.signal.correlate(trial_i_muscle_i_elec_i_raw, artifact_time_serie)  #here check which artifact\n",
    "lags = sp.signal.correlation_lags(len(trial_i_muscle_i_elec_i_raw), len(artifact_time_serie))\n",
    "corr_abs = np.abs(corr)\n",
    "corr_abs /= max_corr_val\n",
    "indices_to_delete = np.where(corr_abs>th_corr)[0] - (len(artifact_time_serie)) #W\n",
    "for i_index_to_delete in range(len(indices_to_delete)):\n",
    "    index_to_delete_i = indices_to_delete[i_index_to_delete] #For every index\n",
    "    trial_i_muscle_i_elec_i_raw_to_zero[index_to_delete_i-n_t_points_before:index_to_delete_i+n_t_points_after] = 0 #index + len of artifact will be set to zero, but i guess there is a problem; bc all the timepoints in the artifact are already save as indeces, thus too much deletion?\n",
    "    \n",
    "\n",
    "pData[\"3_7\"].TS_arts_1 = trial_i_muscle_i_elec_i_raw_to_zero\n",
    "pData[\"3_7\"].Time_points_arts_1= len(trial_i_muscle_i_elec_i_raw_to_zero)"
   ]
  },
  {
   "cell_type": "code",
   "execution_count": 137,
   "metadata": {},
   "outputs": [
    {
     "data": {
      "text/plain": [
       "<matplotlib.legend.Legend at 0x7f8d346d1e40>"
      ]
     },
     "execution_count": 137,
     "metadata": {},
     "output_type": "execute_result"
    },
    {
     "data": {
      "image/png": "[encoded data removed]",
      "text/plain": [
       "<Figure size 1000x500 with 1 Axes>"
      ]
     },
     "metadata": {},
     "output_type": "display_data"
    }
   ],
   "source": [
    "#plot the raw and the corrected veriosn\n",
    "plt.figure(figsize = (10,5))\n",
    "plt.xlabel(\"Time_points\")\n",
    "plt.ylabel(\"EMG_signal\")\n",
    "plt.ylim(-3, 4)\n",
    "plt.plot(pData[\"3_7\"].Raw[27], linewidth = 1.5, label=\"Raw_data\") #the whole trial\n",
    "plt.plot(pData[\"3_7\"].TS_arts_1[27], linewidth = 1.5, label=\"artifact_reduced\") #the whole trial\n",
    "plt.legend()"
   ]
  },
  {
   "cell_type": "markdown",
   "metadata": {},
   "source": [
    "### Fourth artifact"
   ]
  },
  {
   "cell_type": "code",
   "execution_count": 138,
   "metadata": {},
   "outputs": [
    {
     "name": "stdout",
     "output_type": "stream",
     "text": [
      "RTA\n",
      "\n",
      "2284     9.0\n",
      "2285    10.0\n",
      "        ... \n",
      "2357    82.0\n",
      "2358    83.0\n",
      "Name: Trial_number, Length: 74, dtype: float64\n"
     ]
    },
    {
     "data": {
      "image/png": "[encoded data removed]",
      "text/plain": [
       "<Figure size 1000x500 with 1 Axes>"
      ]
     },
     "metadata": {},
     "output_type": "display_data"
    }
   ],
   "source": [
    "#plot fourth artifact\n",
    "# plot_artifact(i_elec_artifact=1, i_muscle_i_elec_artifact=10, i_trial_i_muscle_i_elec_artifact=46, init_t_artifact=550, end_t_artifact=1400, artifact_number=4)\n",
    "\n",
    "i_elec_artifact=1\n",
    "i_muscle_i_elec_artifact=10\n",
    "i_trial_i_muscle_i_elec_artifact=46\n",
    "init_t_artifact=550\n",
    "end_t_artifact=1400\n",
    "artifact_number=4\n",
    "elec_i = list_elecs[i_elec_artifact]\n",
    "df_subject_no_empty_elec_i = df_subject_no_empty.where(df_subject_no_empty['Elec_config']==elec_i) #df with only sepc electrode\n",
    "df_subject_no_empty_elec_i.dropna(inplace=True) \n",
    "list_muscle_or_other_elec_i = df_subject_no_empty_elec_i['Muscle_or_other'].unique() #Returns the sorted unique elements of an array\n",
    "n_muscle_or_other_elec_i = len(list_muscle_or_other_elec_i)\n",
    "muscle_i_elec_i = list_muscle_or_other_elec_i[i_muscle_i_elec_artifact]\n",
    "print(muscle_i_elec_i)\n",
    "df_subject_no_empty_elec_i_muscle_i = df_subject_no_empty_elec_i.where(df_subject_no_empty_elec_i['Muscle_or_other']==muscle_i_elec_i)\n",
    "df_subject_no_empty_elec_i_muscle_i.dropna(inplace=True)\n",
    "print()\n",
    "n_trials_elec_i_muscle_i = len(df_subject_no_empty_elec_i_muscle_i)\n",
    "trial_i_elec_i_muscle_i = df_subject_no_empty_elec_i_muscle_i.iloc[i_trial_i_muscle_i_elec_artifact]\n",
    "print(df_subject_no_empty_elec_i_muscle_i[\"Trial_number\"])\n",
    "time_points_trial_i=int(trial_i_elec_i_muscle_i['Time_points']) #number of time points\n",
    "#evt change dt to 1/time_points_trial_i\n",
    "time_array = dt*np.arange(1,time_points_trial_i+1) #dt = 1/fs sampling interval( abhängig vom EMG)\n",
    "trial_i_muscle_i_elec_i_raw = trial_i_elec_i_muscle_i[time_series_key]\n",
    "plt.figure(figsize = (10,5))\n",
    "offset = 1.0\n",
    "\n",
    "plt.plot(time_array[init_t_plot:end_t_plot],trial_i_muscle_i_elec_i_raw[init_t_plot:end_t_plot]+ offset, linewidth = 1.5, color = (i_trial_i_muscle_i_elec_artifact/n_trials_elec_i_muscle_i, 0.2, 0.3)) \n",
    "plt.plot(time_array[init_t_artifact:end_t_artifact],trial_i_muscle_i_elec_i_raw[init_t_artifact:end_t_artifact], linewidth = 1.5, color = (i_trial_i_muscle_i_elec_artifact/n_trials_elec_i_muscle_i, 0.2, 0.3)) \n",
    "artifact_time_serie = trial_i_muscle_i_elec_i_raw[init_t_artifact:end_t_artifact]"
   ]
  },
  {
   "cell_type": "code",
   "execution_count": 139,
   "metadata": {},
   "outputs": [
    {
     "name": "stdout",
     "output_type": "stream",
     "text": [
      "artifact_number:4\n"
     ]
    }
   ],
   "source": [
    "#save artifact\n",
    "print(f\"artifact_number:{artifact_number}\" )\n",
    "subject_plots_folder_name=subject+'_plots'\n",
    "save_folder = os.path.join(data_folder,subject_plots_folder_name)\n",
    "save_file = subject+\"artf\"+str(artifact_number)+\"_\"+str(i_elec_artifact)+\"_\"+str(i_muscle_i_elec_artifact)+\"_\"+str(i_trial_i_muscle_i_elec_artifact)+\"_\"+str(init_t_artifact)+\"-\"+str(end_t_artifact)+\".csv\"\n",
    "save_file_path = os.path.join(save_folder,save_file)\n",
    "np.savetxt(save_file_path, artifact_time_serie, delimiter=',')"
   ]
  },
  {
   "cell_type": "code",
   "execution_count": 140,
   "metadata": {},
   "outputs": [],
   "source": [
    "# Find the max cross_corr overall for normalization\n",
    "max_corr_val = -99 #why so high? isnt correlation normally from 0 to 1?\n",
    "for i_elec in range(n_list_elecs):\n",
    "    elec_i = list_elecs[i_elec]\n",
    "    df_subject_no_empty_elec_i = df_subject_no_empty.where(df_subject_no_empty['Elec_config']==elec_i)\n",
    "    df_subject_no_empty_elec_i.dropna(inplace=True)\n",
    "    list_muscle_or_other_elec_i = df_subject_no_empty_elec_i['Muscle_or_other'].unique()\n",
    "    n_muscle_or_other_elec_i = len(list_muscle_or_other_elec_i)\n",
    "    for i_muscle_or_other_elec_i in range(n_muscle_or_other_elec_i):\n",
    "        muscle_i_elec_i = list_muscle_or_other_elec_i[i_muscle_or_other_elec_i]\n",
    "        df_subject_no_empty_elec_i_muscle_i = df_subject_no_empty_elec_i.where(df_subject_no_empty_elec_i['Muscle_or_other']==muscle_i_elec_i)\n",
    "        df_subject_no_empty_elec_i_muscle_i.dropna(inplace=True)\n",
    "        n_trials_elec_i_muscle_i = len(df_subject_no_empty_elec_i_muscle_i)\n",
    "        for i_trials_elec_i_muscle_i in range(n_trials_elec_i_muscle_i):\n",
    "            trial_i_elec_i_muscle_i = df_subject_no_empty_elec_i_muscle_i.iloc[i_trials_elec_i_muscle_i]\n",
    "            trial_i_muscle_i_elec_i_raw = trial_i_elec_i_muscle_i[time_series_key]\n",
    "            corr = sp.signal.correlate(trial_i_muscle_i_elec_i_raw, artifact_time_serie) # saves the correlation betweeen the artifact and the EMG \n",
    "            corr_abs = np.abs(corr)  # take abs value of correlation, since we search for pos and neg correlation\n",
    "            if np.max(corr_abs) > max_corr_val:  #why such a big number?\n",
    "                max_corr_val = np.max(corr_abs) "
   ]
  },
  {
   "cell_type": "code",
   "execution_count": 142,
   "metadata": {},
   "outputs": [],
   "source": [
    "#try correlation finding only on one artifact\n",
    "time_points_trial_i=[int(i)for i in pData[\"1_10\"].Time_points]\n",
    "\n",
    "trial_i_muscle_i_elec_i_raw = pData[\"1_10\"].Raw[46]\n",
    "trial_i_muscle_i_elec_i_raw_to_zero = trial_i_muscle_i_elec_i_raw.copy()\n",
    "corr = sp.signal.correlate(trial_i_muscle_i_elec_i_raw, artifact_time_serie)  #here check which artifact\n",
    "lags = sp.signal.correlation_lags(len(trial_i_muscle_i_elec_i_raw), len(artifact_time_serie))\n",
    "corr_abs = np.abs(corr)\n",
    "corr_abs /= max_corr_val\n",
    "indices_to_delete = np.where(corr_abs>th_corr)[0] - (len(artifact_time_serie)) #W\n",
    "for i_index_to_delete in range(len(indices_to_delete)):\n",
    "    index_to_delete_i = indices_to_delete[i_index_to_delete] #For every index\n",
    "    trial_i_muscle_i_elec_i_raw_to_zero[index_to_delete_i-n_t_points_before:index_to_delete_i+n_t_points_after] = 0 #index + len of artifact will be set to zero, but i guess there is a problem; bc all the timepoints in the artifact are already save as indeces, thus too much deletion?\n",
    "    \n",
    "\n",
    "pData[\"1_10\"].TS_arts_1 = trial_i_muscle_i_elec_i_raw_to_zero\n",
    "pData[\"1_10\"].Time_points_arts_1= len(trial_i_muscle_i_elec_i_raw_to_zero)"
   ]
  },
  {
   "cell_type": "code",
   "execution_count": 143,
   "metadata": {},
   "outputs": [
    {
     "data": {
      "text/plain": [
       "<matplotlib.legend.Legend at 0x7f8d35501240>"
      ]
     },
     "execution_count": 143,
     "metadata": {},
     "output_type": "execute_result"
    },
    {
     "data": {
      "image/png": "[encoded data removed]",
      "text/plain": [
       "<Figure size 1000x500 with 1 Axes>"
      ]
     },
     "metadata": {},
     "output_type": "display_data"
    }
   ],
   "source": [
    "#plot the raw and the corrected veriosn\n",
    "plt.figure(figsize = (10,5))\n",
    "plt.xlabel(\"Time_points\")\n",
    "plt.ylabel(\"EMG_signal\")\n",
    "plt.ylim(-3, 4)\n",
    "plt.plot(pData[\"1_10\"].Raw[46], linewidth = 1.5, label=\"Raw_data\") #the whole trial\n",
    "plt.plot(pData[\"1_10\"].TS_arts_1[46], linewidth = 1.5, label=\"artifact_reduced\") #the whole trial\n",
    "plt.legend()"
   ]
  },
  {
   "cell_type": "markdown",
   "metadata": {},
   "source": [
    "# Now we can plot and save the filtered data"
   ]
  },
  {
   "cell_type": "code",
   "execution_count": null,
   "metadata": {},
   "outputs": [],
   "source": [
    "# save_flag=1\n",
    "# subject_plots_folder_name=subject+'_plots'\n",
    "# save_folder = os.path.join(data_folder,subject_plots_folder_name,\"Arts_2_complete\")\n",
    "# os.makedirs(save_folder,exist_ok=True)"
   ]
  },
  {
   "cell_type": "code",
   "execution_count": null,
   "metadata": {},
   "outputs": [],
   "source": [
    "time_series_key='TS_arts_2'\n",
    "time_points_key='Time_points_arts_2'\n",
    "init_t_plot = 0\n",
    "end_t_plot = -1"
   ]
  },
  {
   "cell_type": "code",
   "execution_count": null,
   "metadata": {},
   "outputs": [],
   "source": [
    "###Plot all the graphs\n",
    "#to run set run =1\n",
    "run=1\n",
    "if run ==1:\n",
    "    list_elecs = df_subject_no_empty['Elec_config'].unique()\n",
    "    n_list_elecs = len(list_elecs)\n",
    "    for i_elec in range(n_list_elecs):\n",
    "        elec_i = list_elecs[i_elec]\n",
    "        df_subject_no_empty_elec_i = df_subject_no_empty.where(df_subject_no_empty['Elec_config']==elec_i)\n",
    "        df_subject_no_empty_elec_i.dropna(inplace=True)\n",
    "        list_muscle_or_other_elec_i = df_subject_no_empty_elec_i['Muscle_or_other'].unique()\n",
    "        n_muscle_or_other_elec_i = len(list_muscle_or_other_elec_i)\n",
    "        for i_muscle_or_other_elec_i in range(n_muscle_or_other_elec_i):\n",
    "            muscle_i_elec_i = list_muscle_or_other_elec_i[i_muscle_or_other_elec_i]\n",
    "            df_subject_no_empty_elec_i_muscle_i = df_subject_no_empty_elec_i.where(df_subject_no_empty_elec_i['Muscle_or_other']==muscle_i_elec_i)\n",
    "            df_subject_no_empty_elec_i_muscle_i.dropna(inplace=True)\n",
    "            plot_trial_elec_i_muscle_i(df_subject_no_empty_elec_i_muscle_i,elec_i=elec_i, muscle_i_elec_i=muscle_i_elec_i, time_series_key=time_series_key,time_points_key=time_points_key,init_t_plot =init_t_plot ,end_t_plot =end_t_plot ,save_flag=save_flag,save_folder=save_folder)"
   ]
  },
  {
   "cell_type": "markdown",
   "metadata": {},
   "source": [
    "# Organize the data"
   ]
  },
  {
   "cell_type": "code",
   "execution_count": null,
   "metadata": {},
   "outputs": [],
   "source": [
    "###Save every index of df subject into an object ###\n",
    "\n",
    "#to run data set run=1\n",
    "run=0\n",
    "\n",
    "class DfSubject:\n",
    "    def __init__(self, idx):\n",
    "        self.idx=idx\n",
    "        self.Trial_number= df_subject.loc[df_subject.index==self.idx][\"Trial_number\"]\n",
    "        self.Raw= df_subject.loc[df_subject.index==self.idx][\"Raw\"]\n",
    "        self.Time_points= df_subject.loc[df_subject.index==self.idx][\"Time_points\"]\n",
    "        self.Muscle_or_other= df_subject.loc[df_subject.index==self.idx][\"Muscle_or_other\"]\n",
    "        self.Elec_config= df_subject.loc[df_subject.index==self.idx][\"Elec_config\"]\n",
    "        self.Subject= df_subject.loc[df_subject.index==self.idx][\"Subject\"]\n",
    "        self.Amplitudes= df_subject.loc[df_subject.index==self.idx][\"Amplitudes\"]\n",
    "    \n",
    "    \n",
    "\n",
    "if run ==1:\n",
    "    #make a list where index is automatically incorporated into _index_#\n",
    "    number_to_str=[]\n",
    "    for number in range (0, len(df_subject)):\n",
    "        number=number=\"_\"+str(number)+\"_\"\n",
    "        number_to_str.append(number)\n",
    "    \n",
    "    #Create dic where every index is an object # acess data like this:  pData[\"_123_\"].Raw\n",
    "    i=0\n",
    "    pData = {}\n",
    "    for number in number_to_str:\n",
    "        pData[number] = DfSubject(i)\n",
    "        i+=1\n",
    "    \n",
    "    \n",
    "#_0_, _1_, etc.\n",
    "#Upload the data to pickle file and save files in masterthesis folder #\n",
    "\n",
    "\n",
    "#Example object\n",
    "#_1_=DfSubject(1) #print(_1_.Raw)\n"
   ]
  },
  {
   "cell_type": "code",
   "execution_count": null,
   "metadata": {},
   "outputs": [],
   "source": [
    "### save files as pickle file  to projectome_finder#\n",
    "#to run set run=1\n",
    "run=1\n",
    "if run == 1:\n",
    "    import pickle\n",
    "    fh = open('/Users/nealarohner/Desktop/Projectome_Finder/code/Neala_Master_Thesis/Class2_dump.pkl', \"wb\")\n",
    "    pickle.dump(pData, fh)\n",
    "    fh.close()"
   ]
  },
  {
   "cell_type": "code",
   "execution_count": null,
   "metadata": {},
   "outputs": [],
   "source": [
    "### retrieve  dfSubject structured as pData  #\n",
    "#run the structure of the data before opening the pickle (wihtout creating an object)\n",
    "# command pData[\"_0_\"].Trial_number=0\n",
    "import pickle\n",
    "with open('DATA_Dump.pkl', 'rb') as handle:\n",
    "    pData = pickle.load(handle)\n"
   ]
  },
  {
   "cell_type": "code",
   "execution_count": null,
   "metadata": {},
   "outputs": [
    {
     "name": "stdout",
     "output_type": "stream",
     "text": [
      "Data of patientM012...\n",
      "You chose to see a specific Electrode:\n",
      "you chose Nr.5 and this is the LVLat muscle\n",
      "<class 'int'>\n",
      "type of electrode <class 'int'>\n",
      "n_trials_elec_i_muscle_i:130\n",
      "We are printing Raw\n"
     ]
    },
    {
     "data": {
      "image/png": "[encoded data removed]",
      "text/plain": [
       "<Figure size 1000x500 with 1 Axes>"
      ]
     },
     "metadata": {},
     "output_type": "display_data"
    }
   ],
   "source": [
    "\n",
    "### Plot a specific muslce and electrode\n",
    "\n",
    "class EMG_Data_Dic:\n",
    "    def __init__(self, patient):\n",
    "        self.patient=patient\n",
    "        print(f\"Data of patient{self.patient}...\")\n",
    "        # self.print_muscle()\n",
    "\n",
    "    def print_muscle(self):\n",
    "        print(\"You chose to see a specific muscle\")\n",
    "        global list_muscle_or_other_elec_i\n",
    "        muscle_number=int(input(f\"(Which muscle do you want to look at? For LST press 0, for RST 1 etc {list_muscle_or_other_elec_i[0:-1]}\")) # choose a muscle\n",
    "        muscle_chosen=list_muscle_or_other_elec_i[muscle_number]\n",
    "        print(f\"you chose Nr.{muscle_number} and this is the {muscle_chosen} muscle\")\n",
    "        \n",
    "        answer= str(input(\"Do you want all Electrodes? of that muscle (y/n\"))\n",
    "        if answer == \"y\":\n",
    "            list_elecs = df_subject_no_empty['Elec_config'].unique()\n",
    "            n_list_elecs = len(list_elecs)\n",
    "            for i_elec in range(n_list_elecs):\n",
    "                elec_i = list_elecs[i_elec]\n",
    "                df_subject_no_empty_elec_i = df_subject_no_empty.where(df_subject_no_empty['Elec_config']==elec_i)\n",
    "                df_subject_no_empty_elec_i.dropna(inplace=True)\n",
    "                list_muscle_or_other_elec_i = df_subject_no_empty_elec_i['Muscle_or_other'].unique()\n",
    "                n_muscle_or_other_elec_i = len(list_muscle_or_other_elec_i)\n",
    "          \n",
    "                muscle_i_elec_i = list_muscle_or_other_elec_i[muscle_number]\n",
    "                df_subject_no_empty_elec_i_muscle_i = df_subject_no_empty_elec_i.where(df_subject_no_empty_elec_i['Muscle_or_other']==muscle_i_elec_i)\n",
    "                df_subject_no_empty_elec_i_muscle_i.dropna(inplace=True)\n",
    "                plot_trial_elec_i_muscle_i(df_subject_no_empty_elec_i_muscle_i,elec_i=elec_i, muscle_i_elec_i=muscle_i_elec_i, time_series_key=time_series_key,time_points_key=time_points_key,init_t_plot =init_t_plot ,end_t_plot =end_t_plot ,save_flag=save_flag,save_folder=save_folder)\n",
    "        else:\n",
    "            self.elec_number= int(input(f\"Which electrode do you want press nr to choose: 0 for Elec01, 1 for Elec02 etc.  {elec_names}\"))\n",
    "            #Now output the graphs \n",
    "            list_elecs = df_subject_no_empty['Elec_config'].unique()\n",
    "            n_list_elecs = len(list_elecs)\n",
    "            elec_i = list_elecs[self.elec_number]\n",
    "            df_subject_no_empty_elec_i = df_subject_no_empty.where(df_subject_no_empty['Elec_config']==elec_i)\n",
    "            df_subject_no_empty_elec_i.dropna(inplace=True)\n",
    "            list_muscle_or_other_elec_i = df_subject_no_empty_elec_i['Muscle_or_other'].unique()\n",
    "            n_muscle_or_other_elec_i = len(list_muscle_or_other_elec_i)\n",
    "            muscle_i_elec_i = list_muscle_or_other_elec_i[muscle_number]\n",
    "            df_subject_no_empty_elec_i_muscle_i = df_subject_no_empty_elec_i.where(df_subject_no_empty_elec_i['Muscle_or_other']==muscle_i_elec_i)\n",
    "            df_subject_no_empty_elec_i_muscle_i.dropna(inplace=True)\n",
    "            plot_trial_elec_i_muscle_i(df_subject_no_empty_elec_i_muscle_i,elec_i=elec_i, muscle_i_elec_i=muscle_i_elec_i, time_series_key=time_series_key,time_points_key=time_points_key,init_t_plot =init_t_plot ,end_t_plot =end_t_plot ,save_flag=save_flag,save_folder=save_folder)\n",
    "\n",
    "    def print_Electrode(self):\n",
    "        print(\"You chose to see a specific Electrode:\")\n",
    "        global list_muscle_or_other_elec_i, list_elecs\n",
    "        self.elec_number= int(input(f\"Which electrode do you want press nr to choose: {elec_names}\"))\n",
    "        answer=str(input(\"Do you want all muscles?(y/n)\"))\n",
    "        if answer == \"y\":\n",
    "            elec_i = list_elecs[self.elec_number]\n",
    "            df_subject_no_empty_elec_i = df_subject_no_empty.where(df_subject_no_empty['Elec_config']==elec_i)\n",
    "            df_subject_no_empty_elec_i.dropna(inplace=True)\n",
    "            list_muscle_or_other_elec_i = df_subject_no_empty_elec_i['Muscle_or_other'].unique()\n",
    "            n_muscle_or_other_elec_i = len(list_muscle_or_other_elec_i)\n",
    "            for i_muscle_or_other_elec_i in range(n_muscle_or_other_elec_i):\n",
    "                muscle_i_elec_i = list_muscle_or_other_elec_i[i_muscle_or_other_elec_i]\n",
    "                df_subject_no_empty_elec_i_muscle_i = df_subject_no_empty_elec_i.where(df_subject_no_empty_elec_i['Muscle_or_other']==muscle_i_elec_i)\n",
    "                df_subject_no_empty_elec_i_muscle_i.dropna(inplace=True)\n",
    "                print(f\"n_trials_elec_i_muscle_i:{n_trials_elec_i_muscle_i}\")\n",
    "                plot_trial_elec_i_muscle_i(df_subject_no_empty_elec_i_muscle_i,elec_i=elec_i, muscle_i_elec_i=muscle_i_elec_i, time_series_key=time_series_key,time_points_key=time_points_key,init_t_plot =init_t_plot ,end_t_plot =end_t_plot ,save_flag=save_flag,save_folder=save_folder)\n",
    "                \n",
    "        else:    \n",
    "            muscle_number=int(input(f\"(Which muscle do you want to look at? For LST press 0, for RST 1 etc {list_muscle_or_other_elec_i[0:-1]}\")) #input for muscle number\n",
    "            muscle_chosen=list_muscle_or_other_elec_i[muscle_number] #\n",
    "            print(f\"you chose Nr.{muscle_number} and this is the {muscle_chosen} muscle\")\n",
    "            print(type(muscle_number))\n",
    "            print(f\"type of electrode {type(self.elec_number)}\")\n",
    "            print(df_subject_no_empty_elec_i.where(df_subject_no_empty_elec_i['Muscle_or_other']==muscle_i_elec_i)\n",
    "            #Now output the graphs \n",
    "            list_elecs = df_subject_no_empty['Elec_config'].unique()\n",
    "            n_list_elecs = len(list_elecs)\n",
    "\n",
    "            elec_i = list_elecs[self.elec_number]\n",
    "            df_subject_no_empty_elec_i = df_subject_no_empty.where(df_subject_no_empty['Elec_config']==elec_i)\n",
    "            df_subject_no_empty_elec_i.dropna(inplace=True)\n",
    "            list_muscle_or_other_elec_i = df_subject_no_empty_elec_i['Muscle_or_other'].unique()\n",
    "            n_muscle_or_other_elec_i = len(list_muscle_or_other_elec_i)\n",
    "            muscle_i_elec_i = list_muscle_or_other_elec_i[muscle_number]\n",
    "            df_subject_no_empty_elec_i_muscle_i = df_subject_no_empty_elec_i.where(df_subject_no_empty_elec_i['Muscle_or_other']==muscle_i_elec_i)\n",
    "            df_subject_no_empty_elec_i_muscle_i.dropna(inplace=True)\n",
    "            print(f\"n_trials_elec_i_muscle_i:{n_trials_elec_i_muscle_i}\")\n",
    "            plot_trial_elec_i_muscle_i(df_subject_no_empty_elec_i_muscle_i,elec_i=elec_i, muscle_i_elec_i=muscle_i_elec_i, time_series_key=time_series_key,time_points_key=time_points_key,init_t_plot =init_t_plot ,end_t_plot =end_t_plot ,save_flag=save_flag,save_folder=save_folder)\n",
    "\n",
    "\n",
    "   \n",
    "\n",
    "\n",
    "# x=EMG_Data_Dic(\"M012\")\n",
    "# x.print_Electrode()  \n",
    "# x.print_muscle()  "
   ]
  },
  {
   "cell_type": "markdown",
   "metadata": {},
   "source": [
    "# Plots"
   ]
  },
  {
   "cell_type": "markdown",
   "metadata": {},
   "source": [
    "## Single plots"
   ]
  },
  {
   "cell_type": "markdown",
   "metadata": {},
   "source": [
    "## Raw EMGs multiplots"
   ]
  },
  {
   "cell_type": "markdown",
   "metadata": {},
   "source": [
    "## Filter and plot the enveloppe"
   ]
  },
  {
   "cell_type": "markdown",
   "metadata": {},
   "source": [
    "## Plot the envelope of the filtered signal without the artefacts"
   ]
  },
  {
   "cell_type": "code",
   "execution_count": null,
   "metadata": {},
   "outputs": [],
   "source": []
  }
 ],
 "metadata": {
  "kernelspec": {
   "display_name": "Python 3.10.4 ('projectome_finder')",
   "language": "python",
   "name": "python3"
  },
  "language_info": {
   "codemirror_mode": {
    "name": "ipython",
    "version": 3
   },
   "file_extension": ".py",
   "mimetype": "text/x-python",
   "name": "python",
   "nbconvert_exporter": "python",
   "pygments_lexer": "ipython3",
   "version": "3.10.4"
  },
  "vscode": {
   "interpreter": {
    "hash": "f932c8e077b341d20504a7add15d58d55a3a6203500067dcddea991ea8b4378e"
   }
  }
 },
 "nbformat": 4,
 "nbformat_minor": 4
}
