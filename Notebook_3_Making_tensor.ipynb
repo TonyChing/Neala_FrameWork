{
 "cells": [
  {
   "cell_type": "code",
   "execution_count": 2,
   "metadata": {},
   "outputs": [],
   "source": [
    "import torch"
   ]
  },
  {
   "cell_type": "code",
   "execution_count": 3,
   "metadata": {},
   "outputs": [],
   "source": [
    "import numpy as np\n",
    "import matplotlib.pyplot as plt\n",
    "from scipy.io import loadmat\n",
    "from scipy.signal import butter, lfilter , filtfilt\n",
    "import pandas as pd\n",
    "import scipy as sp\n",
    "import os\n",
    "import sys\n",
    "import seaborn as sb \n",
    "from matplotlib import cm\n",
    "\n",
    "import pickle\n"
   ]
  },
  {
   "cell_type": "markdown",
   "metadata": {},
   "source": [
    "# Load the Dic"
   ]
  },
  {
   "cell_type": "code",
   "execution_count": 4,
   "metadata": {},
   "outputs": [],
   "source": [
    "\n",
    "class DfSubject:\n",
    "    def __init__(self, elec_i, muscle_i):\n",
    "        self.Elec_config=list_elecs[elec_i]\n",
    "        self.List_elecs=list_elecs\n",
    "        self.Muscle_or_other=list_muscle_or_other_elec_i[muscle_i]\n",
    "        self.List_muscle_or_other=list_muscle_or_other_elec_i\n",
    "        self.Trial_number= df_subject_no_empty[(df_subject_no_empty[\"Elec_config\"]==self.Elec_config)& (df_subject_no_empty[\"Muscle_or_other\"]== self.Muscle_or_other)][\"Trial_number\"]\n",
    "        self.Trial_number=[int(i) for i in self.Trial_number] #save as int\n",
    "        self.Raw= df_subject_no_empty[(df_subject_no_empty[\"Elec_config\"]==self.Elec_config)& (df_subject_no_empty[\"Muscle_or_other\"]== self.Muscle_or_other)][\"Raw\"]\n",
    "        self.Raw.index=self.Trial_number\n",
    "        self.Time_points= df_subject_no_empty[(df_subject_no_empty[\"Elec_config\"]==self.Elec_config)& (df_subject_no_empty[\"Muscle_or_other\"]== self.Muscle_or_other)][\"Time_points\"]\n",
    "        self.Time_points.index=self.Trial_number\n",
    "        self.Amplitudes= df_subject_no_empty[(df_subject_no_empty[\"Elec_config\"]==self.Elec_config)& (df_subject_no_empty[\"Muscle_or_other\"]== self.Muscle_or_other)][\"Amplitudes\"]\n",
    "        self.Amplitudes.index=self.Trial_number\n",
    "        self.TS_arts_1=\"$\"\n",
    "        \n",
    "        # self.TS_arts_1.index=self.Trial_number\n",
    "        self.Time_points_arts_1=-1\n",
    "        self.TS_arts_2=\"$\"\n",
    "        self.Time_points_arts_2=-1\n",
    "        self.TS_arts_3=\"$\"\n",
    "        self.Time_points_arts_3=-1\n",
    "\n",
    "\n",
    "# Goal is to chose an electrode and a muscle and see all the trials and the corrected data        \n",
    "#  Access data the following way: pData[\"_3_5\"].Raw[19] #prints the raw data from trial 19"
   ]
  },
  {
   "cell_type": "code",
   "execution_count": 5,
   "metadata": {},
   "outputs": [],
   "source": [
    "### retrieve  dfSubject structured as pData  #\n",
    "#run the structure of the data before opening the pickle (wihtout creating an object)\n",
    "# command pData[\"_0_\"].Trial_number=0\n",
    "import pickle\n",
    "run=1\n",
    "if run == 1:  \n",
    "\n",
    "    with open('Class2_Dump.pkl', 'rb') as handle:\n",
    "        pData = pickle.load(handle)\n"
   ]
  },
  {
   "cell_type": "markdown",
   "metadata": {},
   "source": [
    "# Make a tensor"
   ]
  },
  {
   "cell_type": "markdown",
   "metadata": {},
   "source": [
    "Always retrieve pData[\"_0_0\"] since some list_elec and list_muscle is accesced from there"
   ]
  },
  {
   "cell_type": "markdown",
   "metadata": {},
   "source": [
    "Build the tensor matrix with the raw data.\n",
    "Time X Electrodes X Muscles X Amplitudes (Stimulation) X Muscle activity (EMG)\n"
   ]
  },
  {
   "cell_type": "code",
   "execution_count": 6,
   "metadata": {},
   "outputs": [],
   "source": [
    "device =  \"cuda\" if torch.cuda.is_available() else \"cpu\""
   ]
  },
  {
   "cell_type": "markdown",
   "metadata": {},
   "source": [
    "## Try to do it with class"
   ]
  },
  {
   "cell_type": "markdown",
   "metadata": {},
   "source": [
    "### Extract list\n",
    "\n",
    "The 5 dimensions that should be included in the tensor \n",
    "    \n",
    "    elecs_to_nr, # pandas df\n",
    "    muscles_to_nr # pandas df\n",
    "    raw_data_to_matrix, \n",
    "    amplitudes_to_list, \n",
    "    time_points_to_list"
   ]
  },
  {
   "cell_type": "code",
   "execution_count": 7,
   "metadata": {},
   "outputs": [
    {
     "name": "stdout",
     "output_type": "stream",
     "text": [
      "16410\n"
     ]
    }
   ],
   "source": [
    "\n",
    "## save Amplitudes in a list ##\n",
    "amplitudes_to_list=[]\n",
    "for elec_i in range (len(pData[\"_0_0\"].List_elecs)) : #loop through all the elecs\n",
    "    for muscle_i in range (len(pData[\"_0_0\"].List_muscle_or_other)): # loop through all the muscles\n",
    "            for trial in pData[f'_{elec_i}_{muscle_i}'].Trial_number: #loop through the trials\n",
    "                amplitudes_to_list.append(pData[f'_{elec_i}_{muscle_i}'].Amplitudes[trial])\n",
    "                \n",
    "\n",
    "print(len(amplitudes_to_list)) #16410"
   ]
  },
  {
   "cell_type": "code",
   "execution_count": 8,
   "metadata": {},
   "outputs": [
    {
     "name": "stdout",
     "output_type": "stream",
     "text": [
      "16410\n",
      "float64\n"
     ]
    }
   ],
   "source": [
    "\n",
    "## save raw_data in a list ##\n",
    "#with append() in order to save lists of lists\n",
    "raw_data_to_matrix=[]\n",
    "for elec_i in range (len(pData[\"_0_0\"].List_elecs)) : #loop through all the elecs\n",
    "    for muscle_i in range (len(pData[\"_0_0\"].List_muscle_or_other)): # loop through all the muscles\n",
    "            for trial in pData[f'_{elec_i}_{muscle_i}'].Trial_number: #loop through the trials\n",
    "                raw_data_to_matrix.append(pData[f'_{elec_i}_{muscle_i}'].Raw[trial])\n",
    "               \n",
    "\n",
    "print(len(raw_data_to_matrix))\n",
    "print((raw_data_to_matrix[0].dtype)) #float64\n",
    "# print((raw_data_to_matrix[0:10].dtype)) #error\n"
   ]
  },
  {
   "cell_type": "code",
   "execution_count": 9,
   "metadata": {},
   "outputs": [
    {
     "name": "stdout",
     "output_type": "stream",
     "text": [
      "16410\n"
     ]
    }
   ],
   "source": [
    "\n",
    "## save the Time_points in a list ##\n",
    "time_points_to_list=[]\n",
    "for elec_i in range (len(pData[\"_0_0\"].List_elecs)) : #loop through all the elecs\n",
    "    for muscle_i in range (len(pData[\"_0_0\"].List_muscle_or_other)): # loop through all the muscles\n",
    "            for trial in pData[f'_{elec_i}_{muscle_i}'].Trial_number: #loop through the trials\n",
    "                time_points_to_list.append(pData[f'_{elec_i}_{muscle_i}'].Time_points[trial])\n",
    "                \n",
    "\n",
    "print(len(time_points_to_list)) #16410\n"
   ]
  },
  {
   "cell_type": "code",
   "execution_count": 10,
   "metadata": {},
   "outputs": [
    {
     "name": "stdout",
     "output_type": "stream",
     "text": [
      "16410\n",
      "['LST', 'LST', 'LST', 'LST', 'LST', 'LST', 'LST', 'LST', 'LST', 'LST']\n"
     ]
    }
   ],
   "source": [
    "## save Muscles in a list ##\n",
    "muscles_to_list=[]\n",
    "for elec_i in range (len(pData[\"_0_0\"].List_elecs)) : #loop through all the elecs\n",
    "    for muscle_i in range (len(pData[\"_0_0\"].List_muscle_or_other)): # loop through all the muscles\n",
    "            for trial in pData[f'_{elec_i}_{muscle_i}'].Trial_number: #loop through the trials\n",
    "                muscles_to_list.append(pData[f'_{elec_i}_{muscle_i}'].Muscle_or_other)\n",
    "                \n",
    "\n",
    "print(len(muscles_to_list)) #16410\n",
    "print(muscles_to_list[0:10])"
   ]
  },
  {
   "cell_type": "code",
   "execution_count": 11,
   "metadata": {},
   "outputs": [
    {
     "name": "stdout",
     "output_type": "stream",
     "text": [
      "16410\n",
      "['Elec01_', 'Elec01_', 'Elec01_', 'Elec01_', 'Elec01_', 'Elec01_', 'Elec01_', 'Elec01_', 'Elec01_', 'Elec01_']\n"
     ]
    }
   ],
   "source": [
    "## save Elecs in a list ##\n",
    "elecs_to_list=[]\n",
    "for elec_i in range (len(pData[\"_0_0\"].List_elecs)) : #loop through all the elecs\n",
    "    for muscle_i in range (len(pData[\"_0_0\"].List_muscle_or_other)): # loop through all the muscles\n",
    "            for trial in pData[f'_{elec_i}_{muscle_i}'].Trial_number: #loop through the trials\n",
    "                elecs_to_list.append(pData[f'_{elec_i}_{muscle_i}'].Elec_config)\n",
    "                \n",
    "\n",
    "print(len(elecs_to_list)) #16410\n",
    "print(elecs_to_list[0:10])"
   ]
  },
  {
   "cell_type": "markdown",
   "metadata": {},
   "source": [
    "#### Use Hot encoder to convert from str to number\n",
    "for muscles and elecs (since the data is str and for the tensor can only have one data type)"
   ]
  },
  {
   "cell_type": "code",
   "execution_count": 12,
   "metadata": {},
   "outputs": [],
   "source": [
    "# Use hot encoder to convert muscles to nrs\n",
    "import pandas as pd\n",
    "muscles_to_nr=pd.get_dummies(\n",
    "    np.array(muscles_to_list), \n",
    "    prefix=None, \n",
    "    prefix_sep='_', \n",
    "    dummy_na=False, \n",
    "    columns=None, \n",
    "    sparse=False, \n",
    "    drop_first=False, \n",
    "    dtype=None\n",
    ")"
   ]
  },
  {
   "cell_type": "code",
   "execution_count": 13,
   "metadata": {},
   "outputs": [],
   "source": [
    "# Use hot encoder to convert elecs to nrs\n",
    "import pandas as pd\n",
    "elecs_to_nr=pd.get_dummies(\n",
    "    np.array(elecs_to_list), \n",
    "    prefix=None, \n",
    "    prefix_sep='_', \n",
    "    dummy_na=False, \n",
    "    columns=None, \n",
    "    sparse=False, \n",
    "    drop_first=False, \n",
    "    dtype=None\n",
    ")"
   ]
  },
  {
   "cell_type": "markdown",
   "metadata": {},
   "source": [
    "### Save the data in a new tensor"
   ]
  },
  {
   "cell_type": "markdown",
   "metadata": {},
   "source": [
    "elecs_to_nr, # pandas df\n",
    "muscles_to_nr # pandas df\n",
    "raw_data_to_matrix, \n",
    "amplitudes_to_list, \n",
    "time_points_to_list"
   ]
  },
  {
   "cell_type": "markdown",
   "metadata": {},
   "source": [
    "#### concatenate data to one df"
   ]
  },
  {
   "cell_type": "code",
   "execution_count": 23,
   "metadata": {},
   "outputs": [],
   "source": [
    "##### concat muscles and elecs ###\n",
    "muscles_to_nr.reset_index(drop=True, inplace=True)\n",
    "elecs_to_nr.reset_index(drop=True, inplace=True)\n",
    "muscles_to_nr.index = elecs_to_nr.index\n",
    "muscles_and_elecs=pd.concat([muscles_to_nr, elecs_to_nr], axis=1)\n",
    "\n",
    "##### add the raw data\n",
    "raw_data_to_df = pd.DataFrame(raw_data_to_matrix) #convert to a pandas df\n",
    "if len(raw_data_to_df.iloc[0])!=len((raw_data_to_matrix[0])): #get rid of nan column\n",
    "    raw_data_to_df=raw_data_to_df.iloc[: , :-1]\n",
    "raw_data_to_df.reset_index(drop=True, inplace=True)\n",
    "muscles_and_elecs.reset_index(drop=True, inplace=True)\n",
    "muscles_and_elecs.index = raw_data_to_df.index\n",
    "muscles_and_elecs_and_raw=pd.concat([muscles_and_elecs, raw_data_to_df], axis=1)\n",
    "\n",
    "##### add the amplitude\n",
    "amplitudes_to_df=pd.DataFrame(amplitudes_to_list) #convert to a pandas df\n",
    "amplitudes_to_df.reset_index(drop=True, inplace=True)\n",
    "muscles_and_elecs_and_raw.reset_index(drop=True, inplace=True)\n",
    "muscles_and_elecs_and_raw.index = amplitudes_to_df.index\n",
    "muscles_and_elecs_and_raw_and_amplitudes=pd.concat([muscles_and_elecs_and_raw, amplitudes_to_df], axis=1)\n",
    "\n",
    "##### add time_points\n",
    "time_points_to_df=pd.DataFrame(time_points_to_list) #convert to a pandas df\n",
    "time_points_to_df.reset_index(drop=True, inplace=True)\n",
    "muscles_and_elecs_and_raw_and_amplitudes.reset_index(drop=True, inplace=True)\n",
    "muscles_and_elecs_and_raw_and_amplitudes.index = time_points_to_df.index\n",
    "muscles_and_elecs_and_raw_and_amplitudes_and_time_points=pd.concat([muscles_and_elecs_and_raw_and_amplitudes, time_points_to_df], axis=1)\n",
    "# print(pd.concat([muscles_and_elecs_and_raw_and_amplitudes[0:10], time_points_to_df[0:10]], axis=1))\n"
   ]
  },
  {
   "cell_type": "markdown",
   "metadata": {},
   "source": [
    "#### convert df to tensor"
   ]
  },
  {
   "cell_type": "code",
   "execution_count": 22,
   "metadata": {},
   "outputs": [
    {
     "name": "stdout",
     "output_type": "stream",
     "text": [
      "tensor([[0.0000e+00, 0.0000e+00, 0.0000e+00,  ..., 9.0098e-01, 1.5000e+00,\n",
      "         1.4030e+03],\n",
      "        [0.0000e+00, 0.0000e+00, 0.0000e+00,  ..., 9.0098e-01, 1.5000e+00,\n",
      "         1.4030e+03],\n",
      "        [0.0000e+00, 0.0000e+00, 0.0000e+00,  ..., 9.0098e-01, 1.5000e+00,\n",
      "         1.4030e+03],\n",
      "        ...,\n",
      "        [0.0000e+00, 0.0000e+00, 0.0000e+00,  ..., 9.0098e-01, 1.7000e+00,\n",
      "         1.4030e+03],\n",
      "        [0.0000e+00, 0.0000e+00, 0.0000e+00,  ..., 9.0098e-01, 1.7000e+00,\n",
      "         1.4030e+03],\n",
      "        [0.0000e+00, 0.0000e+00, 0.0000e+00,  ..., 9.0098e-01, 1.7000e+00,\n",
      "         1.4030e+03]])\n",
      "torch.Size([10, 1440])\n"
     ]
    }
   ],
   "source": [
    "#### Convert df to tensor ###\n",
    "# determine the supported device\n",
    "#with correction of nan values\n",
    "def get_device():\n",
    "    if torch.cuda.is_available():\n",
    "        device = torch.device('cuda:0')\n",
    "    else:\n",
    "        device = torch.device('cpu') # don't have GPU \n",
    "    return device\n",
    "\n",
    "# convert a df to tensor to be used in pytorch\n",
    "def df_to_tensor(muscles_and_elecs_and_raw_and_amplitudes_and_time_points):\n",
    "    device = get_device()\n",
    "    return torch.from_numpy(muscles_and_elecs_and_raw_and_amplitudes_and_time_points.values).float().to(device)\n",
    "\n",
    "df_tensor = df_to_tensor(muscles_and_elecs_and_raw_and_amplitudes_and_time_points)\n",
    "# series_tensor = df_to_tensor(series)\n",
    "print(df_tensor[0:10])\n",
    "print(df_tensor[0:10].shape)"
   ]
  },
  {
   "cell_type": "markdown",
   "metadata": {},
   "source": [
    "# Save the data as a pickle file"
   ]
  }
 ],
 "metadata": {
  "kernelspec": {
   "display_name": "Python 3.10.4 ('projectome_finder')",
   "language": "python",
   "name": "python3"
  },
  "language_info": {
   "codemirror_mode": {
    "name": "ipython",
    "version": 3
   },
   "file_extension": ".py",
   "mimetype": "text/x-python",
   "name": "python",
   "nbconvert_exporter": "python",
   "pygments_lexer": "ipython3",
   "version": "3.10.4"
  },
  "vscode": {
   "interpreter": {
    "hash": "f932c8e077b341d20504a7add15d58d55a3a6203500067dcddea991ea8b4378e"
   }
  }
 },
 "nbformat": 4,
 "nbformat_minor": 4
}
