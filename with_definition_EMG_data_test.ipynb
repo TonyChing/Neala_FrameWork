{
 "cells": [
  {
   "cell_type": "code",
   "execution_count": 55,
   "metadata": {},
   "outputs": [],
   "source": [
    "import numpy as np\n",
    "import matplotlib.pyplot as plt\n",
    "from scipy.io import loadmat\n",
    "from scipy.signal import butter, lfilter , filtfilt\n",
    "import pandas as pd\n",
    "import scipy as sp\n",
    "import os\n",
    "import sys\n",
    "import seaborn as sb \n",
    "from matplotlib import cm\n",
    "import ruptures as rpt\n",
    "import pickle"
   ]
  },
  {
   "cell_type": "markdown",
   "metadata": {},
   "source": [
    "# Load the data"
   ]
  },
  {
   "cell_type": "code",
   "execution_count": null,
   "metadata": {},
   "outputs": [],
   "source": [
    "# Root folder for the data\n",
    "data_folder = \"/Users/nealarohner/Desktop/Data\"\n",
    "#Load the data\n",
    "subject = 'MR012'\n",
    "data_file = 'MR012_FM_aligned.mat'\n",
    "data_file_path = os.path.join(data_folder,data_file)\n",
    "verbose=1\n",
    "data_key='data'\n",
    "amplitudes_key='amplitudes'\n",
    "fs = 1259.3\n",
    "dt = 1/fs"
   ]
  },
  {
   "cell_type": "code",
   "execution_count": null,
   "metadata": {},
   "outputs": [],
   "source": [
    "root_data_matlab_struct = loadmat(data_file_path,struct_as_record=False,squeeze_me=True)\n",
    "root_data_re_struct = loadmat(data_file_path)\n",
    "# Because of the saving from Matlab there are arrays of size 1 containing the data\n",
    "data_raw = root_data_re_struct[data_key][0][0]\n",
    "# Not veru pretty but it extracts the electrodes configuration names \n",
    "elec_names = root_data_re_struct[data_key].dtype.names\n",
    "# As well as the recorded muscles names\n",
    "muscle_and_other_names = data_raw[0][0][0].dtype.names"
   ]
  },
  {
   "cell_type": "code",
   "execution_count": null,
   "metadata": {},
   "outputs": [],
   "source": [
    "if verbose>1: print(elec_names)\n",
    "if verbose>1: print(muscle_and_other_names)"
   ]
  },
  {
   "cell_type": "code",
   "execution_count": null,
   "metadata": {},
   "outputs": [],
   "source": [
    "n_elec_configs = len(elec_names)\n",
    "n_muscles_and_other = len(muscle_and_other_names)"
   ]
  },
  {
   "cell_type": "code",
   "execution_count": null,
   "metadata": {
    "scrolled": true
   },
   "outputs": [],
   "source": [
    "list_elec_config_dfs = []\n",
    "\n",
    "for i_elec_config in range(n_elec_configs):       \n",
    "    elec_config_i = elec_names[i_elec_config]\n",
    "    if verbose: print(elec_config_i)\n",
    "    elect_config_i_data = data_raw[elec_config_i][0,0] \n",
    "    list_muscle_and_other_elec_config_dfs = []\n",
    "    list_amplitudes_elec_config=[]\n",
    "    for i_muscle_and_other in range(n_muscles_and_other):\n",
    "        muscle_and_other_i = muscle_and_other_names[i_muscle_and_other]\n",
    "        if verbose: print(muscle_and_other_i)\n",
    "        muscle_and_other_i_data = elect_config_i_data[muscle_and_other_i]\n",
    "        n_trials_elec_muscle_and_other_i = np.shape(muscle_and_other_i_data)[-1]\n",
    "        if verbose: print(\"N_trials\",n_trials_elec_muscle_and_other_i)\n",
    "        if muscle_and_other_i==amplitudes_key:\n",
    "            # If it is the special case of amplitudes\n",
    "            list_amplitudes_elec_config = muscle_and_other_i_data[0,:]      \n",
    "        else:\n",
    "            # Not amplitudes\n",
    "            list_trial_muscle_and_other_elec_config_dfs = []\n",
    "            for i_trial_elec_muscle_and_other in range(n_trials_elec_muscle_and_other_i):\n",
    "                if verbose>1: print(\"trial\",i_trial_elec_muscle_and_other)\n",
    "                trial_muscle_and_other_i_data = muscle_and_other_i_data[0,i_trial_elec_muscle_and_other][0,:]\n",
    "                n_time_points_trial = len(trial_muscle_and_other_i_data)\n",
    "                df_trial_muscle_and_other_i_data = pd.DataFrame(data=[[trial_muscle_and_other_i_data]],columns=['Raw'])\n",
    "                df_trial_muscle_and_other_i_data['Time_points'] = n_time_points_trial\n",
    "                df_trial_muscle_and_other_i_data['Muscle_or_other'] = muscle_and_other_i\n",
    "                df_trial_muscle_and_other_i_data['Elec_config'] = elec_config_i\n",
    "                df_trial_muscle_and_other_i_data['Subject'] = subject\n",
    "                list_trial_muscle_and_other_elec_config_dfs.append(df_trial_muscle_and_other_i_data)\n",
    "            if len(list_trial_muscle_and_other_elec_config_dfs)>0:\n",
    "                df_muscle_or_others = pd.concat(list_trial_muscle_and_other_elec_config_dfs, ignore_index=True)\n",
    "                df_muscle_or_others.reset_index(inplace=True)\n",
    "                df_muscle_or_others = df_muscle_or_others.rename(columns = {'index':'Trial_number'})\n",
    "                list_muscle_and_other_elec_config_dfs.append(df_muscle_or_others)\n",
    "    # Adds the amplitude to each trial\n",
    "    n_muscles_and_other_elec_config_dfs = len(list_muscle_and_other_elec_config_dfs)\n",
    "    for i_muscles_and_other_elec_config_df in range(n_muscles_and_other_elec_config_dfs):\n",
    "        muscles_and_other_elec_config_df_i = list_muscle_and_other_elec_config_dfs[i_muscles_and_other_elec_config_df]\n",
    "        muscles_and_other_elec_config_df_i['Amplitudes']=list_amplitudes_elec_config\n",
    "        list_muscle_and_other_elec_config_dfs[i_muscles_and_other_elec_config_df] = muscles_and_other_elec_config_df_i\n",
    "    if len(list_muscle_and_other_elec_config_dfs)>0:\n",
    "        df_elec_config = pd.concat(list_muscle_and_other_elec_config_dfs, ignore_index=True)\n",
    "        list_elec_config_dfs.append(df_elec_config)\n",
    "if len(list_elec_config_dfs)>0:\n",
    "    df_subject = pd.concat(list_elec_config_dfs, ignore_index=True)"
   ]
  },
  {
   "cell_type": "code",
   "execution_count": null,
   "metadata": {},
   "outputs": [],
   "source": [
    "n_rows_to_display = 5\n",
    "pd.set_option('display.max_rows', n_rows_to_display)"
   ]
  },
  {
   "cell_type": "code",
   "execution_count": null,
   "metadata": {},
   "outputs": [
    {
     "data": {
      "text/html": [
       "<div>\n",
       "<style scoped>\n",
       "    .dataframe tbody tr th:only-of-type {\n",
       "        vertical-align: middle;\n",
       "    }\n",
       "\n",
       "    .dataframe tbody tr th {\n",
       "        vertical-align: top;\n",
       "    }\n",
       "\n",
       "    .dataframe thead th {\n",
       "        text-align: right;\n",
       "    }\n",
       "</style>\n",
       "<table border=\"1\" class=\"dataframe\">\n",
       "  <thead>\n",
       "    <tr style=\"text-align: right;\">\n",
       "      <th></th>\n",
       "      <th>Trial_number</th>\n",
       "      <th>Raw</th>\n",
       "      <th>Time_points</th>\n",
       "      <th>Muscle_or_other</th>\n",
       "      <th>Elec_config</th>\n",
       "      <th>Subject</th>\n",
       "      <th>Amplitudes</th>\n",
       "    </tr>\n",
       "  </thead>\n",
       "  <tbody>\n",
       "    <tr>\n",
       "      <th>0</th>\n",
       "      <td>0</td>\n",
       "      <td>[-1]</td>\n",
       "      <td>1</td>\n",
       "      <td>LST</td>\n",
       "      <td>Elec01_</td>\n",
       "      <td>MR012</td>\n",
       "      <td>0.5</td>\n",
       "    </tr>\n",
       "    <tr>\n",
       "      <th>1</th>\n",
       "      <td>1</td>\n",
       "      <td>[-1]</td>\n",
       "      <td>1</td>\n",
       "      <td>LST</td>\n",
       "      <td>Elec01_</td>\n",
       "      <td>MR012</td>\n",
       "      <td>0.5</td>\n",
       "    </tr>\n",
       "    <tr>\n",
       "      <th>2</th>\n",
       "      <td>2</td>\n",
       "      <td>[-1]</td>\n",
       "      <td>1</td>\n",
       "      <td>LST</td>\n",
       "      <td>Elec01_</td>\n",
       "      <td>MR012</td>\n",
       "      <td>0.5</td>\n",
       "    </tr>\n",
       "    <tr>\n",
       "      <th>3</th>\n",
       "      <td>3</td>\n",
       "      <td>[-1]</td>\n",
       "      <td>1</td>\n",
       "      <td>LST</td>\n",
       "      <td>Elec01_</td>\n",
       "      <td>MR012</td>\n",
       "      <td>0.5</td>\n",
       "    </tr>\n",
       "    <tr>\n",
       "      <th>4</th>\n",
       "      <td>4</td>\n",
       "      <td>[-1]</td>\n",
       "      <td>1</td>\n",
       "      <td>LST</td>\n",
       "      <td>Elec01_</td>\n",
       "      <td>MR012</td>\n",
       "      <td>0.5</td>\n",
       "    </tr>\n",
       "  </tbody>\n",
       "</table>\n",
       "</div>"
      ],
      "text/plain": [
       "   Trial_number   Raw  Time_points Muscle_or_other Elec_config Subject  \\\n",
       "0             0  [-1]            1             LST     Elec01_   MR012   \n",
       "1             1  [-1]            1             LST     Elec01_   MR012   \n",
       "2             2  [-1]            1             LST     Elec01_   MR012   \n",
       "3             3  [-1]            1             LST     Elec01_   MR012   \n",
       "4             4  [-1]            1             LST     Elec01_   MR012   \n",
       "\n",
       "   Amplitudes  \n",
       "0         0.5  \n",
       "1         0.5  \n",
       "2         0.5  \n",
       "3         0.5  \n",
       "4         0.5  "
      ]
     },
     "execution_count": 8,
     "metadata": {},
     "output_type": "execute_result"
    }
   ],
   "source": [
    "df_subject.head(n_rows_to_display)"
   ]
  },
  {
   "cell_type": "markdown",
   "metadata": {},
   "source": [
    "Now with the dataframe shaped, we can proceed into expanding it (creating the entries with the filtered data, etc... \n",
    "In this way will be able to generate any desired plots just querying the dataframe."
   ]
  },
  {
   "cell_type": "code",
   "execution_count": null,
   "metadata": {},
   "outputs": [],
   "source": [
    "#### Creating a Value column instead of cells of arrays\n",
    "##### Beware - very time consuming if applied to all the data-frame.\n",
    "def form_data_frame_with_values(df_with_arrays,verbose=0):\n",
    "    \"\"\" \n",
    "    Goes through all the trials of the dataframe and extracts all its values\n",
    "    \"\"\"\n",
    "    list_dfs_with_values=[]\n",
    "    length_df_arrays = len(df_with_arrays)\n",
    "    for i_row in range(length_df_arrays):\n",
    "        row_i = df_with_arrays.iloc[i_row]\n",
    "        length_trial_row_i = int(row_i['Time_points'])\n",
    "        values_raw_trial_row_i = row_i['Raw']\n",
    "        row_i_no_raw_trial = row_i.drop(['Raw'])\n",
    "        list_values_trial_row_i_dfs = []\n",
    "        for i_trial_row_i in range(length_trial_row_i):\n",
    "            value_i_raw_trial_row_i = values_raw_trial_row_i[i_trial_row_i]\n",
    "            row_i_no_raw_trial_copy = row_i_no_raw_trial.copy()\n",
    "            row_i_no_raw_trial_copy['Value'] = value_i_raw_trial_row_i\n",
    "            row_i_no_raw_trial_copy['time_ind'] = i_trial_row_i\n",
    "            df_row_i_no_raw_trial_copy = pd.DataFrame(row_i_no_raw_trial_copy).transpose()\n",
    "            list_values_trial_row_i_dfs.append(df_row_i_no_raw_trial_copy)\n",
    "        df_trial_row_i = pd.concat(list_values_trial_row_i_dfs, ignore_index=True)\n",
    "        list_dfs_with_values.append(df_trial_row_i)\n",
    "    df_with_values = pd.concat(list_dfs_with_values, ignore_index=True)\n",
    "    return df_with_values"
   ]
  },
  {
   "cell_type": "code",
   "execution_count": null,
   "metadata": {},
   "outputs": [],
   "source": [
    "# Saving the data_frame\n",
    "def save_data_frame(data_folder,file_name,df_to_save,verbose=0):\n",
    "    \"\"\" Vaces the input dataframe as a csv in the given folder.\"\"\"\n",
    "    file_name_for_saving_the_raw_df = file_name\n",
    "    raw_data_file_path = os.path.join(data_folder,file_name_for_saving_the_raw_df)\n",
    "    df_to_save.to_csv(raw_data_file_path)\n",
    "    #path_or_buf=None, sep=',', na_rep='', float_format=None, columns=None, header=True, index=True, index_label=None, mode='w', encoding=None, compression='infer', quoting=None, quotechar='\"', line_terminator=None, chunksize=None, date_format=None, doublequote=True, escapechar=None, decimal='.', errors='strict', storage_options=None)"
   ]
  },
  {
   "cell_type": "markdown",
   "metadata": {},
   "source": [
    "### Plotting the raw data"
   ]
  },
  {
   "cell_type": "code",
   "execution_count": null,
   "metadata": {},
   "outputs": [],
   "source": [
    "\n",
    "def plot_trial_elec_i_muscle_i(df_subject_no_empty_elec_i_muscle_i,elec_i, muscle_i_elec_i, time_series_key='Raw',time_points_key='Time_points',init_t_plot = 0,end_t_plot = -1, save_flag=0,save_folder='tmp'):\n",
    "    \"\"\"Simplest plotting function for a time serie stored in the dataframe\"\"\"\n",
    "    n_trials_elec_i_muscle_i = len(df_subject_no_empty_elec_i_muscle_i)\n",
    "    plt.figure(figsize = (10,5))\n",
    "    offset = 0\n",
    "    ax = plt.axes()\n",
    "    for i_trials_elec_i_muscle_i in range(n_trials_elec_i_muscle_i):\n",
    "        offset += 1.0\n",
    "        trial_i_elec_i_muscle_i = df_subject_no_empty_elec_i_muscle_i.iloc[i_trials_elec_i_muscle_i]\n",
    "        time_points_trial_i=int(trial_i_elec_i_muscle_i[time_points_key])\n",
    "        time_array = dt*np.arange(1,time_points_trial_i+1)\n",
    "        values=[]\n",
    "        if time_series_key=='Raw':\n",
    "            values = trial_i_elec_i_muscle_i[time_series_key]\n",
    "        else:\n",
    "            values = trial_i_elec_i_muscle_i[time_series_key]#[0]\n",
    "        plt.plot(time_array[init_t_plot:end_t_plot],values[init_t_plot:end_t_plot]+ offset, linewidth = 1.5, color = (i_trials_elec_i_muscle_i/n_trials_elec_i_muscle_i, 0.2, 0.3)) \n",
    "    plt.xlabel('Time [s]', fontsize=10),\n",
    "    plt.ylabel('Trial number', fontsize=10),\n",
    "    plt.title(elec_i+\"-\"+muscle_i_elec_i, fontsize=20)\n",
    "    if save_flag:\n",
    "        data_file = time_series_key+\"_\"+elec_i+muscle_i_elec_i+'.png'\n",
    "        data_file_path = os.path.join(save_folder,data_file)\n",
    "        plt.savefig(data_file_path, transparent = \"True\", bbox_inches='tight')"
   ]
  },
  {
   "cell_type": "code",
   "execution_count": null,
   "metadata": {},
   "outputs": [],
   "source": [
    "# Only keeping the ones that got data\n",
    "df_subject_no_empty = df_subject.where(df_subject['Time_points']>1)\n",
    "df_subject_no_empty.dropna(inplace=True)"
   ]
  },
  {
   "cell_type": "code",
   "execution_count": null,
   "metadata": {},
   "outputs": [],
   "source": [
    "save_flag=1\n",
    "subject_plots_folder_name=subject+'_plots'\n",
    "save_folder = os.path.join(data_folder,subject_plots_folder_name,\"Raw_tinit_100_tend_300\")\n",
    "os.makedirs(save_folder,exist_ok=True)"
   ]
  },
  {
   "cell_type": "code",
   "execution_count": null,
   "metadata": {},
   "outputs": [],
   "source": [
    "time_series_key='Raw'\n",
    "time_points_key='Time_points'\n",
    "init_t_plot = 100\n",
    "end_t_plot = 300"
   ]
  },
  {
   "cell_type": "code",
   "execution_count": null,
   "metadata": {
    "scrolled": true
   },
   "outputs": [],
   "source": [
    "###Plot all the graphs\n",
    "#to run set run=1\n",
    "run=1\n",
    "if run==1:\n",
    "    list_elecs = df_subject_no_empty['Elec_config'].unique()\n",
    "    n_list_elecs = len(list_elecs)\n",
    "    for i_elec in range(n_list_elecs):\n",
    "        elec_i = list_elecs[i_elec]\n",
    "        df_subject_no_empty_elec_i = df_subject_no_empty.where(df_subject_no_empty['Elec_config']==elec_i)\n",
    "        df_subject_no_empty_elec_i.dropna(inplace=True)\n",
    "        list_muscle_or_other_elec_i = df_subject_no_empty_elec_i['Muscle_or_other'].unique()\n",
    "        n_muscle_or_other_elec_i = len(list_muscle_or_other_elec_i)\n",
    "        for i_muscle_or_other_elec_i in range(n_muscle_or_other_elec_i):\n",
    "            muscle_i_elec_i = list_muscle_or_other_elec_i[i_muscle_or_other_elec_i]\n",
    "            df_subject_no_empty_elec_i_muscle_i = df_subject_no_empty_elec_i.where(df_subject_no_empty_elec_i['Muscle_or_other']==muscle_i_elec_i)\n",
    "            df_subject_no_empty_elec_i_muscle_i.dropna(inplace=True)\n",
    "            # plot_trial_elec_i_muscle_i(df_subject_no_empty_elec_i_muscle_i,elec_i=elec_i, muscle_i_elec_i=muscle_i_elec_i, time_series_key=time_series_key,time_points_key=time_points_key,init_t_plot =init_t_plot ,end_t_plot =end_t_plot ,save_flag=save_flag,save_folder=save_folder)"
   ]
  },
  {
   "cell_type": "markdown",
   "metadata": {},
   "source": [
    "## Filtering the signal"
   ]
  },
  {
   "cell_type": "markdown",
   "metadata": {},
   "source": [
    "Following [Rowald, Komi, Demesmeaker et al. 2022](https://www.nature.com/articles/s41591-021-01663-5#Sec14):\n",
    "```\n",
    "Analysis of lower limb muscle activity\n",
    "\n",
    "The electromyographic activity from lower limb muscles was processed according to SENIAM (Surface Electromyography for the Non-Invasive Assessment of Muscles) standards for electromyographic recordings. All displayed electromyographic activities during walking were band-pass filtered between 10 and 450 Hz (fourth-order Butterworth filter). A moving average of the rectified electromyographic signal within a centered 250-ms time window was used to generate normalized electromyographic envelopes for quantification.\n",
    "```\n",
    "Even it is walking we can consider applying the same:\n",
    "1. Band-pass 10-450 Hz (fourth-order Butterworth filter).\n",
    "2. Rectify (absolute value).\n",
    "3. Average 250 ms time window average filter."
   ]
  },
  {
   "cell_type": "code",
   "execution_count": null,
   "metadata": {},
   "outputs": [],
   "source": [
    "high_band = 450\n",
    "low_band = 10\n",
    "order_filter = 4\n",
    "average_window_filter_seconds=0.005"
   ]
  },
  {
   "cell_type": "code",
   "execution_count": null,
   "metadata": {},
   "outputs": [],
   "source": [
    "# Filtering preparation\n",
    "butter_sos_filter = sp.signal.butter(N=order_filter,Wn=[low_band,high_band],btype='bandpass',output='sos',fs=fs)\n",
    "average_window_filter_size=int(np.ceil(average_window_filter_seconds/dt))"
   ]
  },
  {
   "cell_type": "code",
   "execution_count": null,
   "metadata": {},
   "outputs": [],
   "source": [
    "# We get the last point in time\n",
    "last_t_point = int(df_subject_no_empty['Time_points'].max())\n",
    "# We take some before to define our end of array\n",
    "n_points_before_last_t_pont = 4"
   ]
  },
  {
   "cell_type": "code",
   "execution_count": null,
   "metadata": {},
   "outputs": [],
   "source": [
    "init_t_plot = 0\n",
    "end_t_plot = last_t_point-n_points_before_last_t_pont"
   ]
  },
  {
   "cell_type": "markdown",
   "metadata": {},
   "source": [
    "Our experiments showed that there are a number of artefacts. And that the average 250 ms time window average filter was smoothing the signal to the point of suppressing it. \n",
    "We changed our pipeline to:\n",
    "\n",
    "1. Find the artefacts that keep repeating all over the signal.\n",
    "2. Do pattern matching on the signals using a simple cross-validation threshold to find the location of these artefacts on signals.\n",
    "3. Replace by 0s wherever these artefacts are found.\n",
    "4. Find high transients and replace these chunks between these high transients with 0s using the `ruptures` library, implemented in [Selective review of offline change point detection methods](https://doi.org/10.1016/j.sigpro.2019.107299).\n",
    "\n",
    "Then we proceed with:\n",
    "\n",
    "5. Band-pass 10-450 Hz (fourth-order Butterworth filter).\n",
    "6. Rectify (absolute value).\n",
    "7. Average 5 ms time window average filter."
   ]
  },
  {
   "cell_type": "markdown",
   "metadata": {},
   "source": [
    "After a couple of tests, 250ms is way too much. 5 ms seems to be reasonable"
   ]
  },
  {
   "cell_type": "markdown",
   "metadata": {},
   "source": [
    "# Find Artifacts"
   ]
  },
  {
   "cell_type": "code",
   "execution_count": null,
   "metadata": {},
   "outputs": [],
   "source": [
    "def save_artifact(i_elec_artifact,i_muscle_i_elec_artifact,i_trial_i_muscle_i_elec_artifact,init_t_artifact,end_t_artifact, artifact_number,artifact_time_serie, trial_i_muscle_i_elec_i_raw ):\n",
    "    print(f\"artifact_number:{artifact_number}\" )\n",
    "    subject_plots_folder_name=subject+'_plots'\n",
    "    save_folder = os.path.join(data_folder,subject_plots_folder_name)\n",
    "    save_file = subject+\"artf\"+str(artifact_number)+\"_\"+str(i_elec_artifact)+\"_\"+str(i_muscle_i_elec_artifact)+\"_\"+str(i_trial_i_muscle_i_elec_artifact)+\"_\"+str(init_t_artifact)+\"-\"+str(end_t_artifact)+\".csv\"\n",
    "    save_file_path = os.path.join(save_folder,save_file)\n",
    "    np.savetxt(save_file_path, artifact_time_serie, delimiter=',')\n",
    "    print(trial_i_muscle_i_elec_i_raw)\n",
    "    return artifact_time_serie, trial_i_muscle_i_elec_i_raw \n",
    "    "
   ]
  },
  {
   "cell_type": "code",
   "execution_count": null,
   "metadata": {},
   "outputs": [],
   "source": [
    "def plot_artifact(i_elec_artifact,i_muscle_i_elec_artifact,i_trial_i_muscle_i_elec_artifact,init_t_artifact,end_t_artifact, artifact_number):\n",
    "#function to plot a specific artifact \n",
    " #inputs required:\n",
    "    #Eletrode number\n",
    "    #Muscle number\n",
    "    #Trial number\n",
    "    #initiation time artifact\n",
    "    #end time artifact\n",
    "    #artifact number\n",
    "\n",
    "    elec_i = list_elecs[i_elec_artifact]\n",
    "    df_subject_no_empty_elec_i = df_subject_no_empty.where(df_subject_no_empty['Elec_config']==elec_i) #df with only sepc electrode\n",
    "    df_subject_no_empty_elec_i.dropna(inplace=True) \n",
    "    list_muscle_or_other_elec_i = df_subject_no_empty_elec_i['Muscle_or_other'].unique() #Returns the sorted unique elements of an array\n",
    "    n_muscle_or_other_elec_i = len(list_muscle_or_other_elec_i)\n",
    "    muscle_i_elec_i = list_muscle_or_other_elec_i[i_muscle_i_elec_artifact]\n",
    "    print(muscle_i_elec_i)\n",
    "    df_subject_no_empty_elec_i_muscle_i = df_subject_no_empty_elec_i.where(df_subject_no_empty_elec_i['Muscle_or_other']==muscle_i_elec_i)\n",
    "    df_subject_no_empty_elec_i_muscle_i.dropna(inplace=True)\n",
    "    print()\n",
    "    n_trials_elec_i_muscle_i = len(df_subject_no_empty_elec_i_muscle_i)\n",
    "    trial_i_elec_i_muscle_i = df_subject_no_empty_elec_i_muscle_i.iloc[i_trial_i_muscle_i_elec_artifact]\n",
    "    print(df_subject_no_empty_elec_i_muscle_i[\"Trial_number\"])\n",
    "    time_points_trial_i=int(trial_i_elec_i_muscle_i['Time_points']) #number of time points\n",
    "    #evt change dt to 1/time_points_trial_i\n",
    "    time_array = dt*np.arange(1,time_points_trial_i+1) #dt = 1/fs sampling interval( abhängig vom EMG)\n",
    "    trial_i_muscle_i_elec_i_raw = trial_i_elec_i_muscle_i[time_series_key]\n",
    "    print(type(trial_i_elec_i_muscle_i))\n",
    "    plt.figure(figsize = (10,5))\n",
    "    offset = 1.0\n",
    "    plt.plot(time_array[init_t_plot:end_t_plot],trial_i_muscle_i_elec_i_raw[init_t_plot:end_t_plot]+ offset, linewidth = 1.5, color = (i_trial_i_muscle_i_elec_artifact/n_trials_elec_i_muscle_i, 0.2, 0.3)) \n",
    "    plt.plot(time_array[init_t_artifact:end_t_artifact],trial_i_muscle_i_elec_i_raw[init_t_artifact:end_t_artifact], linewidth = 1.5, color = (i_trial_i_muscle_i_elec_artifact/n_trials_elec_i_muscle_i, 0.2, 0.3)) \n",
    "    artifact_time_serie = trial_i_muscle_i_elec_i_raw[init_t_artifact:end_t_artifact]\n",
    "  \n",
    "    save_artifact(i_elec_artifact,i_muscle_i_elec_artifact,i_trial_i_muscle_i_elec_artifact,init_t_artifact,end_t_artifact, artifact_number, artifact_time_serie, trial_i_muscle_i_elec_i_raw )\n",
    "    solution"
   ]
  },
  {
   "cell_type": "markdown",
   "metadata": {},
   "source": [
    "### First Artifact"
   ]
  },
  {
   "cell_type": "code",
   "execution_count": null,
   "metadata": {},
   "outputs": [],
   "source": [
    "#Plot artifact one\n",
    "plot_artifact(i_elec_artifact=3,i_muscle_i_elec_artifact=5,i_trial_i_muscle_i_elec_artifact=19,init_t_artifact=580,end_t_artifact=820, artifact_number=1)\n"
   ]
  },
  {
   "cell_type": "code",
   "execution_count": null,
   "metadata": {},
   "outputs": [
    {
     "ename": "ValueError",
     "evalue": "in1 and in2 should have the same dimensionality",
     "output_type": "error",
     "traceback": [
      "\u001b[0;31m---------------------------------------------------------------------------\u001b[0m",
      "\u001b[0;31mValueError\u001b[0m                                Traceback (most recent call last)",
      "\u001b[1;32m/Users/nealarohner/Desktop/Projectome_Finder/code/Neala_Master_Thesis/indroducing_classes_EMG_data_test.ipynb Cell 33\u001b[0m in \u001b[0;36m<cell line: 3>\u001b[0;34m()\u001b[0m\n\u001b[1;32m     <a href='vscode-notebook-cell:/Users/nealarohner/Desktop/Projectome_Finder/code/Neala_Master_Thesis/indroducing_classes_EMG_data_test.ipynb#X43sZmlsZQ%3D%3D?line=14'>15</a>\u001b[0m trial_i_elec_i_muscle_i \u001b[39m=\u001b[39m df_subject_no_empty_elec_i_muscle_i\u001b[39m.\u001b[39miloc[i_trials_elec_i_muscle_i]\n\u001b[1;32m     <a href='vscode-notebook-cell:/Users/nealarohner/Desktop/Projectome_Finder/code/Neala_Master_Thesis/indroducing_classes_EMG_data_test.ipynb#X43sZmlsZQ%3D%3D?line=15'>16</a>\u001b[0m trial_i_muscle_i_elec_i_raw \u001b[39m=\u001b[39m trial_i_elec_i_muscle_i[time_series_key]\n\u001b[0;32m---> <a href='vscode-notebook-cell:/Users/nealarohner/Desktop/Projectome_Finder/code/Neala_Master_Thesis/indroducing_classes_EMG_data_test.ipynb#X43sZmlsZQ%3D%3D?line=16'>17</a>\u001b[0m corr \u001b[39m=\u001b[39m sp\u001b[39m.\u001b[39;49msignal\u001b[39m.\u001b[39;49mcorrelate(trial_i_muscle_i_elec_i_raw, artifact_time_serie)\n\u001b[1;32m     <a href='vscode-notebook-cell:/Users/nealarohner/Desktop/Projectome_Finder/code/Neala_Master_Thesis/indroducing_classes_EMG_data_test.ipynb#X43sZmlsZQ%3D%3D?line=17'>18</a>\u001b[0m corr_abs \u001b[39m=\u001b[39m np\u001b[39m.\u001b[39mabs(corr)\n\u001b[1;32m     <a href='vscode-notebook-cell:/Users/nealarohner/Desktop/Projectome_Finder/code/Neala_Master_Thesis/indroducing_classes_EMG_data_test.ipynb#X43sZmlsZQ%3D%3D?line=18'>19</a>\u001b[0m \u001b[39mif\u001b[39;00m np\u001b[39m.\u001b[39mmax(corr_abs) \u001b[39m>\u001b[39m max_corr_val:\n",
      "File \u001b[0;32m~/opt/anaconda3/envs/projectome_finder/lib/python3.10/site-packages/scipy/signal/signaltools.py:228\u001b[0m, in \u001b[0;36mcorrelate\u001b[0;34m(in1, in2, mode, method)\u001b[0m\n\u001b[1;32m    226\u001b[0m     \u001b[39mreturn\u001b[39;00m in1 \u001b[39m*\u001b[39m in2\u001b[39m.\u001b[39mconj()\n\u001b[1;32m    227\u001b[0m \u001b[39melif\u001b[39;00m in1\u001b[39m.\u001b[39mndim \u001b[39m!=\u001b[39m in2\u001b[39m.\u001b[39mndim:\n\u001b[0;32m--> 228\u001b[0m     \u001b[39mraise\u001b[39;00m \u001b[39mValueError\u001b[39;00m(\u001b[39m\"\u001b[39m\u001b[39min1 and in2 should have the same dimensionality\u001b[39m\u001b[39m\"\u001b[39m)\n\u001b[1;32m    230\u001b[0m \u001b[39m# Don't use _valfrommode, since correlate should not accept numeric modes\u001b[39;00m\n\u001b[1;32m    231\u001b[0m \u001b[39mtry\u001b[39;00m:\n",
      "\u001b[0;31mValueError\u001b[0m: in1 and in2 should have the same dimensionality"
     ]
    }
   ],
   "source": [
    "# Find the max cross_corr overall for normalization\n",
    "max_corr_val = -99\n",
    "for i_elec in range(n_list_elecs):\n",
    "    elec_i = list_elecs[i_elec]\n",
    "    df_subject_no_empty_elec_i = df_subject_no_empty.where(df_subject_no_empty['Elec_config']==elec_i)\n",
    "    df_subject_no_empty_elec_i.dropna(inplace=True)\n",
    "    list_muscle_or_other_elec_i = df_subject_no_empty_elec_i['Muscle_or_other'].unique()\n",
    "    n_muscle_or_other_elec_i = len(list_muscle_or_other_elec_i)\n",
    "    for i_muscle_or_other_elec_i in range(n_muscle_or_other_elec_i):\n",
    "        muscle_i_elec_i = list_muscle_or_other_elec_i[i_muscle_or_other_elec_i]\n",
    "        df_subject_no_empty_elec_i_muscle_i = df_subject_no_empty_elec_i.where(df_subject_no_empty_elec_i['Muscle_or_other']==muscle_i_elec_i)\n",
    "        df_subject_no_empty_elec_i_muscle_i.dropna(inplace=True)\n",
    "        n_trials_elec_i_muscle_i = len(df_subject_no_empty_elec_i_muscle_i)\n",
    "        for i_trials_elec_i_muscle_i in range(n_trials_elec_i_muscle_i):\n",
    "            trial_i_elec_i_muscle_i = df_subject_no_empty_elec_i_muscle_i.iloc[i_trials_elec_i_muscle_i]\n",
    "            trial_i_muscle_i_elec_i_raw = trial_i_elec_i_muscle_i[time_series_key]\n",
    "            corr = sp.signal.correlate(trial_i_muscle_i_elec_i_raw, artifact_time_serie)\n",
    "            corr_abs = np.abs(corr)\n",
    "            if np.max(corr_abs) > max_corr_val:\n",
    "                max_corr_val = np.max(corr_abs)\n"
   ]
  },
  {
   "cell_type": "code",
   "execution_count": null,
   "metadata": {},
   "outputs": [],
   "source": [
    "th_corr = 0.6\n",
    "n_t_points_before = 0\n",
    "n_t_points_after = len(artifact_time_serie)"
   ]
  },
  {
   "cell_type": "code",
   "execution_count": null,
   "metadata": {},
   "outputs": [],
   "source": [
    "min_size_transients = 100\n",
    "beta_value_transients = 1\n",
    "indices_to_go_back_and_zero = 50\n",
    "transient_index=-2\n",
    "end_index_zero_transients=-1"
   ]
  },
  {
   "cell_type": "markdown",
   "metadata": {},
   "source": [
    "We go now through the data and create the new time-series"
   ]
  },
  {
   "cell_type": "code",
   "execution_count": null,
   "metadata": {
    "scrolled": true
   },
   "outputs": [
    {
     "name": "stdout",
     "output_type": "stream",
     "text": [
      "Elec01_\n"
     ]
    },
    {
     "ename": "AttributeError",
     "evalue": "module 'ruptures' has no attribute 'KernelCPD'",
     "output_type": "error",
     "traceback": [
      "\u001b[0;31m---------------------------------------------------------------------------\u001b[0m",
      "\u001b[0;31mAttributeError\u001b[0m                            Traceback (most recent call last)",
      "\u001b[1;32m/Users/nealarohner/Desktop/Projectome_Finder/code/Neala_Master_Thesis/indroducing_classes_EMG_data_test.ipynb Cell 35\u001b[0m in \u001b[0;36m<cell line: 13>\u001b[0;34m()\u001b[0m\n\u001b[1;32m     <a href='vscode-notebook-cell:/Users/nealarohner/Desktop/Projectome_Finder/code/Neala_Master_Thesis/indroducing_classes_EMG_data_test.ipynb#X46sZmlsZQ%3D%3D?line=38'>39</a>\u001b[0m     index_to_delete_i \u001b[39m=\u001b[39m indices_to_delete[i_index_to_delete]\n\u001b[1;32m     <a href='vscode-notebook-cell:/Users/nealarohner/Desktop/Projectome_Finder/code/Neala_Master_Thesis/indroducing_classes_EMG_data_test.ipynb#X46sZmlsZQ%3D%3D?line=39'>40</a>\u001b[0m     trial_i_muscle_i_elec_i_raw_to_zero[index_to_delete_i\u001b[39m-\u001b[39mn_t_points_before:index_to_delete_i\u001b[39m+\u001b[39mn_t_points_after] \u001b[39m=\u001b[39m \u001b[39m0\u001b[39m\n\u001b[0;32m---> <a href='vscode-notebook-cell:/Users/nealarohner/Desktop/Projectome_Finder/code/Neala_Master_Thesis/indroducing_classes_EMG_data_test.ipynb#X46sZmlsZQ%3D%3D?line=40'>41</a>\u001b[0m algo_c \u001b[39m=\u001b[39m rpt\u001b[39m.\u001b[39;49mKernelCPD(kernel\u001b[39m=\u001b[39m\u001b[39m\"\u001b[39m\u001b[39mrbf\u001b[39m\u001b[39m\"\u001b[39m, min_size\u001b[39m=\u001b[39mmin_size_transients)\u001b[39m.\u001b[39mfit(trial_i_muscle_i_elec_i_raw) \n\u001b[1;32m     <a href='vscode-notebook-cell:/Users/nealarohner/Desktop/Projectome_Finder/code/Neala_Master_Thesis/indroducing_classes_EMG_data_test.ipynb#X46sZmlsZQ%3D%3D?line=41'>42</a>\u001b[0m penalty_value \u001b[39m=\u001b[39m beta_value_transients  \u001b[39m# beta\u001b[39;00m\n\u001b[1;32m     <a href='vscode-notebook-cell:/Users/nealarohner/Desktop/Projectome_Finder/code/Neala_Master_Thesis/indroducing_classes_EMG_data_test.ipynb#X46sZmlsZQ%3D%3D?line=42'>43</a>\u001b[0m bkps_c \u001b[39m=\u001b[39m algo_c\u001b[39m.\u001b[39mpredict(pen\u001b[39m=\u001b[39mpenalty_value)\n",
      "\u001b[0;31mAttributeError\u001b[0m: module 'ruptures' has no attribute 'KernelCPD'"
     ]
    }
   ],
   "source": [
    "# Add the missing columns\n",
    "df_subject_no_empty['TS_arts_filt_rect_meaned']=\"$\"\n",
    "df_subject_no_empty['Time_points_arts_filt_rect_meaned']=-1\n",
    "df_subject_no_empty['TS_arts_1'] =\"$\"\n",
    "df_subject_no_empty['Time_points_arts_1'] =-1\n",
    "df_subject_no_empty['TS_arts_2'] =\"$\"\n",
    "df_subject_no_empty['Time_points_arts_2']=-1\n",
    "df_subject_no_empty['TS_arts_filt'] =\"$\"\n",
    "df_subject_no_empty['Time_points_arts_filt'] =-1\n",
    "df_subject_no_empty['TS_arts_filt_rect'] =\"$\"\n",
    "df_subject_no_empty['Time_points_arts_filt_rect']=-1\n",
    "# Loop through the elecs\n",
    "for i_elec in range(0,n_list_elecs):\n",
    "    elec_i = list_elecs[i_elec]\n",
    "    print(elec_i)\n",
    "    df_subject_no_empty_elec_i = df_subject_no_empty.where(df_subject_no_empty['Elec_config']==elec_i)\n",
    "    df_subject_no_empty_elec_i.dropna(inplace=True)\n",
    "    list_muscle_or_other_elec_i = df_subject_no_empty_elec_i['Muscle_or_other'].unique()\n",
    "    n_muscle_or_other_elec_i = len(list_muscle_or_other_elec_i)\n",
    "    # Loop through the muscles of the elec_i\n",
    "    for i_muscle_or_other_elec_i in range(0,n_muscle_or_other_elec_i):\n",
    "        muscle_i_elec_i = list_muscle_or_other_elec_i[i_muscle_or_other_elec_i]\n",
    "        df_subject_no_empty_elec_i_muscle_i = df_subject_no_empty_elec_i.where(df_subject_no_empty_elec_i['Muscle_or_other']==muscle_i_elec_i)\n",
    "        df_subject_no_empty_elec_i_muscle_i.dropna(inplace=True)\n",
    "        # Loop through the trials of the muscle_i of the elec_i\n",
    "        n_trials_elec_i_muscle_i = len(df_subject_no_empty_elec_i_muscle_i)\n",
    "        for i_trials_elec_i_muscle_i in range(n_trials_elec_i_muscle_i):\n",
    "            trial_i_elec_i_muscle_i = df_subject_no_empty_elec_i_muscle_i.iloc[i_trials_elec_i_muscle_i]\n",
    "            trial_i_elec_i_muscle_i_trial_index = trial_i_elec_i_muscle_i.name\n",
    "            time_points_trial_i=int(trial_i_elec_i_muscle_i['Time_points'])\n",
    "            trial_i_muscle_i_elec_i_raw = trial_i_elec_i_muscle_i[time_series_key]\n",
    "            trial_i_muscle_i_elec_i_raw_to_zero = trial_i_muscle_i_elec_i_raw.copy()\n",
    "            corr = sp.signal.correlate(trial_i_muscle_i_elec_i_raw, artifact_time_serie)\n",
    "            lags = sp.signal.correlation_lags(len(trial_i_muscle_i_elec_i_raw), len(artifact_time_serie))\n",
    "            corr_abs = np.abs(corr)\n",
    "            corr_abs /= max_corr_val\n",
    "            indices_to_delete = np.where(corr_abs>th_corr)[0] - (len(artifact_time_serie))\n",
    "            for i_index_to_delete in range(len(indices_to_delete)):\n",
    "                index_to_delete_i = indices_to_delete[i_index_to_delete]\n",
    "                trial_i_muscle_i_elec_i_raw_to_zero[index_to_delete_i-n_t_points_before:index_to_delete_i+n_t_points_after] = 0\n",
    "            algo_c = rpt.KernelCPD(kernel=\"rbf\", min_size=min_size_transients).fit(trial_i_muscle_i_elec_i_raw) \n",
    "            penalty_value = beta_value_transients  # beta\n",
    "            bkps_c = algo_c.predict(pen=penalty_value)\n",
    "            putting_to_zero_index = bkps_c[transient_index]-indices_to_go_back_and_zero\n",
    "            trial_i_muscle_i_elec_i_raw_to_zero_bis = trial_i_muscle_i_elec_i_raw_to_zero.copy()\n",
    "            index_for_zero = int(putting_to_zero_index)\n",
    "            trial_i_muscle_i_elec_i_raw_to_zero_bis[index_for_zero:end_index_zero_transients] = 0\n",
    "            # Saving in the dataframe\n",
    "            df_subject_no_empty.at[trial_i_elec_i_muscle_i_trial_index,'TS_arts_1'] = trial_i_muscle_i_elec_i_raw_to_zero\n",
    "            df_subject_no_empty.at[trial_i_elec_i_muscle_i_trial_index,'Time_points_arts_1'] = len(trial_i_muscle_i_elec_i_raw_to_zero)\n",
    "            df_subject_no_empty.at[trial_i_elec_i_muscle_i_trial_index,'TS_arts_2'] = trial_i_muscle_i_elec_i_raw_to_zero_bis\n",
    "            df_subject_no_empty.at[trial_i_elec_i_muscle_i_trial_index,'Time_points_arts_2'] = len(trial_i_muscle_i_elec_i_raw_to_zero_bis)\n",
    "            trial_i_muscle_i_elec_i_filtered = sp.signal.sosfilt(butter_sos_filter, trial_i_muscle_i_elec_i_raw_to_zero_bis)\n",
    "            df_subject_no_empty.at[trial_i_elec_i_muscle_i_trial_index,'TS_arts_filt'] = trial_i_muscle_i_elec_i_filtered\n",
    "            df_subject_no_empty.at[trial_i_elec_i_muscle_i_trial_index,'Time_points_arts_filt'] = len(trial_i_muscle_i_elec_i_filtered)\n",
    "            trial_i_muscle_i_elec_i_filtered_rectified = np.abs(trial_i_muscle_i_elec_i_filtered)\n",
    "            df_subject_no_empty.at[trial_i_elec_i_muscle_i_trial_index,'TS_arts_filt_rect'] = trial_i_muscle_i_elec_i_filtered_rectified\n",
    "            df_subject_no_empty.at[trial_i_elec_i_muscle_i_trial_index,'Time_points_arts_filt_rect'] = len(trial_i_muscle_i_elec_i_filtered_rectified)\n",
    "            trial_i_muscle_i_elec_i_filtered_rectified_meaned = sp.ndimage.filters.uniform_filter1d(trial_i_muscle_i_elec_i_filtered_rectified,size=average_window_filter_size)\n",
    "            df_subject_no_empty.at[trial_i_elec_i_muscle_i_trial_index,'TS_arts_filt_rect_meaned'] = trial_i_muscle_i_elec_i_filtered_rectified_meaned\n",
    "            df_subject_no_empty.at[trial_i_elec_i_muscle_i_trial_index,'Time_points_arts_filt_rect_meaned'] = len(trial_i_muscle_i_elec_i_filtered_rectified_meaned)            "
   ]
  },
  {
   "cell_type": "markdown",
   "metadata": {},
   "source": [
    "### Second artifact"
   ]
  },
  {
   "cell_type": "code",
   "execution_count": null,
   "metadata": {},
   "outputs": [],
   "source": [
    "#Plot artifact two\n",
    "plot_artifact(i_elec_artifact=1,i_muscle_i_elec_artifact=3,i_trial_i_muscle_i_elec_artifact=63,init_t_artifact=0,end_t_artifact=390, artifact_number=2)"
   ]
  },
  {
   "cell_type": "code",
   "execution_count": null,
   "metadata": {},
   "outputs": [],
   "source": [
    "# Find the max cross_corr overall for normalization\n",
    "max_corr_val = -99\n",
    "for i_elec in range(n_list_elecs):\n",
    "    elec_i = list_elecs[i_elec]\n",
    "    df_subject_no_empty_elec_i = df_subject_no_empty.where(df_subject_no_empty['Elec_config']==elec_i)\n",
    "    df_subject_no_empty_elec_i.dropna(inplace=True)\n",
    "    list_muscle_or_other_elec_i = df_subject_no_empty_elec_i['Muscle_or_other'].unique()\n",
    "    n_muscle_or_other_elec_i = len(list_muscle_or_other_elec_i)\n",
    "    for i_muscle_or_other_elec_i in range(n_muscle_or_other_elec_i):\n",
    "        muscle_i_elec_i = list_muscle_or_other_elec_i[i_muscle_or_other_elec_i]\n",
    "        df_subject_no_empty_elec_i_muscle_i = df_subject_no_empty_elec_i.where(df_subject_no_empty_elec_i['Muscle_or_other']==muscle_i_elec_i)\n",
    "        df_subject_no_empty_elec_i_muscle_i.dropna(inplace=True)\n",
    "        n_trials_elec_i_muscle_i = len(df_subject_no_empty_elec_i_muscle_i)\n",
    "        for i_trials_elec_i_muscle_i in range(n_trials_elec_i_muscle_i):\n",
    "            trial_i_elec_i_muscle_i = df_subject_no_empty_elec_i_muscle_i.iloc[i_trials_elec_i_muscle_i]\n",
    "            trial_i_muscle_i_elec_i_raw = trial_i_elec_i_muscle_i[time_series_key]\n",
    "            corr = sp.signal.correlate(trial_i_muscle_i_elec_i_raw, second_artifact_time_serie)\n",
    "            corr_abs = np.abs(corr)\n",
    "            if np.max(corr_abs) > max_corr_val:\n",
    "                max_corr_val = np.max(corr_abs)\n"
   ]
  },
  {
   "cell_type": "code",
   "execution_count": null,
   "metadata": {},
   "outputs": [],
   "source": [
    "th_corr = 0.6\n",
    "n_t_points_before = 0\n",
    "n_t_points_after = len(second_artifact_time_serie)"
   ]
  },
  {
   "cell_type": "code",
   "execution_count": null,
   "metadata": {},
   "outputs": [],
   "source": [
    "min_size_transients = 100\n",
    "beta_value_transients = 1\n",
    "indices_to_go_back_and_zero = 50\n",
    "transient_index=-2\n",
    "end_index_zero_transients=-1"
   ]
  },
  {
   "cell_type": "code",
   "execution_count": null,
   "metadata": {
    "scrolled": true
   },
   "outputs": [],
   "source": [
    "# Add the missing columns\n",
    "df_subject_no_empty['TS_arts_filt_rect_meaned']=\"$\"\n",
    "df_subject_no_empty['Time_points_arts_filt_rect_meaned']=-1\n",
    "df_subject_no_empty['TS_arts_1'] =\"$\"\n",
    "df_subject_no_empty['Time_points_arts_1'] =-1\n",
    "df_subject_no_empty['TS_arts_2'] =\"$\"\n",
    "df_subject_no_empty['Time_points_arts_2']=-1\n",
    "df_subject_no_empty['TS_arts_filt'] =\"$\"\n",
    "df_subject_no_empty['Time_points_arts_filt'] =-1\n",
    "df_subject_no_empty['TS_arts_filt_rect'] =\"$\"\n",
    "df_subject_no_empty['Time_points_arts_filt_rect']=-1\n",
    "# Loop through the elecs\n",
    "for i_elec in range(0,n_list_elecs):\n",
    "    elec_i = list_elecs[i_elec]\n",
    "    print(elec_i)\n",
    "    df_subject_no_empty_elec_i = df_subject_no_empty.where(df_subject_no_empty['Elec_config']==elec_i)\n",
    "    df_subject_no_empty_elec_i.dropna(inplace=True)\n",
    "    list_muscle_or_other_elec_i = df_subject_no_empty_elec_i['Muscle_or_other'].unique()\n",
    "    n_muscle_or_other_elec_i = len(list_muscle_or_other_elec_i)\n",
    "    # Loop through the muscles of the elec_i\n",
    "    for i_muscle_or_other_elec_i in range(0,n_muscle_or_other_elec_i):\n",
    "        muscle_i_elec_i = list_muscle_or_other_elec_i[i_muscle_or_other_elec_i]\n",
    "        df_subject_no_empty_elec_i_muscle_i = df_subject_no_empty_elec_i.where(df_subject_no_empty_elec_i['Muscle_or_other']==muscle_i_elec_i)\n",
    "        df_subject_no_empty_elec_i_muscle_i.dropna(inplace=True)\n",
    "        # Loop through the trials of the muscle_i of the elec_i\n",
    "        n_trials_elec_i_muscle_i = len(df_subject_no_empty_elec_i_muscle_i)\n",
    "        for i_trials_elec_i_muscle_i in range(n_trials_elec_i_muscle_i):\n",
    "            trial_i_elec_i_muscle_i = df_subject_no_empty_elec_i_muscle_i.iloc[i_trials_elec_i_muscle_i]\n",
    "            trial_i_elec_i_muscle_i_trial_index = trial_i_elec_i_muscle_i.name\n",
    "            time_points_trial_i=int(trial_i_elec_i_muscle_i['Time_points'])\n",
    "            trial_i_muscle_i_elec_i_raw = trial_i_elec_i_muscle_i[time_series_key]\n",
    "            trial_i_muscle_i_elec_i_raw_to_zero = trial_i_muscle_i_elec_i_raw.copy()\n",
    "            corr = sp.signal.correlate(trial_i_muscle_i_elec_i_raw, artifact_time_serie)\n",
    "            lags = sp.signal.correlation_lags(len(trial_i_muscle_i_elec_i_raw), len(artifact_time_serie))\n",
    "            corr_abs = np.abs(corr)\n",
    "            corr_abs /= max_corr_val\n",
    "            indices_to_delete = np.where(corr_abs>th_corr)[0] - (len(artifact_time_serie))\n",
    "            for i_index_to_delete in range(len(indices_to_delete)):\n",
    "                index_to_delete_i = indices_to_delete[i_index_to_delete]\n",
    "                trial_i_muscle_i_elec_i_raw_to_zero[index_to_delete_i-n_t_points_before:index_to_delete_i+n_t_points_after] = 0\n",
    "            algo_c = rpt.KernelCPD(kernel=\"rbf\", min_size=min_size_transients).fit(trial_i_muscle_i_elec_i_raw) \n",
    "            penalty_value = beta_value_transients  # beta\n",
    "            bkps_c = algo_c.predict(pen=penalty_value)\n",
    "            putting_to_zero_index = bkps_c[transient_index]-indices_to_go_back_and_zero\n",
    "            trial_i_muscle_i_elec_i_raw_to_zero_bis = trial_i_muscle_i_elec_i_raw_to_zero.copy()\n",
    "            index_for_zero = int(putting_to_zero_index)\n",
    "            trial_i_muscle_i_elec_i_raw_to_zero_bis[index_for_zero:end_index_zero_transients] = 0\n",
    "            # Saving in the dataframe\n",
    "            df_subject_no_empty.at[trial_i_elec_i_muscle_i_trial_index,'TS_arts_1'] = trial_i_muscle_i_elec_i_raw_to_zero\n",
    "            df_subject_no_empty.at[trial_i_elec_i_muscle_i_trial_index,'Time_points_arts_1'] = len(trial_i_muscle_i_elec_i_raw_to_zero)\n",
    "            df_subject_no_empty.at[trial_i_elec_i_muscle_i_trial_index,'TS_arts_2'] = trial_i_muscle_i_elec_i_raw_to_zero_bis\n",
    "            df_subject_no_empty.at[trial_i_elec_i_muscle_i_trial_index,'Time_points_arts_2'] = len(trial_i_muscle_i_elec_i_raw_to_zero_bis)\n",
    "            trial_i_muscle_i_elec_i_filtered = sp.signal.sosfilt(butter_sos_filter, trial_i_muscle_i_elec_i_raw_to_zero_bis)\n",
    "            df_subject_no_empty.at[trial_i_elec_i_muscle_i_trial_index,'TS_arts_filt'] = trial_i_muscle_i_elec_i_filtered\n",
    "            df_subject_no_empty.at[trial_i_elec_i_muscle_i_trial_index,'Time_points_arts_filt'] = len(trial_i_muscle_i_elec_i_filtered)\n",
    "            trial_i_muscle_i_elec_i_filtered_rectified = np.abs(trial_i_muscle_i_elec_i_filtered)\n",
    "            df_subject_no_empty.at[trial_i_elec_i_muscle_i_trial_index,'TS_arts_filt_rect'] = trial_i_muscle_i_elec_i_filtered_rectified\n",
    "            df_subject_no_empty.at[trial_i_elec_i_muscle_i_trial_index,'Time_points_arts_filt_rect'] = len(trial_i_muscle_i_elec_i_filtered_rectified)\n",
    "            trial_i_muscle_i_elec_i_filtered_rectified_meaned = sp.ndimage.filters.uniform_filter1d(trial_i_muscle_i_elec_i_filtered_rectified,size=average_window_filter_size)\n",
    "            df_subject_no_empty.at[trial_i_elec_i_muscle_i_trial_index,'TS_arts_filt_rect_meaned'] = trial_i_muscle_i_elec_i_filtered_rectified_meaned\n",
    "            df_subject_no_empty.at[trial_i_elec_i_muscle_i_trial_index,'Time_points_arts_filt_rect_meaned'] = len(trial_i_muscle_i_elec_i_filtered_rectified_meaned)            "
   ]
  },
  {
   "cell_type": "markdown",
   "metadata": {},
   "source": [
    "### Third artifact"
   ]
  },
  {
   "cell_type": "code",
   "execution_count": null,
   "metadata": {},
   "outputs": [
    {
     "name": "stdout",
     "output_type": "stream",
     "text": [
      "LIl\n",
      "\n",
      "4692     9.0\n",
      "4693    10.0\n",
      "        ... \n",
      "4750    67.0\n",
      "4751    68.0\n",
      "Name: Trial_number, Length: 59, dtype: float64\n",
      "[0.05967695 0.0589397  0.05649598 0.0524268  0.04871514 0.047095\n",
      " 0.04663905 0.04493502 0.0414399  0.03792159]\n",
      "artifact_number:3\n"
     ]
    },
    {
     "data": {
      "image/png": "[encoded data removed]",
      "text/plain": [
       "<Figure size 1000x500 with 1 Axes>"
      ]
     },
     "metadata": {},
     "output_type": "display_data"
    }
   ],
   "source": [
    "#plot third artifact\n",
    "plot_artifact(i_elec_artifact=3, i_muscle_i_elec_artifact=7, i_trial_i_muscle_i_elec_artifact=27, init_t_artifact=100, end_t_artifact=590, artifact_number=3)"
   ]
  },
  {
   "cell_type": "markdown",
   "metadata": {},
   "source": [
    "### Fourth artifact"
   ]
  },
  {
   "cell_type": "code",
   "execution_count": null,
   "metadata": {},
   "outputs": [
    {
     "name": "stdout",
     "output_type": "stream",
     "text": [
      "RTA\n",
      "\n",
      "2284     9.0\n",
      "2285    10.0\n",
      "        ... \n",
      "2357    82.0\n",
      "2358    83.0\n",
      "Name: Trial_number, Length: 74, dtype: float64\n",
      "[0.17291767 0.18144248 0.18761247 0.19135095 0.19508491 0.20106613\n",
      " 0.20872785 0.21529292 0.21940656 0.22305158]\n",
      "artifact_number:4\n"
     ]
    },
    {
     "data": {
      "image/png": "[encoded data removed]",
      "text/plain": [
       "<Figure size 1000x500 with 1 Axes>"
      ]
     },
     "metadata": {},
     "output_type": "display_data"
    }
   ],
   "source": [
    "#plot fourth artifact\n",
    "plot_artifact(i_elec_artifact=1, i_muscle_i_elec_artifact=10, i_trial_i_muscle_i_elec_artifact=46, init_t_artifact=550, end_t_artifact=1400, artifact_number=4)"
   ]
  },
  {
   "cell_type": "markdown",
   "metadata": {},
   "source": [
    "# Now we can plot and save the filtered data"
   ]
  },
  {
   "cell_type": "code",
   "execution_count": null,
   "metadata": {},
   "outputs": [],
   "source": [
    "# save_flag=1\n",
    "# subject_plots_folder_name=subject+'_plots'\n",
    "# save_folder = os.path.join(data_folder,subject_plots_folder_name,\"Arts_2_complete\")\n",
    "# os.makedirs(save_folder,exist_ok=True)"
   ]
  },
  {
   "cell_type": "code",
   "execution_count": null,
   "metadata": {},
   "outputs": [],
   "source": [
    "time_series_key='TS_arts_2'\n",
    "time_points_key='Time_points_arts_2'\n",
    "init_t_plot = 0\n",
    "end_t_plot = -1"
   ]
  },
  {
   "cell_type": "code",
   "execution_count": null,
   "metadata": {},
   "outputs": [],
   "source": [
    "###Plot all the graphs\n",
    "#to run set run =1\n",
    "run=0\n",
    "if run ==1:\n",
    "    list_elecs = df_subject_no_empty['Elec_config'].unique()\n",
    "    n_list_elecs = len(list_elecs)\n",
    "    for i_elec in range(n_list_elecs):\n",
    "        elec_i = list_elecs[i_elec]\n",
    "        df_subject_no_empty_elec_i = df_subject_no_empty.where(df_subject_no_empty['Elec_config']==elec_i)\n",
    "        df_subject_no_empty_elec_i.dropna(inplace=True)\n",
    "        list_muscle_or_other_elec_i = df_subject_no_empty_elec_i['Muscle_or_other'].unique()\n",
    "        n_muscle_or_other_elec_i = len(list_muscle_or_other_elec_i)\n",
    "        for i_muscle_or_other_elec_i in range(n_muscle_or_other_elec_i):\n",
    "            muscle_i_elec_i = list_muscle_or_other_elec_i[i_muscle_or_other_elec_i]\n",
    "            df_subject_no_empty_elec_i_muscle_i = df_subject_no_empty_elec_i.where(df_subject_no_empty_elec_i['Muscle_or_other']==muscle_i_elec_i)\n",
    "            df_subject_no_empty_elec_i_muscle_i.dropna(inplace=True)\n",
    "            # plot_trial_elec_i_muscle_i(df_subject_no_empty_elec_i_muscle_i,elec_i=elec_i, muscle_i_elec_i=muscle_i_elec_i, time_series_key=time_series_key,time_points_key=time_points_key,init_t_plot =init_t_plot ,end_t_plot =end_t_plot ,save_flag=save_flag,save_folder=save_folder)"
   ]
  },
  {
   "cell_type": "markdown",
   "metadata": {},
   "source": [
    "# Organize the data"
   ]
  },
  {
   "cell_type": "code",
   "execution_count": null,
   "metadata": {},
   "outputs": [],
   "source": [
    "###Save every index of df subject into an object ###\n",
    "\n",
    "#to run data set run=1\n",
    "run=0\n",
    "\n",
    "class DfSubject:\n",
    "    def __init__(self, idx):\n",
    "        self.idx=idx\n",
    "        self.Trial_number= df_subject.loc[df_subject.index==self.idx][\"Trial_number\"]\n",
    "        self.Raw= df_subject.loc[df_subject.index==self.idx][\"Raw\"]\n",
    "        self.Time_points= df_subject.loc[df_subject.index==self.idx][\"Time_points\"]\n",
    "        self.Muscle_or_other= df_subject.loc[df_subject.index==self.idx][\"Muscle_or_other\"]\n",
    "        self.Elec_config= df_subject.loc[df_subject.index==self.idx][\"Elec_config\"]\n",
    "        self.Subject= df_subject.loc[df_subject.index==self.idx][\"Subject\"]\n",
    "        self.Amplitudes= df_subject.loc[df_subject.index==self.idx][\"Amplitudes\"]\n",
    "    \n",
    "    \n",
    "\n",
    "if run ==1:\n",
    "    #make a list where index is automatically incorporated into _index_#\n",
    "    number_to_str=[]\n",
    "    for number in range (0, len(df_subject)):\n",
    "        number=number=\"_\"+str(number)+\"_\"\n",
    "        number_to_str.append(number)\n",
    "    \n",
    "    #Create dic where every index is an object # acess data like this:  pData[\"_123_\"].Raw\n",
    "    i=0\n",
    "    pData = {}\n",
    "    for number in number_to_str:\n",
    "        pData[number] = DfSubject(i)\n",
    "        i+=1\n",
    "    \n",
    "    \n",
    "#_0_, _1_, etc.\n",
    "#Upload the data to pickle file and save files in masterthesis folder #\n",
    "\n",
    "\n",
    "#Example object\n",
    "#_1_=DfSubject(1) #print(_1_.Raw)\n"
   ]
  },
  {
   "cell_type": "code",
   "execution_count": null,
   "metadata": {},
   "outputs": [],
   "source": [
    "### save files as pickle file  to projectome_finder#\n",
    "#to run set run=1\n",
    "run=0\n",
    "if run == 1:\n",
    "    import pickle\n",
    "    fh = open('/Users/nealarohner/Desktop/Projectome_Finder/code/Neala_Master_Thesis/DATA_dump.pkl', \"wb\")\n",
    "    pickle.dump(pData, fh)\n",
    "    fh.close()"
   ]
  },
  {
   "cell_type": "code",
   "execution_count": null,
   "metadata": {},
   "outputs": [],
   "source": [
    "### retrieve  dfSubject structured as pData  #\n",
    "#run the structure of the data before opening the pickle (wihtout creating an object)\n",
    "run =0\n",
    "if run ==1:\n",
    "    with open('DATA_Dump.pkl', 'rb') as handle:\n",
    "        pData = pickle.load(handle)\n"
   ]
  },
  {
   "cell_type": "code",
   "execution_count": null,
   "metadata": {},
   "outputs": [
    {
     "name": "stdout",
     "output_type": "stream",
     "text": [
      "Data of patientM012...\n",
      "You chose to see a specific muscle\n"
     ]
    },
    {
     "ename": "ValueError",
     "evalue": "invalid literal for int() with base 10: 'q'",
     "output_type": "error",
     "traceback": [
      "\u001b[0;31m---------------------------------------------------------------------------\u001b[0m",
      "\u001b[0;31mValueError\u001b[0m                                Traceback (most recent call last)",
      "\u001b[1;32m/Users/nealarohner/Desktop/Projectome_Finder/code/Neala_Master_Thesis/indroducing_classes_EMG_data_test.ipynb Cell 55\u001b[0m in \u001b[0;36m<cell line: 91>\u001b[0;34m()\u001b[0m\n\u001b[1;32m     <a href='vscode-notebook-cell:/Users/nealarohner/Desktop/Projectome_Finder/code/Neala_Master_Thesis/indroducing_classes_EMG_data_test.ipynb#Y104sZmlsZQ%3D%3D?line=88'>89</a>\u001b[0m x\u001b[39m=\u001b[39mEMG_Data_Dic(\u001b[39m\"\u001b[39m\u001b[39mM012\u001b[39m\u001b[39m\"\u001b[39m)\n\u001b[1;32m     <a href='vscode-notebook-cell:/Users/nealarohner/Desktop/Projectome_Finder/code/Neala_Master_Thesis/indroducing_classes_EMG_data_test.ipynb#Y104sZmlsZQ%3D%3D?line=89'>90</a>\u001b[0m \u001b[39m# x.print_Electrode()  \u001b[39;00m\n\u001b[0;32m---> <a href='vscode-notebook-cell:/Users/nealarohner/Desktop/Projectome_Finder/code/Neala_Master_Thesis/indroducing_classes_EMG_data_test.ipynb#Y104sZmlsZQ%3D%3D?line=90'>91</a>\u001b[0m x\u001b[39m.\u001b[39;49mprint_muscle()\n",
      "\u001b[1;32m/Users/nealarohner/Desktop/Projectome_Finder/code/Neala_Master_Thesis/indroducing_classes_EMG_data_test.ipynb Cell 55\u001b[0m in \u001b[0;36mEMG_Data_Dic.print_muscle\u001b[0;34m(self)\u001b[0m\n\u001b[1;32m     <a href='vscode-notebook-cell:/Users/nealarohner/Desktop/Projectome_Finder/code/Neala_Master_Thesis/indroducing_classes_EMG_data_test.ipynb#Y104sZmlsZQ%3D%3D?line=11'>12</a>\u001b[0m \u001b[39mprint\u001b[39m(\u001b[39m\"\u001b[39m\u001b[39mYou chose to see a specific muscle\u001b[39m\u001b[39m\"\u001b[39m)\n\u001b[1;32m     <a href='vscode-notebook-cell:/Users/nealarohner/Desktop/Projectome_Finder/code/Neala_Master_Thesis/indroducing_classes_EMG_data_test.ipynb#Y104sZmlsZQ%3D%3D?line=12'>13</a>\u001b[0m \u001b[39mglobal\u001b[39;00m list_muscle_or_other_elec_i\n\u001b[0;32m---> <a href='vscode-notebook-cell:/Users/nealarohner/Desktop/Projectome_Finder/code/Neala_Master_Thesis/indroducing_classes_EMG_data_test.ipynb#Y104sZmlsZQ%3D%3D?line=13'>14</a>\u001b[0m muscle_number\u001b[39m=\u001b[39m\u001b[39mint\u001b[39;49m(\u001b[39minput\u001b[39;49m(\u001b[39mf\u001b[39;49m\u001b[39m\"\u001b[39;49m\u001b[39m(Which muscle do you want to look at? For LST press 0, for RST 1 etc \u001b[39;49m\u001b[39m{\u001b[39;49;00mlist_muscle_or_other_elec_i[\u001b[39m0\u001b[39;49m:\u001b[39m-\u001b[39;49m\u001b[39m1\u001b[39;49m]\u001b[39m}\u001b[39;49;00m\u001b[39m\"\u001b[39;49m)) \u001b[39m# choose a muscle\u001b[39;00m\n\u001b[1;32m     <a href='vscode-notebook-cell:/Users/nealarohner/Desktop/Projectome_Finder/code/Neala_Master_Thesis/indroducing_classes_EMG_data_test.ipynb#Y104sZmlsZQ%3D%3D?line=14'>15</a>\u001b[0m muscle_chosen\u001b[39m=\u001b[39mlist_muscle_or_other_elec_i[muscle_number]\n\u001b[1;32m     <a href='vscode-notebook-cell:/Users/nealarohner/Desktop/Projectome_Finder/code/Neala_Master_Thesis/indroducing_classes_EMG_data_test.ipynb#Y104sZmlsZQ%3D%3D?line=15'>16</a>\u001b[0m \u001b[39mprint\u001b[39m(\u001b[39mf\u001b[39m\u001b[39m\"\u001b[39m\u001b[39myou chose Nr.\u001b[39m\u001b[39m{\u001b[39;00mmuscle_number\u001b[39m}\u001b[39;00m\u001b[39m and this is the \u001b[39m\u001b[39m{\u001b[39;00mmuscle_chosen\u001b[39m}\u001b[39;00m\u001b[39m muscle\u001b[39m\u001b[39m\"\u001b[39m)\n",
      "\u001b[0;31mValueError\u001b[0m: invalid literal for int() with base 10: 'q'"
     ]
    }
   ],
   "source": [
    "\n",
    "### Plot a specific muslce and electrode\n",
    "\n",
    "class EMG_Data_Dic:\n",
    "    def __init__(self, patient):\n",
    "        self.patient=patient\n",
    "        print(f\"Data of patient{self.patient}...\")\n",
    "        # self.print_muscle()\n",
    "\n",
    "    def print_muscle(self):\n",
    "        print(\"You chose to see a specific muscle\")\n",
    "        global list_muscle_or_other_elec_i\n",
    "        muscle_number=int(input(f\"(Which muscle do you want to look at? For LST press 0, for RST 1 etc {list_muscle_or_other_elec_i[0:-1]}\")) # choose a muscle\n",
    "        muscle_chosen=list_muscle_or_other_elec_i[muscle_number]\n",
    "        print(f\"you chose Nr.{muscle_number} and this is the {muscle_chosen} muscle\")\n",
    "        \n",
    "        solution= str(input(\"Do you want all Electrodes? of that muscle (y/n\"))\n",
    "        if solution == \"y\":\n",
    "            list_elecs = df_subject_no_empty['Elec_config'].unique()\n",
    "            n_list_elecs = len(list_elecs)\n",
    "            for i_elec in range(n_list_elecs):\n",
    "                elec_i = list_elecs[i_elec]\n",
    "                df_subject_no_empty_elec_i = df_subject_no_empty.where(df_subject_no_empty['Elec_config']==elec_i)\n",
    "                df_subject_no_empty_elec_i.dropna(inplace=True)\n",
    "                list_muscle_or_other_elec_i = df_subject_no_empty_elec_i['Muscle_or_other'].unique()\n",
    "                n_muscle_or_other_elec_i = len(list_muscle_or_other_elec_i)\n",
    "          \n",
    "                muscle_i_elec_i = list_muscle_or_other_elec_i[muscle_number]\n",
    "                df_subject_no_empty_elec_i_muscle_i = df_subject_no_empty_elec_i.where(df_subject_no_empty_elec_i['Muscle_or_other']==muscle_i_elec_i)\n",
    "                df_subject_no_empty_elec_i_muscle_i.dropna(inplace=True)\n",
    "                plot_trial_elec_i_muscle_i(df_subject_no_empty_elec_i_muscle_i,elec_i=elec_i, muscle_i_elec_i=muscle_i_elec_i, time_series_key=time_series_key,time_points_key=time_points_key,init_t_plot =init_t_plot ,end_t_plot =end_t_plot ,save_flag=save_flag,save_folder=save_folder)\n",
    "        else:\n",
    "            self.elec_number= int(input(f\"Which electrode do you want press nr to choose: 0 for Elec01, 1 for Elec02 etc.  {elec_names}\"))\n",
    "            #Now output the graphs \n",
    "            list_elecs = df_subject_no_empty['Elec_config'].unique()\n",
    "            n_list_elecs = len(list_elecs)\n",
    "            elec_i = list_elecs[self.elec_number]\n",
    "            df_subject_no_empty_elec_i = df_subject_no_empty.where(df_subject_no_empty['Elec_config']==elec_i)\n",
    "            df_subject_no_empty_elec_i.dropna(inplace=True)\n",
    "            list_muscle_or_other_elec_i = df_subject_no_empty_elec_i['Muscle_or_other'].unique()\n",
    "            n_muscle_or_other_elec_i = len(list_muscle_or_other_elec_i)\n",
    "            muscle_i_elec_i = list_muscle_or_other_elec_i[muscle_number]\n",
    "            df_subject_no_empty_elec_i_muscle_i = df_subject_no_empty_elec_i.where(df_subject_no_empty_elec_i['Muscle_or_other']==muscle_i_elec_i)\n",
    "            df_subject_no_empty_elec_i_muscle_i.dropna(inplace=True)\n",
    "            plot_trial_elec_i_muscle_i(df_subject_no_empty_elec_i_muscle_i,elec_i=elec_i, muscle_i_elec_i=muscle_i_elec_i, time_series_key=time_series_key,time_points_key=time_points_key,init_t_plot =init_t_plot ,end_t_plot =end_t_plot ,save_flag=save_flag,save_folder=save_folder)\n",
    "\n",
    "    def print_Electrode(self):\n",
    "        print(\"You chose to see a specific Electrode:\")\n",
    "        global list_muscle_or_other_elec_i, list_elecs\n",
    "        self.elec_number= int(input(f\"Which electrode do you want press nr to choose: {elec_names}\"))\n",
    "        solution=str(input(\"Do you want all muscles?(y/n)\"))\n",
    "        if solution == \"y\":\n",
    "            elec_i = list_elecs[self.elec_number]\n",
    "            df_subject_no_empty_elec_i = df_subject_no_empty.where(df_subject_no_empty['Elec_config']==elec_i)\n",
    "            df_subject_no_empty_elec_i.dropna(inplace=True)\n",
    "            list_muscle_or_other_elec_i = df_subject_no_empty_elec_i['Muscle_or_other'].unique()\n",
    "            n_muscle_or_other_elec_i = len(list_muscle_or_other_elec_i)\n",
    "            for i_muscle_or_other_elec_i in range(n_muscle_or_other_elec_i):\n",
    "                muscle_i_elec_i = list_muscle_or_other_elec_i[i_muscle_or_other_elec_i]\n",
    "                df_subject_no_empty_elec_i_muscle_i = df_subject_no_empty_elec_i.where(df_subject_no_empty_elec_i['Muscle_or_other']==muscle_i_elec_i)\n",
    "                df_subject_no_empty_elec_i_muscle_i.dropna(inplace=True)\n",
    "                plot_trial_elec_i_muscle_i(df_subject_no_empty_elec_i_muscle_i,elec_i=elec_i, muscle_i_elec_i=muscle_i_elec_i, time_series_key=time_series_key,time_points_key=time_points_key,init_t_plot =init_t_plot ,end_t_plot =end_t_plot ,save_flag=save_flag,save_folder=save_folder)\n",
    "\n",
    "        else:    \n",
    "            muscle_number=int(input(f\"(Which muscle do you want to look at? For LST press 0, for RST 1 etc {list_muscle_or_other_elec_i[0:-1]}\")) #input for muscle number\n",
    "            muscle_chosen=list_muscle_or_other_elec_i[muscle_number] #\n",
    "            print(f\"you chose Nr.{muscle_number} and this is the {muscle_chosen} muscle\")\n",
    "            print(type(muscle_number))\n",
    "            print(f\"type of electrode {type(self.elec_number)}\")\n",
    "            #Now output the graphs \n",
    "            list_elecs = df_subject_no_empty['Elec_config'].unique()\n",
    "            n_list_elecs = len(list_elecs)\n",
    "\n",
    "            elec_i = list_elecs[self.elec_number]\n",
    "            df_subject_no_empty_elec_i = df_subject_no_empty.where(df_subject_no_empty['Elec_config']==elec_i)\n",
    "            df_subject_no_empty_elec_i.dropna(inplace=True)\n",
    "            list_muscle_or_other_elec_i = df_subject_no_empty_elec_i['Muscle_or_other'].unique()\n",
    "            n_muscle_or_other_elec_i = len(list_muscle_or_other_elec_i)\n",
    "            muscle_i_elec_i = list_muscle_or_other_elec_i[muscle_number]\n",
    "            df_subject_no_empty_elec_i_muscle_i = df_subject_no_empty_elec_i.where(df_subject_no_empty_elec_i['Muscle_or_other']==muscle_i_elec_i)\n",
    "            df_subject_no_empty_elec_i_muscle_i.dropna(inplace=True)\n",
    "            plot_trial_elec_i_muscle_i(df_subject_no_empty_elec_i_muscle_i,elec_i=elec_i, muscle_i_elec_i=muscle_i_elec_i, time_series_key=time_series_key,time_points_key=time_points_key,init_t_plot =init_t_plot ,end_t_plot =end_t_plot ,save_flag=save_flag,save_folder=save_folder)\n",
    "\n",
    "\n",
    "   \n",
    "\n",
    "\n",
    "# x=EMG_Data_Dic(\"M012\")\n",
    "# x.print_Electrode()  \n",
    "# x.print_muscle()  "
   ]
  },
  {
   "cell_type": "markdown",
   "metadata": {},
   "source": [
    "# Plots"
   ]
  },
  {
   "cell_type": "markdown",
   "metadata": {},
   "source": [
    "## Single plots"
   ]
  },
  {
   "cell_type": "markdown",
   "metadata": {},
   "source": [
    "## Raw EMGs multiplots"
   ]
  },
  {
   "cell_type": "markdown",
   "metadata": {},
   "source": [
    "## Filter and plot the enveloppe"
   ]
  },
  {
   "cell_type": "markdown",
   "metadata": {},
   "source": [
    "## Plot the envelope of the filtered signal without the artefacts"
   ]
  },
  {
   "cell_type": "code",
   "execution_count": null,
   "metadata": {},
   "outputs": [],
   "source": []
  }
 ],
 "metadata": {
  "kernelspec": {
   "display_name": "Python 3.10.4 ('projectome_finder')",
   "language": "python",
   "name": "python3"
  },
  "language_info": {
   "codemirror_mode": {
    "name": "ipython",
    "version": 3
   },
   "file_extension": ".py",
   "mimetype": "text/x-python",
   "name": "python",
   "nbconvert_exporter": "python",
   "pygments_lexer": "ipython3",
   "version": "3.10.4"
  },
  "vscode": {
   "interpreter": {
    "hash": "f932c8e077b341d20504a7add15d58d55a3a6203500067dcddea991ea8b4378e"
   }
  }
 },
 "nbformat": 4,
 "nbformat_minor": 4
}
