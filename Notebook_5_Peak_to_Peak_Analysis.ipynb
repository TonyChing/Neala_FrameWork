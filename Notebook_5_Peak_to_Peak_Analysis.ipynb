{
 "cells": [
  {
   "cell_type": "code",
   "execution_count": 338,
   "metadata": {},
   "outputs": [],
   "source": [
    "import torch\n",
    "import numpy as np\n",
    "import matplotlib.pyplot as plt\n",
    "from scipy.io import loadmat\n",
    "from scipy.signal import butter, lfilter , filtfilt\n",
    "import pandas as pd\n",
    "import scipy as sp\n",
    "import os\n",
    "import sys\n",
    "import seaborn as sb \n",
    "from matplotlib import cm\n",
    "\n",
    "import biosppy.signals\n",
    "import pickle\n"
   ]
  },
  {
   "cell_type": "markdown",
   "metadata": {},
   "source": [
    "# Retrieve Data"
   ]
  },
  {
   "cell_type": "code",
   "execution_count": 336,
   "metadata": {},
   "outputs": [],
   "source": [
    "##  retrieve tensors ##\n",
    "file = open('tensor_dump.pkl', 'rb')\n",
    "raw_data_to_tensor = pickle.load(file)\n",
    "amplitude_data_to_tensor  = pickle.load(file)\n",
    "muscles_to_tensor = pickle.load(file)\n",
    "elecs_to_tensor = pickle.load(file)\n",
    "\n",
    "file.close()"
   ]
  },
  {
   "cell_type": "code",
   "execution_count": 337,
   "metadata": {},
   "outputs": [],
   "source": [
    "## retrieve muscle and elec names\n",
    "\n",
    "df_electrodes = pd.read_csv(\"df_electrodes.csv\")\n",
    "df_muscles= pd.read_csv(\"df_muscles.csv\")"
   ]
  },
  {
   "cell_type": "markdown",
   "metadata": {},
   "source": [
    "# Set Functions"
   ]
  },
  {
   "cell_type": "markdown",
   "metadata": {},
   "source": [
    "## Given a muscle name the data tensor and amplitudes tensor is returned"
   ]
  },
  {
   "cell_type": "code",
   "execution_count": null,
   "metadata": {},
   "outputs": [],
   "source": [
    "## Make a function that given a muscle name, returns the data tensor and amplitudes tensor related to this muscle. ##\n",
    "def return_data_for_muscle(muscle_name): # Input muscle_name Eg. \"Vlat\"\n",
    "\n",
    "    # get:\n",
    "    #raw data for specific muscle\n",
    "    #amplitdue data for specific muscle\n",
    "    #muscle_nr\n",
    "\n",
    "    muscle_nr=df_muscles.index.where(df_muscles.muscle_name==muscle_name).dropna().astype(int)[0]\n",
    "    data_tensor_muscle_i=raw_data_to_tensor[:,muscle_nr,:,:,:] #returns a tensor of size([16, 32, 11, 1404])\n",
    "    amplitude_tensor_muslce_i=amplitude_data_to_tensor[:, muscle_nr, :] #returns a tensor of size([16, 32])\n",
    "    print(f\"will return all raw data for {muscle_nr}: {muscle_name}, and the amplitude data\")\n",
    " \n",
    "    return(data_tensor_muscle_i, amplitude_tensor_muslce_i, muscle_nr) \n",
    "\n",
    "   "
   ]
  },
  {
   "cell_type": "code",
   "execution_count": null,
   "metadata": {},
   "outputs": [
    {
     "name": "stdout",
     "output_type": "stream",
     "text": [
      "will return all raw data for 12 :RRF, and the amplitude data\n",
      "tensor(nan)\n"
     ]
    }
   ],
   "source": [
    "## check definition\n",
    "data_tensor_muscle_i,amplitude_tensor_muslce_i =return_data_for_muscle(\"RRF\")\n",
    "# print(data_tensor_muscle_i.size())\n",
    "print(amplitude_tensor_muslce_i[0][0])\n",
    "# print(data_tensor_muscle_i[0]) #torch.Size([32, 11, 1404])"
   ]
  },
  {
   "cell_type": "markdown",
   "metadata": {},
   "source": [
    "## Given the muscle the maximum EMG value within the data is returned"
   ]
  },
  {
   "cell_type": "code",
   "execution_count": 318,
   "metadata": {},
   "outputs": [],
   "source": [
    "# Make a function that finds for each muscle the maximum EMG value within the data, \n",
    "# saves the indeces and plots the trial with max emg value\n",
    "\n",
    "def find_max_emg(muscle_name): # Input muscle_name Eg. \"Vlat\"\n",
    "    \n",
    "    # get:\n",
    "    #raw data for specific muscle\n",
    "    #amplitdue data for specific muscle\n",
    "    #elec, amp, trial_nr of max emg value\n",
    "    #max emg value\n",
    "    #plot of trial with max emg\n",
    "\n",
    "    elec_list=[]\n",
    "    max_list=[]\n",
    "    amp_index=[]\n",
    "    trial_index=[]\n",
    "    data_tensor_muscle_i, amplitude_tensor_muslce_i, muscle_nr =return_data_for_muscle(muscle_name)\n",
    "    for elec in range (len(amplitude_data_to_tensor[:, 0, 0])): #loop through all the elecs\n",
    "\n",
    "        # extract indeces where theres data for the amplitudes \n",
    "        df=pd.DataFrame(amplitude_tensor_muslce_i[elec, :])\n",
    "        df=df.notna()\n",
    "        idx_list=[]\n",
    "        for idx  in range(len(df[0])):\n",
    "            if df[0][idx] == True:\n",
    "                idx_list.append(idx) # List with indeces for notna\n",
    "\n",
    "        \n",
    " \n",
    "        for amp_ind in idx_list:\n",
    "            for trial in range(len(data_tensor_muscle_i[0, 0, :, 0])):\n",
    "                if torch.isnan(data_tensor_muscle_i[elec, amp_ind, trial, 0])==False:\n",
    "                    max=np.nanmax(data_tensor_muscle_i[elec, amp_ind, trial, :])\n",
    "\n",
    "                    \n",
    "                    max_list.append(max)\n",
    "                    elec_list.append(elec)\n",
    "                    amp_index.append(amp_ind)\n",
    "                    trial_index.append(trial)\n",
    "    \n",
    "    #Save all the info in a df\n",
    "    d = {'elec': elec_list, 'max_emg_value': max_list, \"amplitude_ind\": amp_index, \"trial_index\": trial_index}\n",
    "    df = pd.DataFrame(data=d)\n",
    "    \n",
    "   #Get the max emg value for the muscle, and indeces \n",
    "    max_value=np.max(df[\"max_emg_value\"])\n",
    "    ind = np.where(df[\"max_emg_value\"] == (np.max(df[\"max_emg_value\"])))\n",
    "    elec_of_max_value=df[\"elec\"].iloc[ind[0][0]]\n",
    "    amp_ind_max_value=df[\"amplitude_ind\"].iloc[ind[0][0]]\n",
    "    trial_ind_max_value=df[\"trial_index\"].iloc[ind[0][0]]\n",
    "    print(f\"For muscle({muscle_nr}) {muscle_name} max EMG Value:{max_value} with electrode {int(elec_of_max_value)}, amplitude: {int(amp_ind_max_value)} and trial_nr:{trial_ind_max_value}\")\n",
    "\n",
    "    #Plot the trial with max emg\n",
    "    plt.title(f\"For muscle ({muscle_nr}) {muscle_name}, max emg signal:{max_value} was found in electrode: {int(elec_of_max_value)}, amplitude: {int(amp_ind_max_value)} and trial: {trial_ind_max_value}\")\n",
    "    plt.xlabel(\"Time\")\n",
    "    plt.plot(data_tensor_muscle_i[elec_of_max_value,amp_ind_max_value,trial_ind_max_value,:])\n",
    "\n",
    "    return data_tensor_muscle_i,amplitude_tensor_muslce_i, int(elec_of_max_value), max_value, int(amp_ind_max_value)\n",
    "\n"
   ]
  },
  {
   "cell_type": "code",
   "execution_count": 339,
   "metadata": {},
   "outputs": [
    {
     "name": "stdout",
     "output_type": "stream",
     "text": [
      "will return all raw data for 12: RRF, and the amplitude data\n",
      "For muscle(12) RRF max EMG Value:3.583035469055176 with electrode 12, amplitude: 21 and trial_nr:4\n"
     ]
    },
    {
     "data": {
      "image/png": "[encoded data removed]",
      "text/plain": [
       "<Figure size 640x480 with 1 Axes>"
      ]
     },
     "metadata": {},
     "output_type": "display_data"
    }
   ],
   "source": [
    "## Check function\n",
    "data_tensor_muscle_i,amplitude_tensor_muslce_i, elec_of_max_value, max_value, amp_ind_max_value=find_max_emg(\"RRF\")\n",
    "\n"
   ]
  },
  {
   "cell_type": "markdown",
   "metadata": {},
   "source": [
    "## Make a function that receives a single EMG time series and computes its peak-to-peak time series."
   ]
  },
  {
   "cell_type": "code",
   "execution_count": 342,
   "metadata": {},
   "outputs": [
    {
     "data": {
      "text/plain": [
       "ReturnTuple(onsets=array([], dtype=int64))"
      ]
     },
     "execution_count": 342,
     "metadata": {},
     "output_type": "execute_result"
    }
   ],
   "source": [
    "# find window with emg values for a time series\n",
    "\n",
    "# Determine onsets of EMG pulses. # Skips corrupted signal parts.??\n",
    "\n",
    "# Parameters:\t\n",
    "# signal (array) – Input filtered EMG signal.\n",
    "# sampling_rate (int, float, optional) – Sampling frequency (Hz).\n",
    "# size (float, optional) – Detection window size (seconds).\n",
    "# threshold (float, optional) – Detection threshold.\n",
    "# Returns:\t\n",
    "# onsets (array) – Indices of EMG pulse onsets.\n",
    "\n",
    "# biosppy.signals.emg.find_onsets(signal=raw_data_to_tensor[12,12,21,4,:], sampling_rate=1000.0, size=0.25, threshold=None) \n",
    "biosppy.signals.emg.find_onsets(signal=raw_data_to_tensor[12,12,21,4,:]) \n"
   ]
  },
  {
   "cell_type": "code",
   "execution_count": 348,
   "metadata": {},
   "outputs": [
    {
     "data": {
      "text/plain": [
       "array([0.08238404, 0.0846118 , 0.08438362, ..., 1.0508273 , 0.90098244,\n",
       "              nan], dtype=float32)"
      ]
     },
     "execution_count": 348,
     "metadata": {},
     "output_type": "execute_result"
    }
   ],
   "source": [
    "np.array(raw_data_to_tensor[12,12,21,4,:])\n"
   ]
  },
  {
   "cell_type": "code",
   "execution_count": 355,
   "metadata": {},
   "outputs": [
    {
     "data": {
      "image/png": "[encoded data removed]",
      "text/plain": [
       "<Figure size 640x480 with 2 Axes>"
      ]
     },
     "metadata": {},
     "output_type": "display_data"
    },
    {
     "data": {
      "text/plain": [
       "ReturnTuple(ts=array([0.00000000e+00, 7.12250712e-04, 1.42450142e-03, ...,\n",
       "       9.97863248e-01, 9.98575499e-01, 9.99287749e-01]), filtered=array([nan, nan, nan, ..., nan, nan, nan]), onsets=array([], dtype=int64))"
      ]
     },
     "execution_count": 355,
     "metadata": {},
     "output_type": "execute_result"
    }
   ],
   "source": [
    "\n",
    "# Process a raw EMG signal and extract relevant signal features using default parameters. ??\n",
    "\n",
    "# Parameters:\t\n",
    "# signal (array) – Raw EMG signal.\n",
    "# sampling_rate (int, float, optional) – Sampling frequency (Hz).\n",
    "# show (bool, optional) – If True, show a summary plot.\n",
    "# Returns:\t\n",
    "# ts (array) – Signal time axis reference (seconds).\n",
    "# filtered (array) – Filtered EMG signal.\n",
    "# onsets (array) – Indices of EMG pulse onsets.\n",
    "\n",
    "\n",
    "biosppy.signals.emg.emg(signal=np.array(raw_data_to_tensor[12,12,21,4,:]), sampling_rate=1404, show=True)\n",
    "# biosppy.signals.emg.emg(signal=np.array(raw_data_to_tensor[12,12,21,4,:])) "
   ]
  },
  {
   "cell_type": "code",
   "execution_count": 361,
   "metadata": {},
   "outputs": [
    {
     "data": {
      "text/plain": [
       "array([ 5,  6,  7,  8,  9, 10, 11, 12, 13, 14, 15, 16, 17, 18, 19])"
      ]
     },
     "execution_count": 361,
     "metadata": {},
     "output_type": "execute_result"
    }
   ],
   "source": [
    "np.arange(5, 20)"
   ]
  },
  {
   "cell_type": "code",
   "execution_count": 366,
   "metadata": {},
   "outputs": [
    {
     "data": {
      "text/plain": [
       "[<matplotlib.lines.Line2D at 0x7febc44fa9e0>]"
      ]
     },
     "execution_count": 366,
     "metadata": {},
     "output_type": "execute_result"
    },
    {
     "data": {
      "image/png": "[encoded data removed]",
      "text/plain": [
       "<Figure size 640x480 with 1 Axes>"
      ]
     },
     "metadata": {},
     "output_type": "display_data"
    }
   ],
   "source": [
    "## Manually find how many TP are in a window\n",
    "    # for now take 100\n",
    "\n",
    "offset=1\n",
    "init_art=200\n",
    "end_art= 300\n",
    "time_array_original=np.arange(0,len(raw_data_to_tensor[12,12,21,4,:]))\n",
    "time_array_artifact=np.arange(init_art, end_art)\n",
    "time_array = np.arange(1,1404+1)\n",
    "plt.plot(time_array_original, np.array(raw_data_to_tensor[12,12,21,4,:])+offset)\n",
    "plt.plot(time_array_artifact, np.array(raw_data_to_tensor[12,12,21,4,:][init_art:end_art ]))"
   ]
  },
  {
   "cell_type": "code",
   "execution_count": 393,
   "metadata": {},
   "outputs": [
    {
     "data": {
      "text/plain": [
       "100"
      ]
     },
     "execution_count": 393,
     "metadata": {},
     "output_type": "execute_result"
    }
   ],
   "source": [
    "# raw_data_to_tensor[12,12,21,4,:][0:20]\n",
    "len(time_series_in_trial[13])\n",
    "# 20 0.1060,"
   ]
  },
  {
   "cell_type": "code",
   "execution_count": 391,
   "metadata": {},
   "outputs": [
    {
     "name": "stdout",
     "output_type": "stream",
     "text": [
      "[tensor([ 8.2384e-02,  8.4612e-02,  8.4384e-02,  8.9103e-02,  9.0417e-02,\n",
      "         9.4288e-02,  9.4202e-02,  9.5657e-02,  9.6946e-02,  1.0071e-01,\n",
      "         1.0433e-01,  1.0646e-01,  1.0659e-01,  1.0579e-01,  1.0514e-01,\n",
      "         1.0493e-01,  1.0521e-01,  1.0592e-01,  1.0655e-01,  1.0655e-01,\n",
      "         1.0604e-01,  1.0572e-01,  1.0613e-01,  1.0723e-01,  1.0835e-01,\n",
      "         1.0863e-01,  1.0787e-01,  1.0685e-01,  1.0616e-01,  1.0538e-01,\n",
      "         1.0407e-01,  1.0307e-01,  1.0323e-01,  1.0378e-01,  1.0309e-01,\n",
      "         1.0079e-01,  9.8092e-02,  9.6260e-02,  9.5295e-02,  9.4277e-02,\n",
      "         9.2670e-02,  9.0862e-02,  8.9320e-02,  8.7771e-02,  8.5742e-02,\n",
      "         8.3524e-02,  8.1841e-02,  8.0727e-02,  7.9470e-02,  7.7556e-02,\n",
      "         7.5003e-02,  7.2090e-02,  6.9291e-02,  6.7032e-02,  6.5132e-02,\n",
      "         6.2957e-02,  6.0376e-02,  5.7935e-02,  5.6036e-02,  5.4247e-02,\n",
      "         5.1840e-02,  4.8884e-02,  4.6342e-02,  4.4868e-02,  4.3977e-02,\n",
      "         4.2713e-02,  4.0736e-02,  3.8386e-02,  3.6033e-02,  3.3818e-02,\n",
      "         3.1811e-02,  3.0067e-02,  2.8463e-02,  2.6590e-02,  2.4104e-02,\n",
      "         2.1339e-02,  1.9122e-02,  1.7738e-02,  1.6672e-02,  1.5458e-02,\n",
      "         1.3912e-02,  1.1618e-02,  8.3584e-03,  5.0292e-03,  2.8175e-03,\n",
      "         1.6876e-03,  8.3980e-04,  5.3936e-05, -6.6823e-04, -1.9045e-03,\n",
      "        -4.0140e-03, -6.4051e-03, -8.4261e-03, -1.0026e-02, -1.1166e-02,\n",
      "        -1.1780e-02, -1.2505e-02, -1.4209e-02, -1.6606e-02, -1.8422e-02]), tensor([-0.0191, -0.0192, -0.0196, -0.0201, -0.0205, -0.0211, -0.0223, -0.0234,\n",
      "        -0.0236, -0.0233, -0.0239, -0.0259, -0.0279, -0.0283, -0.0273, -0.0269,\n",
      "        -0.0282, -0.0304, -0.0319, -0.0320, -0.0311, -0.0306, -0.0312, -0.0325,\n",
      "        -0.0329, -0.0322, -0.0316, -0.0323, -0.0337, -0.0345, -0.0339, -0.0323,\n",
      "        -0.0305, -0.0296, -0.0299, -0.0307, -0.0311, -0.0305, -0.0292, -0.0279,\n",
      "        -0.0272, -0.0273, -0.0277, -0.0281, -0.0282, -0.0281, -0.0277, -0.0271,\n",
      "        -0.0262, -0.0252, -0.0240, -0.0230, -0.0230, -0.0239, -0.0245, -0.0240,\n",
      "        -0.0226, -0.0213, -0.0206, -0.0199, -0.0191, -0.0186, -0.0185, -0.0184,\n",
      "        -0.0179, -0.0170, -0.0161, -0.0152, -0.0144, -0.0144, -0.0147, -0.0146,\n",
      "        -0.0133, -0.0114, -0.0099, -0.0092, -0.0089, -0.0084, -0.0077, -0.0070,\n",
      "        -0.0060, -0.0048, -0.0041, -0.0041, -0.0043, -0.0037, -0.0021, -0.0009,\n",
      "        -0.0006, -0.0008, -0.0006,  0.0004,  0.0013,  0.0011,  0.0009,  0.0022,\n",
      "         0.0034,  0.0016, -0.0015,  0.0005]), tensor([ 8.4635e-03,  1.4819e-02,  1.3544e-02,  8.0205e-03,  5.0596e-03,\n",
      "         6.3935e-03,  8.9362e-03,  9.8876e-03,  9.5102e-03,  9.7969e-03,\n",
      "         1.0460e-02,  8.5180e-03,  5.7347e-03,  1.0033e-02,  1.8394e-02,\n",
      "         1.3299e-02,  9.3551e-03,  8.8384e-02,  3.1806e-01,  6.1710e-01,\n",
      "         7.7862e-01,  6.7906e-01,  4.1295e-01,  1.7801e-01,  7.5251e-02,\n",
      "         6.5563e-02,  7.2673e-02,  5.8848e-02,  7.1455e-03, -1.0662e-01,\n",
      "        -2.8428e-01, -4.6491e-01, -5.5491e-01, -5.1412e-01, -3.9615e-01,\n",
      "        -2.9472e-01, -2.6461e-01, -2.9879e-01, -3.5685e-01, -3.9585e-01,\n",
      "        -3.8789e-01, -3.3108e-01, -2.4808e-01, -1.6736e-01, -1.0415e-01,\n",
      "        -5.8401e-02, -2.4826e-02, -4.4837e-04,  1.5884e-02,  2.6509e-02,\n",
      "         3.4806e-02,  4.2439e-02,  4.8303e-02,  5.0920e-02,  5.1084e-02,\n",
      "         5.1218e-02,  5.2715e-02,  5.5172e-02,  5.7929e-02,  6.0916e-02,\n",
      "         6.4011e-02,  6.6931e-02,  6.9886e-02,  7.3292e-02,  7.6750e-02,\n",
      "         7.9127e-02,  7.9752e-02,  7.9154e-02,  7.8682e-02,  7.9285e-02,\n",
      "         8.0393e-02,  8.0422e-02,  7.8876e-02,  7.7017e-02,  7.5854e-02,\n",
      "         7.4667e-02,  7.2519e-02,  6.9927e-02,  6.7833e-02,  6.6002e-02,\n",
      "         6.3595e-02,  6.0588e-02,  5.7700e-02,  5.5378e-02,  5.3400e-02,\n",
      "         5.1303e-02,  4.8919e-02,  4.6473e-02,  4.4005e-02,  4.0967e-02,\n",
      "         3.7115e-02,  3.3535e-02,  3.1607e-02,  3.1082e-02,  3.0382e-02,\n",
      "         2.8604e-02,  2.6051e-02,  2.3140e-02,  2.0059e-02,  1.7405e-02]), tensor([ 0.0159,  0.0152,  0.0143,  0.0127,  0.0105,  0.0082,  0.0055,  0.0027,\n",
      "         0.0004, -0.0008, -0.0015, -0.0023, -0.0036, -0.0052, -0.0069, -0.0090,\n",
      "        -0.0114, -0.0133, -0.0142, -0.0147, -0.0154, -0.0158, -0.0155, -0.0151,\n",
      "        -0.0156, -0.0162, -0.0159, -0.0150, -0.0150, -0.0160, -0.0172, -0.0175,\n",
      "        -0.0171, -0.0171, -0.0177, -0.0178, -0.0168, -0.0153, -0.0148, -0.0156,\n",
      "        -0.0167, -0.0169, -0.0158, -0.0149, -0.0152, -0.0160, -0.0154, -0.0131,\n",
      "        -0.0110, -0.0113, -0.0131, -0.0145, -0.0144, -0.0133, -0.0123, -0.0121,\n",
      "        -0.0127, -0.0133, -0.0129, -0.0117, -0.0109, -0.0111, -0.0113, -0.0105,\n",
      "        -0.0089, -0.0077, -0.0074, -0.0080, -0.0088, -0.0090, -0.0081, -0.0066,\n",
      "        -0.0055, -0.0054, -0.0057, -0.0057, -0.0053, -0.0048, -0.0048, -0.0049,\n",
      "        -0.0046, -0.0041, -0.0041, -0.0043, -0.0039, -0.0025, -0.0016, -0.0019,\n",
      "        -0.0024, -0.0011,  0.0016,  0.0036,  0.0039,  0.0035,  0.0031,  0.0027,\n",
      "         0.0019,  0.0010,  0.0003, -0.0005]), tensor([-0.0016, -0.0024, -0.0026, -0.0020, -0.0010, -0.0004, -0.0007, -0.0015,\n",
      "        -0.0023, -0.0025, -0.0025, -0.0027, -0.0035, -0.0050, -0.0065, -0.0069,\n",
      "        -0.0059, -0.0046, -0.0042, -0.0046, -0.0050, -0.0056, -0.0061, -0.0061,\n",
      "        -0.0051, -0.0038, -0.0035, -0.0040, -0.0048, -0.0055, -0.0060, -0.0062,\n",
      "        -0.0061, -0.0062, -0.0069, -0.0075, -0.0066, -0.0044, -0.0031, -0.0037,\n",
      "        -0.0052, -0.0059, -0.0060, -0.0064, -0.0064, -0.0050, -0.0028, -0.0017,\n",
      "        -0.0021, -0.0025, -0.0020, -0.0015, -0.0023, -0.0037, -0.0042, -0.0037,\n",
      "        -0.0025, -0.0012, -0.0002, -0.0003, -0.0011, -0.0016, -0.0014, -0.0011,\n",
      "        -0.0009,  0.0001,  0.0021,  0.0036,  0.0036,  0.0021,  0.0006,  0.0004,\n",
      "         0.0020,  0.0039,  0.0043,  0.0032,  0.0033,  0.0057,  0.0086,  0.0095,\n",
      "         0.0083,  0.0068,  0.0064,  0.0074,  0.0089,  0.0097,  0.0095,  0.0092,\n",
      "         0.0098,  0.0112,  0.0128,  0.0139,  0.0140,  0.0132,  0.0125,  0.0131,\n",
      "         0.0148,  0.0162,  0.0165,  0.0160]), tensor([ 0.0152,  0.0151,  0.0158,  0.0166,  0.0165,  0.0154,  0.0149,  0.0156,\n",
      "         0.0169,  0.0179,  0.0183,  0.0181,  0.0179,  0.0180,  0.0189,  0.0204,\n",
      "         0.0219,  0.0230,  0.0231,  0.0226,  0.0221,  0.0218,  0.0218,  0.0221,\n",
      "         0.0225,  0.0227,  0.0222,  0.0211,  0.0206,  0.0214,  0.0226,  0.0229,\n",
      "         0.0224,  0.0222,  0.0224,  0.0225,  0.0219,  0.0210,  0.0204,  0.0205,\n",
      "         0.0216,  0.0231,  0.0238,  0.0231,  0.0216,  0.0201,  0.0189,  0.0180,\n",
      "         0.0177,  0.0178,  0.0176,  0.0168,  0.0164,  0.0165,  0.0164,  0.0153,\n",
      "         0.0143,  0.0146,  0.0156,  0.0156,  0.0143,  0.0126,  0.0113,  0.0106,\n",
      "         0.0102,  0.0099,  0.0094,  0.0078,  0.0053,  0.0032,  0.0023,  0.0020,\n",
      "         0.0011, -0.0005, -0.0022, -0.0031, -0.0030, -0.0029, -0.0039, -0.0060,\n",
      "        -0.0076, -0.0077, -0.0074, -0.0084, -0.0106, -0.0124, -0.0134, -0.0148,\n",
      "        -0.0177, -0.0210, -0.0232, -0.0242, -0.0246, -0.0249, -0.0258, -0.0276,\n",
      "        -0.0299, -0.0316, -0.0319, -0.0324]), tensor([-0.0346, -0.0381, -0.0409, -0.0419, -0.0420, -0.0428, -0.0449, -0.0479,\n",
      "        -0.0510, -0.0533, -0.0546, -0.0559, -0.0578, -0.0594, -0.0601, -0.0605,\n",
      "        -0.0619, -0.0646, -0.0672, -0.0688, -0.0696, -0.0702, -0.0708, -0.0721,\n",
      "        -0.0745, -0.0773, -0.0796, -0.0810, -0.0822, -0.0831, -0.0834, -0.0833,\n",
      "        -0.0835, -0.0836, -0.0835, -0.0837, -0.0846, -0.0858, -0.0864, -0.0863,\n",
      "        -0.0861, -0.0865, -0.0878, -0.0894, -0.0902, -0.0894, -0.0878, -0.0872,\n",
      "        -0.0878, -0.0878, -0.0864, -0.0845, -0.0830, -0.0821, -0.0817, -0.0813,\n",
      "        -0.0803, -0.0783, -0.0757, -0.0732, -0.0709, -0.0688, -0.0670, -0.0656,\n",
      "        -0.0640, -0.0617, -0.0592, -0.0564, -0.0533, -0.0497, -0.0465, -0.0443,\n",
      "        -0.0421, -0.0389, -0.0346, -0.0307, -0.0276, -0.0248, -0.0211, -0.0165,\n",
      "        -0.0121, -0.0084, -0.0049, -0.0007,  0.0040,  0.0084,  0.0127,  0.0174,\n",
      "         0.0225,  0.0274,  0.0320,  0.0371,  0.0429,  0.0486,  0.0537,  0.0590,\n",
      "         0.0652,  0.0722,  0.0789,  0.0848]), tensor([ 0.0897,  0.0942,  0.0994,  0.1063,  0.1143,  0.1216,  0.1274,  0.1331,\n",
      "         0.1400,  0.1476,  0.1545,  0.1603,  0.1660,  0.1726,  0.1795,  0.1853,\n",
      "         0.1900,  0.1947,  0.2002,  0.2064,  0.2128,  0.2193,  0.2257,  0.2316,\n",
      "         0.2371,  0.2427,  0.2488,  0.2551,  0.2608,  0.2653,  0.2693,  0.2738,\n",
      "         0.2793,  0.2845,  0.2884,  0.2916,  0.2955,  0.3002,  0.3052,  0.3098,\n",
      "         0.3139,  0.3175,  0.3202,  0.3218,  0.3225,  0.3228,  0.3234,  0.3240,\n",
      "         0.3248,  0.3261,  0.3278,  0.3289,  0.3290,  0.3290,  0.3293,  0.3294,\n",
      "         0.3283,  0.3258,  0.3230,  0.3212,  0.3205,  0.3196,  0.3168,  0.3118,\n",
      "         0.3058,  0.3006,  0.2965,  0.2921,  0.2866,  0.2803,  0.2739,  0.2670,\n",
      "         0.2593,  0.2515,  0.2436,  0.2352,  0.2266,  0.2182,  0.2093,  0.1987,\n",
      "         0.1866,  0.1744,  0.1630,  0.1523,  0.1414,  0.1296,  0.1166,  0.1025,\n",
      "         0.0877,  0.0724,  0.0568,  0.0415,  0.0263,  0.0110, -0.0051, -0.0216,\n",
      "        -0.0384, -0.0557, -0.0734, -0.0910]), tensor([-0.1088, -0.1271, -0.1459, -0.1642, -0.1820, -0.2002, -0.2195, -0.2396,\n",
      "        -0.2599, -0.2802, -0.3004, -0.3202, -0.3397, -0.3594, -0.3797, -0.4004,\n",
      "        -0.4210, -0.4413, -0.4616, -0.4823, -0.5034, -0.5243, -0.5446, -0.5641,\n",
      "        -0.5832, -0.6025, -0.6219, -0.6407, -0.6585, -0.6758, -0.6937, -0.7124,\n",
      "        -0.7309, -0.7480, -0.7639, -0.7798, -0.7963, -0.8125, -0.8275, -0.8413,\n",
      "        -0.8553, -0.8692, -0.8813, -0.8912, -0.9006, -0.9108, -0.9209, -0.9296,\n",
      "        -0.9369, -0.9438, -0.9503, -0.9552, -0.9580, -0.9597, -0.9613, -0.9626,\n",
      "        -0.9624, -0.9603, -0.9569, -0.9529, -0.9482, -0.9421, -0.9343, -0.9249,\n",
      "        -0.9143, -0.9031, -0.8907, -0.8765, -0.8603, -0.8428, -0.8249, -0.8057,\n",
      "        -0.7834, -0.7582, -0.7317, -0.7057, -0.6801, -0.6532, -0.6242, -0.5931,\n",
      "        -0.5604, -0.5258, -0.4889, -0.4501, -0.4101, -0.3691, -0.3267, -0.2827,\n",
      "        -0.2372, -0.1902, -0.1413, -0.0907, -0.0384,  0.0157,  0.0708,  0.1259,\n",
      "         0.1810,  0.2382,  0.2985,  0.3609]), tensor([ 0.4235,  0.4861,  0.5498,  0.6149,  0.6805,  0.7461,  0.8125,  0.8804,\n",
      "         0.9494,  1.0187,  1.0885,  1.1592,  1.2307,  1.3028,  1.3755,  1.4484,\n",
      "         1.5206,  1.5918,  1.6631,  1.7350,  1.8069,  1.8785,  1.9497,  2.0202,\n",
      "         2.0890,  2.1561,  2.2222,  2.2877,  2.3520,  2.4152,  2.4776,  2.5388,\n",
      "         2.5976,  2.6540,  2.7074,  2.7574,  2.8065,  2.8568,  2.9012,  2.9327,\n",
      "         2.9663,  3.0188,  3.0581,  3.0446,  3.0450,  3.1462,  3.2041,  3.0314,\n",
      "         2.9390,  3.3515,  3.5830,  2.2514, -0.4684, -2.5695, -2.8983, -2.4305,\n",
      "        -2.3633, -2.6302, -2.7378, -2.7047, -2.7576, -2.8867, -2.9848, -3.0586,\n",
      "        -3.1644, -3.2977, -3.4214, -3.5420, -3.7016, -3.8887, -4.0295, -4.1529,\n",
      "        -4.4011, -4.7291, -4.8156, -4.7626, -5.3327, -6.1678, -5.4944, -1.5379,\n",
      "         0.8966,  0.9895,  1.0205,  0.9862,  1.0131,  0.9955,  1.0063,  1.0014,\n",
      "         1.0041,  1.0033,  0.9997,  0.9998,  0.9998,  0.9999,  1.0000,  1.0001,\n",
      "         1.0002,  1.0003,  1.0004,  1.0005]), tensor([1.0007, 1.0005, 1.0004, 1.0003, 1.0002, 1.0001, 1.0000, 0.9999, 0.9998,\n",
      "        0.9998, 0.9997, 0.9997, 0.9997, 0.9996, 0.9996, 0.9997, 0.9997, 0.9997,\n",
      "        0.9998, 0.9998, 0.9999, 1.0000, 1.0001, 1.0002, 1.0003, 1.0004, 1.0005,\n",
      "        1.0007, 1.0005, 1.0004, 1.0003, 1.0002, 1.0001, 1.0000, 0.9999, 0.9998,\n",
      "        0.9998, 0.9997, 0.9997, 0.9997, 0.9996, 0.9996, 0.9997, 0.9997, 0.9997,\n",
      "        0.9998, 0.9998, 0.9999, 1.0000, 1.0001, 1.0002, 1.0003, 1.0004, 1.0005,\n",
      "        1.0007, 1.0005, 1.0004, 1.0003, 1.0002, 1.0001, 1.0000, 0.9999, 0.9998,\n",
      "        0.9998, 0.9997, 0.9997, 0.9997, 0.9996, 0.9996, 0.9997, 0.9997, 0.9997,\n",
      "        0.9998, 0.9998, 0.9999, 1.0000, 1.0001, 1.0002, 1.0003, 1.0004, 1.0005,\n",
      "        1.0007, 1.0006, 1.0004, 1.0003, 1.0002, 1.0001, 1.0000, 0.9999, 0.9998,\n",
      "        0.9998, 0.9997, 0.9997, 0.9997, 0.9996, 0.9996, 0.9997, 0.9997, 0.9997,\n",
      "        0.9998]), tensor([0.9998, 0.9999, 1.0000, 1.0001, 1.0002, 1.0003, 1.0004, 1.0005, 1.0007,\n",
      "        1.0006, 1.0004, 1.0003, 1.0002, 1.0001, 1.0000, 0.9999, 0.9998, 0.9998,\n",
      "        0.9997, 0.9997, 0.9997, 0.9996, 0.9996, 0.9997, 0.9997, 0.9997, 0.9998,\n",
      "        0.9998, 0.9999, 1.0000, 1.0001, 1.0002, 1.0003, 1.0004, 1.0005, 1.0007,\n",
      "        1.0006, 1.0004, 1.0003, 1.0002, 1.0001, 1.0000, 0.9999, 0.9998, 0.9998,\n",
      "        0.9997, 0.9997, 0.9997, 0.9996, 0.9996, 0.9997, 0.9997, 0.9997, 0.9998,\n",
      "        0.9998, 0.9999, 1.0000, 1.0001, 1.0002, 1.0003, 1.0004, 1.0005, 1.0007,\n",
      "        1.0006, 1.0004, 1.0003, 1.0002, 1.0001, 1.0000, 0.9999, 0.9998, 0.9998,\n",
      "        0.9997, 0.9997, 0.9997, 0.9996, 0.9996, 0.9997, 0.9997, 0.9997, 0.9998,\n",
      "        0.9998, 0.9999, 1.0000, 1.0001, 1.0002, 1.0003, 1.0004, 1.0005, 1.0006,\n",
      "        1.0006, 1.0004, 1.0003, 1.0002, 1.0001, 1.0000, 0.9999, 0.9998, 0.9998,\n",
      "        0.9997]), tensor([0.9997, 0.9997, 0.9996, 0.9996, 0.9997, 0.9997, 0.9997, 0.9998, 0.9998,\n",
      "        0.9999, 1.0000, 1.0001, 1.0002, 1.0003, 1.0004, 1.0005, 1.0006, 1.0006,\n",
      "        1.0004, 1.0003, 1.0002, 1.0001, 1.0000, 0.9999, 0.9998, 0.9998, 0.9997,\n",
      "        0.9997, 0.9997, 0.9996, 0.9996, 0.9997, 0.9997, 0.9997, 0.9998, 0.9998,\n",
      "        0.9999, 1.0000, 1.0001, 1.0002, 1.0003, 1.0004, 1.0005, 1.0006, 1.0006,\n",
      "        1.0004, 1.0003, 1.0002, 1.0001, 1.0000, 0.9999, 0.9998, 0.9998, 0.9997,\n",
      "        0.9997, 0.9997, 0.9996, 0.9996, 0.9996, 0.9997, 0.9997, 0.9998, 0.9998,\n",
      "        0.9999, 1.0000, 1.0001, 1.0002, 1.0003, 1.0004, 1.0005, 1.0006, 1.0006,\n",
      "        1.0004, 1.0003, 1.0002, 1.0001, 1.0000, 0.9999, 0.9998, 0.9998, 0.9997,\n",
      "        0.9997, 0.9997, 0.9996, 0.9996, 0.9996, 0.9997, 0.9997, 0.9998, 0.9998,\n",
      "        0.9999, 1.0000, 1.0000, 1.0001, 1.0003, 1.0004, 1.0005, 1.0006, 1.0006,\n",
      "        1.0005]), tensor([1.0003, 1.0002, 1.0001, 1.0000, 0.9999, 0.9998, 0.9998, 0.9997, 0.9997,\n",
      "        0.9997, 0.9996, 0.9996, 0.9996, 0.9997, 0.9997, 0.9997, 0.9998, 0.9999,\n",
      "        1.0000, 1.0000, 1.0001, 1.0003, 1.0004, 1.0005, 1.0006, 1.0006, 1.0005,\n",
      "        1.0003, 1.0002, 1.0001, 1.0000, 0.9999, 0.9998, 0.9998, 0.9997, 0.9997,\n",
      "        0.9997, 0.9996, 0.9996, 0.9996, 0.9997, 0.9997, 0.9997, 0.9998, 0.9999,\n",
      "        1.0000, 1.0000, 1.0001, 1.0003, 1.0004, 1.0005, 1.0006, 1.0006, 1.0005,\n",
      "        1.0003, 1.0002, 1.0001, 1.0000, 0.9999, 0.9999, 0.9998, 0.9997, 0.9997,\n",
      "        0.9997, 0.9996, 0.9996, 0.9996, 0.9997, 0.9997, 0.9997, 0.9998, 0.9999,\n",
      "        1.0000, 1.0000, 1.0001, 1.0003, 1.0004, 1.0005, 1.0006, 1.0006, 1.0005,\n",
      "        1.0003, 1.0002, 1.0001, 1.0000, 0.9999, 0.9999, 0.9998, 0.9997, 0.9997,\n",
      "        0.9997, 0.9996, 0.9996, 1.0016, 0.9970, 1.0057, 0.9912, 1.0132, 0.9817,\n",
      "        1.0254])]\n"
     ]
    }
   ],
   "source": [
    "## 1.For one trial reorganise it into different windows\n",
    "## 2.For every window find max pos and min neg\n",
    "    #evt plot?\n",
    "# get peak to peak value for every window\n",
    "#restructure it into a fct.\n",
    "\n",
    "tp_array=100 #amounts of timepoints in one array\n",
    "total_time_serie=len(raw_data_to_tensor[12,12,21,4,:])\n",
    "arrays_per_trial= total_time_serie//tp_array\n",
    "time_series_in_trial= [0]*arrays_per_trial\n",
    "t=0\n",
    "for i in range(arrays_per_trial):\n",
    "    \n",
    "    time_series_in_trial[i]= raw_data_to_tensor[12,12,21,4,:][t:t+100] #not sure if it goes to hundred\n",
    "    t+=100\n",
    "print(time_series_in_trial)\n"
   ]
  },
  {
   "cell_type": "code",
   "execution_count": null,
   "metadata": {},
   "outputs": [],
   "source": [
    "#4. Make a function that receives a single EMG time series and computes its peak-to-peak time series.\n",
    "def find_max_emg():\n",
    "    print(\"Hello from a function\")"
   ]
  },
  {
   "cell_type": "markdown",
   "metadata": {},
   "source": [
    "# Run analysis"
   ]
  }
 ],
 "metadata": {
  "kernelspec": {
   "display_name": "Python 3.10.4 ('projectome_finder')",
   "language": "python",
   "name": "python3"
  },
  "language_info": {
   "codemirror_mode": {
    "name": "ipython",
    "version": 3
   },
   "file_extension": ".py",
   "mimetype": "text/x-python",
   "name": "python",
   "nbconvert_exporter": "python",
   "pygments_lexer": "ipython3",
   "version": "3.10.4"
  },
  "orig_nbformat": 4,
  "vscode": {
   "interpreter": {
    "hash": "f932c8e077b341d20504a7add15d58d55a3a6203500067dcddea991ea8b4378e"
   }
  }
 },
 "nbformat": 4,
 "nbformat_minor": 2
}
