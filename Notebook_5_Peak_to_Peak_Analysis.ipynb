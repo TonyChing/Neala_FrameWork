{
 "cells": [
  {
   "cell_type": "code",
   "execution_count": 57,
   "metadata": {},
   "outputs": [],
   "source": [
    "import torch\n",
    "import numpy as np\n",
    "import matplotlib.pyplot as plt\n",
    "from scipy.io import loadmat\n",
    "from scipy.signal import butter, lfilter , filtfilt\n",
    "import pandas as pd\n",
    "import scipy as sp\n",
    "import os\n",
    "import sys\n",
    "import seaborn as sb \n",
    "from matplotlib import cm\n",
    "\n",
    "import biosppy.signals\n",
    "import pickle\n"
   ]
  },
  {
   "cell_type": "markdown",
   "metadata": {},
   "source": [
    "# Retrieve Data"
   ]
  },
  {
   "cell_type": "code",
   "execution_count": 6,
   "metadata": {},
   "outputs": [],
   "source": [
    "##  retrieve tensors ##\n",
    "file = open('tensor_dump.pkl', 'rb')\n",
    "raw_data_to_tensor = pickle.load(file)\n",
    "amplitude_data_to_tensor  = pickle.load(file)\n",
    "muscles_to_tensor = pickle.load(file)\n",
    "elecs_to_tensor = pickle.load(file)\n",
    "\n",
    "file.close()"
   ]
  },
  {
   "cell_type": "code",
   "execution_count": 7,
   "metadata": {},
   "outputs": [],
   "source": [
    "## retrieve muscle and elec names\n",
    "\n",
    "df_electrodes = pd.read_csv(\"df_electrodes.csv\")\n",
    "df_muscles= pd.read_csv(\"df_muscles.csv\")"
   ]
  },
  {
   "cell_type": "markdown",
   "metadata": {},
   "source": [
    "# Set Functions"
   ]
  },
  {
   "cell_type": "markdown",
   "metadata": {},
   "source": [
    "## Take muscle name and get the muscle nr, data tensor, amplitudes tensor and max EMG value"
   ]
  },
  {
   "cell_type": "markdown",
   "metadata": {},
   "source": [
    "### Get the index nr for a muscle"
   ]
  },
  {
   "cell_type": "code",
   "execution_count": 195,
   "metadata": {},
   "outputs": [],
   "source": [
    "def get_nr_for_muscle(muscle_name, df_muscles): # Input muscle_name Eg. \"RRF\"\n",
    "    \"\"\"\n",
    "    Get index number of a muscle\n",
    "    \n",
    "    Parameters:\n",
    "    - muscle_name String the name of the muscle \n",
    "    - df_muscle pandas df of the muscles and indeces\n",
    "    \n",
    "    Returns:\n",
    "    - muscle_nr int index of the muscle\n",
    "    \"\"\"\n",
    "    print(\"function 'get_nr_for_muscle' has been called\")\n",
    "    muscle_nr=df_muscles.index.where(df_muscles.muscle_name==muscle_name).dropna().astype(int)[0]\n",
    "    print(f\"For muscle name: {muscle_name} the index number is: {muscle_nr} \")\n",
    " \n",
    "    return int(muscle_nr)"
   ]
  },
  {
   "cell_type": "code",
   "execution_count": 196,
   "metadata": {},
   "outputs": [
    {
     "name": "stdout",
     "output_type": "stream",
     "text": [
      "function 'get_nr_for_muscle' has been called\n",
      "For muscle name: RRF the index number is: 12 \n"
     ]
    }
   ],
   "source": [
    "muscle_nr=get_nr_for_muscle(\"RRF\", df_muscles)# Input muscle_name Eg. \"Vlat\""
   ]
  },
  {
   "cell_type": "markdown",
   "metadata": {},
   "source": [
    "### Get the raw data for a muscle"
   ]
  },
  {
   "cell_type": "code",
   "execution_count": 197,
   "metadata": {},
   "outputs": [],
   "source": [
    "def get_raw_data_for_muscle(muscle_name, df_muscles, raw_data_to_tensor): # Input muscle_name Eg. \"Vlat\"\n",
    "    \"\"\"\n",
    "    Get raw data tensor\n",
    "\n",
    "    Parameters:\n",
    "    - muscle_name String the name of the muscle \n",
    "    - df_muscle pandas df of the muscles and indeces\n",
    "    - raw_data_to_tensor 5D tensor all the raw data of all the muscles\n",
    "    Returns:\n",
    "    - data_tensor_muscle_i 4D tensor with the raw data for the muscle\n",
    "\n",
    "    \"\"\"\n",
    "    print(\"function 'get_raw_data_for_muscle' has been called\")\n",
    "    muscle_nr=get_nr_for_muscle(muscle_name, df_muscles)\n",
    "    data_tensor_muscle_i=raw_data_to_tensor[:,muscle_nr,:,:,:] #returns a tensor of size([16, 32, 11, 1404])\n",
    "    return data_tensor_muscle_i"
   ]
  },
  {
   "cell_type": "code",
   "execution_count": 198,
   "metadata": {},
   "outputs": [
    {
     "name": "stdout",
     "output_type": "stream",
     "text": [
      "function 'get_raw_data_for_muscle' has been called\n",
      "function 'get_nr_for_muscle' has been called\n",
      "For muscle name: RRF the index number is: 12 \n"
     ]
    }
   ],
   "source": [
    "data_tensor_muscle_i= get_raw_data_for_muscle(\"RRF\", df_muscles, raw_data_to_tensor)"
   ]
  },
  {
   "cell_type": "markdown",
   "metadata": {},
   "source": [
    "### Get the amplitude data for a muscle"
   ]
  },
  {
   "cell_type": "code",
   "execution_count": 199,
   "metadata": {},
   "outputs": [],
   "source": [
    "## Make a function that given a muscle name, returns the data tensor and amplitudes tensor related to this muscle. ##\n",
    "def get_amplitude_data_for_muscle(muscle_name, df_muscles, amplitude_data_to_tensor): # Input muscle_name Eg. \"Vlat\"\n",
    "    \"\"\"\n",
    "    Get amplitude data tensor\n",
    "    \n",
    "    Parameters:\n",
    "    - muscle_name String the name of the muscle \n",
    "    - df_muscle pandas df of the muscles and indeces\n",
    "    - amplitude_data 3D tensor all the amplitude data of all the muscles\n",
    "    Returns:\n",
    "    tuple with:\n",
    "    - amplitude_tensor_muscle_i 2D tensor with the amplitude data for the muscle\n",
    "    \"\"\"\n",
    "   \n",
    "    print(\"function 'gget_amplitude_data_for_muscle' has been called\")\n",
    "    muscle_nr=get_nr_for_muscle(muscle_name, df_muscles)\n",
    "    amplitude_tensor_muslce_i=amplitude_data_to_tensor[:, muscle_nr, :] #returns a tensor of size([16, 32])\n",
    "    \n",
    "    return amplitude_tensor_muslce_i \n",
    "\n",
    "   "
   ]
  },
  {
   "cell_type": "code",
   "execution_count": 200,
   "metadata": {},
   "outputs": [
    {
     "name": "stdout",
     "output_type": "stream",
     "text": [
      "function 'gget_amplitude_data_for_muscle' has been called\n",
      "function 'get_nr_for_muscle' has been called\n",
      "For muscle name: RRF the index number is: 12 \n"
     ]
    }
   ],
   "source": [
    "amplitude_tensor_muslce_i=get_amplitude_data_for_muscle(\"RRF\", df_muscles, amplitude_data_to_tensor)"
   ]
  },
  {
   "cell_type": "markdown",
   "metadata": {},
   "source": [
    "### Get the max EMG value for a muscle"
   ]
  },
  {
   "cell_type": "code",
   "execution_count": 201,
   "metadata": {},
   "outputs": [],
   "source": [
    "\n",
    "def get_max_emg(muscle_name, df_muscles, raw_data_to_tensor ): # Input muscle_name Eg. \"Vlat\"\n",
    "    \"\"\"\n",
    "    This function gets the max value out of all the EMG values of a muscle\n",
    "    \n",
    "    Parameters:\n",
    "    - muscle_name string the name of the muscle \n",
    "    - raw_data_to_tensor 5D tensor all the raw data of all the muscles\n",
    "\n",
    "    Returns:\n",
    "    - max_emg tensor the maximum emg value from all the values of the muscle, for normalisation\n",
    "    \"\"\"\n",
    "    print(\"function 'get_max_emg' has been called\")\n",
    "    muscle_nr= get_nr_for_muscle(muscle_name, df_muscles)\n",
    "    max_emg=np.nanmax(raw_data_to_tensor[:, muscle_nr, :, :, :])\n",
    "    max_emgs=torch.tensor(max_emg)  #get tensor\n",
    "    print(f\"max_emg: {max_emg}\")\n",
    "    return max_emg\n",
    "\n"
   ]
  },
  {
   "cell_type": "code",
   "execution_count": 202,
   "metadata": {},
   "outputs": [
    {
     "name": "stdout",
     "output_type": "stream",
     "text": [
      "function 'get_max_emg' has been called\n",
      "function 'get_nr_for_muscle' has been called\n",
      "For muscle name: RRF the index number is: 12 \n",
      "max_emg: 3.583035469055176\n"
     ]
    }
   ],
   "source": [
    "max_emg=get_max_emg(\"RRF\", df_muscles, raw_data_to_tensor) \n"
   ]
  },
  {
   "cell_type": "markdown",
   "metadata": {},
   "source": [
    "## Take a single EMG time series and computes its peak-to-peak time series."
   ]
  },
  {
   "cell_type": "markdown",
   "metadata": {},
   "source": [
    "### Get Peak to peak Value"
   ]
  },
  {
   "cell_type": "code",
   "execution_count": 205,
   "metadata": {},
   "outputs": [],
   "source": [
    "\n",
    "def get_peak_to_peak(EMG_time_series, window_size): \n",
    "    \"\"\"\n",
    "    This function returns an array and plot of peak to peak values for a given Time-series and window size\n",
    "    Parameters:\n",
    "    - EMG_time_series tensor an emg data series \n",
    "    - widow_size integer number of timepoints per window \n",
    "\n",
    "    Return:\n",
    "    - peak_to_peak_values tensor a tensor the peak to peak values for each windwo of the given time_series\n",
    "    \"\"\"\n",
    "    print(\"function 'get_peak_to_peak' has been called\")\n",
    "    \n",
    "    ### get peak_to_peak_value for each window ###\n",
    "    peak_to_peak_values=[]\n",
    "    windows_per_trial=EMG_time_series.unfold(0, window_size, 1)\n",
    "    for window in windows_per_trial:\n",
    "        max_y=np.nanmax(window) # find max and min for every window neglecting NAN\n",
    "        min_y=np.nanmin(window)\n",
    "        peak_to_peak_values.append(max_y-min_y) #calculate peak-to-peak for every window\n",
    "    peak_to_peak_values=torch.tensor(peak_to_peak_values)  #get tensor\n",
    "\n",
    "    ### set equal size for peak_to_peak_value and EMG_time_series (filled with zeros) ###\n",
    "    target_len = EMG_time_series.size(dim=0)\n",
    "    peak_to_peak_values=torch.nn.functional.pad(peak_to_peak_values, (0, target_len - peak_to_peak_values.size(dim=0)))\n",
    "    print(EMG_time_series.size())\n",
    "    print(peak_to_peak_values.size())\n",
    "    \n",
    "    ### plot results ###\n",
    "    figure, axis = plt.subplots(1, 2)\n",
    "    #Plot EMG values\n",
    "    axis[0].plot(EMG_time_series)\n",
    "    axis[0].set(ylabel='EMG response')\n",
    "    axis[0].set_title(\"Time series\")\n",
    "   \n",
    "    # Plot peak to peak values\n",
    "    axis[1].plot(peak_to_peak_values)\n",
    "    axis[1].set( ylabel='Peak-to_peak value')\n",
    "    axis[1].yaxis.set_label_position(\"right\")\n",
    "    axis[1].yaxis.tick_right()\n",
    "    axis[1].set_title(\"Peak to peak analysis of time series\")\n",
    "    plt.show()\n",
    "    \n",
    "    return peak_to_peak_values\n",
    "\n",
    "\n"
   ]
  },
  {
   "cell_type": "code",
   "execution_count": 209,
   "metadata": {},
   "outputs": [
    {
     "name": "stdout",
     "output_type": "stream",
     "text": [
      "function 'get_peak_to_peak' has been called\n",
      "torch.Size([1404])\n",
      "torch.Size([1404])\n"
     ]
    },
    {
     "data": {
      "image/png": "[encoded data removed]",
      "text/plain": [
       "<Figure size 640x480 with 2 Axes>"
      ]
     },
     "metadata": {},
     "output_type": "display_data"
    }
   ],
   "source": [
    "peak_to_peak_values= get_peak_to_peak(raw_data_to_tensor[12,12,21,4,:], 20)"
   ]
  },
  {
   "cell_type": "code",
   "execution_count": 40,
   "metadata": {},
   "outputs": [
    {
     "name": "stdout",
     "output_type": "stream",
     "text": [
      "    Unnamed: 0 muscle_name\n",
      "0            0         LST\n",
      "1            1         RST\n",
      "2            2         LTA\n",
      "3            3         LMG\n",
      "4            4        LSol\n",
      "5            5       LVLat\n",
      "6            6         LRF\n",
      "7            7         LIl\n",
      "8            8        RSol\n",
      "9            9         RMG\n",
      "10          10         RTA\n",
      "11          11       RVLat\n",
      "12          12         RRF\n",
      "13          13         RIl\n"
     ]
    }
   ],
   "source": [
    "print(df_muscles)"
   ]
  }
 ],
 "metadata": {
  "kernelspec": {
   "display_name": "Python 3.10.4 ('projectome_finder')",
   "language": "python",
   "name": "python3"
  },
  "language_info": {
   "codemirror_mode": {
    "name": "ipython",
    "version": 3
   },
   "file_extension": ".py",
   "mimetype": "text/x-python",
   "name": "python",
   "nbconvert_exporter": "python",
   "pygments_lexer": "ipython3",
   "version": "3.10.4"
  },
  "orig_nbformat": 4,
  "vscode": {
   "interpreter": {
    "hash": "f932c8e077b341d20504a7add15d58d55a3a6203500067dcddea991ea8b4378e"
   }
  }
 },
 "nbformat": 4,
 "nbformat_minor": 2
}
